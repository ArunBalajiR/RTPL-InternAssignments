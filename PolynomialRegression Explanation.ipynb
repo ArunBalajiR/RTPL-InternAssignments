{
 "cells": [
  {
   "cell_type": "markdown",
   "metadata": {},
   "source": [
    "Polynomial Regression"
   ]
  },
  {
   "cell_type": "markdown",
   "metadata": {},
   "source": [
    "In the previous session we have performed <a href = \"https://gitlab.com/sunilghimire/linear-regression-guide/-/blob/master/LinearRegression.ipynb\"> Simple Linear Regression </a> having one independent variable (X) and one dependent variable (y) which measure what extent there is a Linear relationship between two variables where the main purpose of linear regression is to 'predict' the value of the dependent variable based upon the values of ones or more independent variables. <br> And similarly we have performed <a href = \"https://gitlab.com/sunilghimire/multilinear-regression/-/blob/master/MultipleLinearRegression.ipynb\"> Multiple Linear Regression </a> which help us to analysis how much will the dependent vaariable change when we change the independent variables. <br>\n",
    "\n",
    "In this jupyter file I am going discussed about Polynomial Regression where polynomial regression is a type of linear regression in which provides best approximation of the relatonship between the independent variable \"X\" and dependent \"y\" that is modeled as polynomial of nth degree.\n",
    "\n"
   ]
  },
  {
   "cell_type": "markdown",
   "metadata": {},
   "source": [
    "## Importing the libraries"
   ]
  },
  {
   "cell_type": "code",
   "execution_count": 1,
   "metadata": {},
   "outputs": [],
   "source": [
    "import numpy as np\n",
    "import matplotlib.pyplot as plt\n",
    "import pandas as pd\n",
    "from sklearn.metrics import mean_squared_error, r2_score"
   ]
  },
  {
   "cell_type": "markdown",
   "metadata": {},
   "source": [
    "## Importing the dataset"
   ]
  },
  {
   "cell_type": "markdown",
   "metadata": {},
   "source": [
    "The below command is used to import CSV dataset"
   ]
  },
  {
   "cell_type": "code",
   "execution_count": 2,
   "metadata": {},
   "outputs": [
    {
     "data": {
      "text/html": [
       "<div>\n",
       "<style scoped>\n",
       "    .dataframe tbody tr th:only-of-type {\n",
       "        vertical-align: middle;\n",
       "    }\n",
       "\n",
       "    .dataframe tbody tr th {\n",
       "        vertical-align: top;\n",
       "    }\n",
       "\n",
       "    .dataframe thead th {\n",
       "        text-align: right;\n",
       "    }\n",
       "</style>\n",
       "<table border=\"1\" class=\"dataframe\">\n",
       "  <thead>\n",
       "    <tr style=\"text-align: right;\">\n",
       "      <th></th>\n",
       "      <th>Position</th>\n",
       "      <th>Level</th>\n",
       "      <th>Salary</th>\n",
       "    </tr>\n",
       "  </thead>\n",
       "  <tbody>\n",
       "    <tr>\n",
       "      <th>0</th>\n",
       "      <td>Business Analyst</td>\n",
       "      <td>1</td>\n",
       "      <td>45000</td>\n",
       "    </tr>\n",
       "    <tr>\n",
       "      <th>1</th>\n",
       "      <td>Junior Consultant</td>\n",
       "      <td>2</td>\n",
       "      <td>50000</td>\n",
       "    </tr>\n",
       "    <tr>\n",
       "      <th>2</th>\n",
       "      <td>Senior Consultant</td>\n",
       "      <td>3</td>\n",
       "      <td>60000</td>\n",
       "    </tr>\n",
       "    <tr>\n",
       "      <th>3</th>\n",
       "      <td>Manager</td>\n",
       "      <td>4</td>\n",
       "      <td>80000</td>\n",
       "    </tr>\n",
       "    <tr>\n",
       "      <th>4</th>\n",
       "      <td>Country Manager</td>\n",
       "      <td>5</td>\n",
       "      <td>110000</td>\n",
       "    </tr>\n",
       "    <tr>\n",
       "      <th>5</th>\n",
       "      <td>Region Manager</td>\n",
       "      <td>6</td>\n",
       "      <td>150000</td>\n",
       "    </tr>\n",
       "    <tr>\n",
       "      <th>6</th>\n",
       "      <td>Partner</td>\n",
       "      <td>7</td>\n",
       "      <td>200000</td>\n",
       "    </tr>\n",
       "    <tr>\n",
       "      <th>7</th>\n",
       "      <td>Senior Partner</td>\n",
       "      <td>8</td>\n",
       "      <td>300000</td>\n",
       "    </tr>\n",
       "    <tr>\n",
       "      <th>8</th>\n",
       "      <td>C-level</td>\n",
       "      <td>9</td>\n",
       "      <td>500000</td>\n",
       "    </tr>\n",
       "    <tr>\n",
       "      <th>9</th>\n",
       "      <td>CEO</td>\n",
       "      <td>10</td>\n",
       "      <td>1000000</td>\n",
       "    </tr>\n",
       "  </tbody>\n",
       "</table>\n",
       "</div>"
      ],
      "text/plain": [
       "            Position  Level   Salary\n",
       "0   Business Analyst      1    45000\n",
       "1  Junior Consultant      2    50000\n",
       "2  Senior Consultant      3    60000\n",
       "3            Manager      4    80000\n",
       "4    Country Manager      5   110000\n",
       "5     Region Manager      6   150000\n",
       "6            Partner      7   200000\n",
       "7     Senior Partner      8   300000\n",
       "8            C-level      9   500000\n",
       "9                CEO     10  1000000"
      ]
     },
     "execution_count": 2,
     "metadata": {},
     "output_type": "execute_result"
    }
   ],
   "source": [
    "dataset = pd.read_csv('./dataset./Position_Salaries.csv')\n",
    "dataset.head(10)"
   ]
  },
  {
   "cell_type": "markdown",
   "metadata": {},
   "source": [
    "Let's check the number of rows and columns in our dataset where there are 10 number of rows and 3 number of columns."
   ]
  },
  {
   "cell_type": "code",
   "execution_count": 3,
   "metadata": {},
   "outputs": [
    {
     "data": {
      "text/plain": [
       "(10, 3)"
      ]
     },
     "execution_count": 3,
     "metadata": {},
     "output_type": "execute_result"
    }
   ],
   "source": [
    "dataset.shape"
   ]
  },
  {
   "cell_type": "markdown",
   "metadata": {},
   "source": [
    "Pandas's describe() method is used to view basic statistical details like percentile, mean, std etc."
   ]
  },
  {
   "cell_type": "code",
   "execution_count": 4,
   "metadata": {},
   "outputs": [
    {
     "data": {
      "text/html": [
       "<div>\n",
       "<style scoped>\n",
       "    .dataframe tbody tr th:only-of-type {\n",
       "        vertical-align: middle;\n",
       "    }\n",
       "\n",
       "    .dataframe tbody tr th {\n",
       "        vertical-align: top;\n",
       "    }\n",
       "\n",
       "    .dataframe thead th {\n",
       "        text-align: right;\n",
       "    }\n",
       "</style>\n",
       "<table border=\"1\" class=\"dataframe\">\n",
       "  <thead>\n",
       "    <tr style=\"text-align: right;\">\n",
       "      <th></th>\n",
       "      <th>Level</th>\n",
       "      <th>Salary</th>\n",
       "    </tr>\n",
       "  </thead>\n",
       "  <tbody>\n",
       "    <tr>\n",
       "      <th>count</th>\n",
       "      <td>10.00000</td>\n",
       "      <td>10.000000</td>\n",
       "    </tr>\n",
       "    <tr>\n",
       "      <th>mean</th>\n",
       "      <td>5.50000</td>\n",
       "      <td>249500.000000</td>\n",
       "    </tr>\n",
       "    <tr>\n",
       "      <th>std</th>\n",
       "      <td>3.02765</td>\n",
       "      <td>299373.883668</td>\n",
       "    </tr>\n",
       "    <tr>\n",
       "      <th>min</th>\n",
       "      <td>1.00000</td>\n",
       "      <td>45000.000000</td>\n",
       "    </tr>\n",
       "    <tr>\n",
       "      <th>25%</th>\n",
       "      <td>3.25000</td>\n",
       "      <td>65000.000000</td>\n",
       "    </tr>\n",
       "    <tr>\n",
       "      <th>50%</th>\n",
       "      <td>5.50000</td>\n",
       "      <td>130000.000000</td>\n",
       "    </tr>\n",
       "    <tr>\n",
       "      <th>75%</th>\n",
       "      <td>7.75000</td>\n",
       "      <td>275000.000000</td>\n",
       "    </tr>\n",
       "    <tr>\n",
       "      <th>max</th>\n",
       "      <td>10.00000</td>\n",
       "      <td>1000000.000000</td>\n",
       "    </tr>\n",
       "  </tbody>\n",
       "</table>\n",
       "</div>"
      ],
      "text/plain": [
       "          Level          Salary\n",
       "count  10.00000       10.000000\n",
       "mean    5.50000   249500.000000\n",
       "std     3.02765   299373.883668\n",
       "min     1.00000    45000.000000\n",
       "25%     3.25000    65000.000000\n",
       "50%     5.50000   130000.000000\n",
       "75%     7.75000   275000.000000\n",
       "max    10.00000  1000000.000000"
      ]
     },
     "execution_count": 4,
     "metadata": {},
     "output_type": "execute_result"
    }
   ],
   "source": [
    "dataset.describe()"
   ]
  },
  {
   "cell_type": "markdown",
   "metadata": {},
   "source": [
    "Now, our next task is to seperate features and label from our dataset. Our dataset contains only 3 columns where second column i.e. Level is the independent variables 'X' and last column salary is the dependent variable 'y' which is going to be predict. We want to predict Salary depending upon the Level. "
   ]
  },
  {
   "cell_type": "code",
   "execution_count": 4,
   "metadata": {},
   "outputs": [
    {
     "data": {
      "text/plain": [
       "array([[ 1],\n",
       "       [ 2],\n",
       "       [ 3],\n",
       "       [ 4],\n",
       "       [ 5],\n",
       "       [ 6],\n",
       "       [ 7],\n",
       "       [ 8],\n",
       "       [ 9],\n",
       "       [10]], dtype=int64)"
      ]
     },
     "execution_count": 4,
     "metadata": {},
     "output_type": "execute_result"
    }
   ],
   "source": [
    "features = dataset.iloc[:, dataset.columns == 'Level'].values\n",
    "features"
   ]
  },
  {
   "cell_type": "code",
   "execution_count": 5,
   "metadata": {},
   "outputs": [
    {
     "data": {
      "text/plain": [
       "array([[  45000],\n",
       "       [  50000],\n",
       "       [  60000],\n",
       "       [  80000],\n",
       "       [ 110000],\n",
       "       [ 150000],\n",
       "       [ 200000],\n",
       "       [ 300000],\n",
       "       [ 500000],\n",
       "       [1000000]], dtype=int64)"
      ]
     },
     "execution_count": 5,
     "metadata": {},
     "output_type": "execute_result"
    }
   ],
   "source": [
    "label = dataset.iloc[:, dataset.columns == 'Salary'].values\n",
    "label"
   ]
  },
  {
   "cell_type": "markdown",
   "metadata": {},
   "source": [
    "## Generated data looks like"
   ]
  },
  {
   "cell_type": "code",
   "execution_count": 6,
   "metadata": {},
   "outputs": [
    {
     "data": {
      "image/png": "[encoded data removed]",
      "text/plain": [
       "<Figure size 432x288 with 1 Axes>"
      ]
     },
     "metadata": {
      "needs_background": "light"
     },
     "output_type": "display_data"
    }
   ],
   "source": [
    "plt.scatter(features,label,s=10)\n",
    "plt.title('Scatter plot', fontweight='bold', fontsize = '15', color = \"gray\")\n",
    "plt.xlabel('Position level', fontweight='bold', fontsize = '15', color = \"gray\")\n",
    "plt.ylabel('Salary', fontweight='bold', fontsize = '15', color = \"gray\")\n",
    "plt.grid(b=True, which='major', color='#666666', linestyle='-')\n",
    "plt.show()"
   ]
  },
  {
   "cell_type": "markdown",
   "metadata": {},
   "source": [
    "## Applying Linear Regression model to this dataset"
   ]
  },
  {
   "cell_type": "markdown",
   "metadata": {},
   "source": [
    "In this step we are Visualizing the Linear Regression results using scatter plot"
   ]
  },
  {
   "cell_type": "code",
   "execution_count": 8,
   "metadata": {},
   "outputs": [
    {
     "data": {
      "image/png": "[encoded data removed]",
      "text/plain": [
       "<Figure size 432x288 with 1 Axes>"
      ]
     },
     "metadata": {
      "needs_background": "light"
     },
     "output_type": "display_data"
    },
    {
     "name": "stdout",
     "output_type": "stream",
     "text": [
      "The R2 score for this model is 0.6690412331929895\n"
     ]
    }
   ],
   "source": [
    "from sklearn.linear_model import LinearRegression \n",
    "\n",
    "model_linear  = LinearRegression()\n",
    "model_linear.fit(features,label)\n",
    "y_pred_linear = model_linear.predict(features)\n",
    "\n",
    "plt.scatter(features,label, s=10)\n",
    "plt.title('Linear Regression',  fontweight='bold', fontsize = '15', color = \"gray\"),  \n",
    "plt.plot(features, y_pred_linear, color = 'r')\n",
    "plt.xlabel('Position Level', fontweight='bold', fontsize = '15', color = \"gray\")\n",
    "plt.ylabel('Salary', fontweight='bold', fontsize = '15', color = \"gray\")\n",
    "plt.grid(b=True, which='major', color='#666666', linestyle='-')\n",
    "plt.show()\n",
    "print(\"The R2 score for this model is\",r2_score(label,y_pred_linear))"
   ]
  },
  {
   "cell_type": "markdown",
   "metadata": {},
   "source": [
    "The above graph is unable to capture the patterns in the data. This is an example of under-fitting which is unable to capture the underlying trend of the data and model does not fit the data well enough. <br>\n",
    "To overcome under-fiiting in our model, we need to increase the complexity of the model. When computing the R2 score of this lineare line gives 0.6690412331929895<br>\n",
    "\n",
    "The equation for the linear model is shown below: <br>\n",
    "y = $\\beta_0$ + $\\beta_1X$ ......... (i)\n",
    "\n",
    "To generate high order of equation we can add powers to the original features as new features. The equation  (i) can be transformed to: <br>\n",
    "\n",
    "y = $\\beta_0$ + $\\beta_1X^1$ + $\\beta_1X^2$ + ... $\\beta_nX^n$......... (ii) <br>\n",
    "where y is the predicted outcome value for the polynomial model with regression coefficients $\\beta_1$ to $\\beta_n$ for each degress and Y intercept $\\beta_0$. The power of predictors raised to 1 to n. <br>\n",
    "\n",
    "When n = 2 polynomial forms quadractic expresssion with parabolic curve. <br>\n",
    "\n",
    "When n = 3 polynomial forms a cubic curve <br>\n",
    "\n",
    "When n = 4 polynomial forms a quartic expression.\n",
    "\n",
    "Advantages of polynomial regression are:\n",
    "    1. It give more reliable results with the large number of obeservatins.\n",
    "    2. It do not extrapolate the observed values beyond the limits.\n",
    "    3. The degree of polynomial equations can be scale down when higher degree polynomial cause overflow\n",
    "\n",
    "We will use the PolynomialFeatures class given by scikit-learn to translate the original functions into their higher order terms"
   ]
  },
  {
   "cell_type": "code",
   "execution_count": 11,
   "metadata": {},
   "outputs": [
    {
     "name": "stdout",
     "output_type": "stream",
     "text": [
      "Enter degree: \n",
      "4\n"
     ]
    }
   ],
   "source": [
    "from sklearn.preprocessing import PolynomialFeatures\n",
    "degree = int(input('Enter degree: \\n'))\n",
    "\n",
    "def create_polynomial_regression_model(degree):\n",
    "    poly_reg = PolynomialFeatures(degree=degree)\n",
    "    X_poly = poly_reg.fit_transform(features)\n",
    "    lin_reg = LinearRegression()\n",
    "    lin_reg.fit(X_poly, label)\n",
    "\n",
    "    plt.scatter(features, label, color='red')\n",
    "    plt.plot(features,lin_reg.predict(poly_reg.fit_transform(features)), color='blue')\n",
    "    plt.title('Polynomial Regression', fontweight='bold', fontsize = '15', color = \"gray\")\n",
    "    plt.xlabel('Position level',  fontweight='bold', fontsize = '15', color = \"gray\")\n",
    "    plt.ylabel('Salary', fontweight='bold', fontsize = '15', color = \"gray\")\n",
    "    plt.grid(b=True, which='major', color='#666666', linestyle='-')\n",
    "\n",
    "    plt.show()\n",
    "    return \n"
   ]
  },
  {
   "cell_type": "markdown",
   "metadata": {},
   "source": [
    "Fitting a linear regression model on the transformed feaatures gives the below plot."
   ]
  },
  {
   "cell_type": "code",
   "execution_count": 12,
   "metadata": {},
   "outputs": [
    {
     "data": {
      "image/png": "[encoded data removed]",
      "text/plain": [
       "<Figure size 432x288 with 1 Axes>"
      ]
     },
     "metadata": {
      "needs_background": "light"
     },
     "output_type": "display_data"
    }
   ],
   "source": [
    "create_polynomial_regression_model(degree)"
   ]
  },
  {
   "cell_type": "markdown",
   "metadata": {},
   "source": [
    "It is quite clear from the plot that the quadratic curve is able to fit the data scatter than the linear line."
   ]
  },
  {
   "cell_type": "markdown",
   "metadata": {},
   "source": [
    "Computing the RMSE and $R^2$ of the above plot gives following result:\n",
    "where $R^2$ is statistical measure of how close the data are to be fitted on regression line that represents the proportion of the variance for a dependent variable that's explained by an independent variable for the variables in a regression model also known as coefficient of determination. <br>\n",
    "If the $R^2$ of a model is 0.5 that means observed line is half of the observed variation. <br>\n",
    "\n",
    "Root Mean Square Error (RMSE) is the standard deviation of the residuals (prediction errors) where it tells how concentrated the data is around the line of best fit."
   ]
  },
  {
   "cell_type": "code",
   "execution_count": 13,
   "metadata": {},
   "outputs": [
    {
     "name": "stdout",
     "output_type": "stream",
     "text": [
      "Enter Degree: \n",
      "4\n",
      "The RMSE of the polynomial regression model is: 14503.234909626832\n",
      "The R2 score of the polynomial regression model is: 0.9973922891706614\n"
     ]
    }
   ],
   "source": [
    "from sklearn.metrics import mean_squared_error, r2_score\n",
    "\n",
    "entry_degree = int(input('Enter Degree: \\n'))\n",
    "polynomial_features= PolynomialFeatures(entry_degree)\n",
    "x_poly = polynomial_features.fit_transform(features)\n",
    "\n",
    "model = LinearRegression()\n",
    "model.fit(x_poly, label)\n",
    "y_poly_pred = model.predict(x_poly)\n",
    "\n",
    "rmse = np.sqrt(mean_squared_error(label,y_poly_pred))\n",
    "r2 = r2_score(label,y_poly_pred)\n",
    "print('The RMSE of the polynomial regression model is:',rmse)\n",
    "print('The R2 score of the polynomial regression model is:',r2) "
   ]
  },
  {
   "cell_type": "markdown",
   "metadata": {},
   "source": [
    "The $R^2$ score came out to be 0.99 and plot was shown in above graph. Here, degree 4 gives the much useful result.\n",
    "<br>\n",
    "So next time you find that your data is not just linear for regression, use the polynomial features to play around with your model to get the best fit for your train, check and hold-out package."
   ]
  },
  {
   "cell_type": "code",
   "execution_count": 15,
   "metadata": {},
   "outputs": [
    {
     "name": "stdout",
     "output_type": "stream",
     "text": [
      "Enter number of degree: \n",
      "4\n"
     ]
    },
    {
     "data": {
      "text/plain": [
       "LinearRegression(copy_X=True, fit_intercept=True, n_jobs=None, normalize=False)"
      ]
     },
     "execution_count": 15,
     "metadata": {},
     "output_type": "execute_result"
    }
   ],
   "source": [
    "degree = int(input(\"Enter number of degree: \\n\"))\n",
    "poly_reg = PolynomialFeatures(degree)\n",
    "X_poly = poly_reg.fit_transform(features)\n",
    "lin_reg = LinearRegression()\n",
    "lin_reg.fit(X_poly, label)"
   ]
  },
  {
   "cell_type": "markdown",
   "metadata": {},
   "source": [
    "The below command helps to predict the new result for linear and polynomial model."
   ]
  },
  {
   "cell_type": "code",
   "execution_count": 16,
   "metadata": {},
   "outputs": [
    {
     "data": {
      "text/plain": [
       "array([[330378.78787879]])"
      ]
     },
     "execution_count": 16,
     "metadata": {},
     "output_type": "execute_result"
    }
   ],
   "source": [
    "# Predicting a new result with Linear Regression\n",
    "test_X1 = np.array(6.5).reshape(-1, 1)\n",
    "model_linear.predict(test_X1)"
   ]
  },
  {
   "cell_type": "code",
   "execution_count": 17,
   "metadata": {},
   "outputs": [
    {
     "data": {
      "text/plain": [
       "array([[158862.45265153]])"
      ]
     },
     "execution_count": 17,
     "metadata": {},
     "output_type": "execute_result"
    }
   ],
   "source": [
    "# Predicting a new result with Polynomial Regression\n",
    "test_X2 = np.array(6.5).reshape(-1, 1)\n",
    "lin_reg.predict(poly_reg.fit_transform(test_X2))"
   ]
  },
  {
   "cell_type": "code",
   "execution_count": null,
   "metadata": {},
   "outputs": [],
   "source": []
  }
 ],
 "metadata": {
  "kernelspec": {
   "display_name": "Python 3",
   "language": "python",
   "name": "python3"
  },
  "language_info": {
   "codemirror_mode": {
    "name": "ipython",
    "version": 3
   },
   "file_extension": ".py",
   "mimetype": "text/x-python",
   "name": "python",
   "nbconvert_exporter": "python",
   "pygments_lexer": "ipython3",
   "version": "3.7.7"
  }
 },
 "nbformat": 4,
 "nbformat_minor": 2
}
