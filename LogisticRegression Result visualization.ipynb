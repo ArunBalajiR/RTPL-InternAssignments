{
 "cells": [
  {
   "cell_type": "markdown",
   "metadata": {},
   "source": [
    "Logistic Regression"
   ]
  },
  {
   "cell_type": "markdown",
   "metadata": {},
   "source": [
    "In this lab session we are going to learn about classification problems which is predict analysis algorithm and based on the concept of probability. Thus, this alogorithm is called Logistic Regression which is statistical method for anlayzing a dataset in which there are one or more independent variables that determine an outcome where outcome measured with a dichotomous variable in which there are only two possible outcomes. <br>\n",
    "\n",
    "For Example,\n",
    "1. To predict whether a email is Spam (1) or Ham (0)\n",
    "2. Whether a tumor is malignant (1) or not (0)\n",
    "<br>\n",
    "\n",
    "Consider a scenario in which we need to sort out whether an email is spam or not, if we use linear regression for this problem, there is need of setting up a threshold based on which classification can be done. Thus, Linear regression may be inferred as not suitable for classification problem and not bounded then the concept of Logistic Regression comes in that ranges from 0 to 1.\n",
    "\n",
    "The Logistic Regression is named for the function used as the core of the method, the logistic function (sigmoid function) which was developed by statisticians to explain the properties growth in ecology, rising rapidly and maxing out the envoironmental carrying capacity. This function is S-shaped curve that can take any real-valued number and map it into a value between 0 and 1, but never exactly exactly at those points. \n",
    "\n",
    "\\begin{equation*}\n",
    "S =  \\frac{1}{(1 + e^{-x})}.\n",
    "\\end{equation*}\n",
    "\n",
    "where e is the base of the natural logarithms. "
   ]
  },
  {
   "cell_type": "markdown",
   "metadata": {},
   "source": [
    "## Importing the libraries"
   ]
  },
  {
   "cell_type": "code",
   "execution_count": 1,
   "metadata": {},
   "outputs": [],
   "source": [
    "import numpy as np\n",
    "import matplotlib.pyplot as plt\n",
    "import pandas as pd\n"
   ]
  },
  {
   "cell_type": "markdown",
   "metadata": {},
   "source": [
    "## Importing the dataset"
   ]
  },
  {
   "cell_type": "markdown",
   "metadata": {},
   "source": [
    "The below command is used to import CSV dataset"
   ]
  },
  {
   "cell_type": "code",
   "execution_count": 2,
   "metadata": {},
   "outputs": [
    {
     "data": {
      "text/html": [
       "<div>\n",
       "<style scoped>\n",
       "    .dataframe tbody tr th:only-of-type {\n",
       "        vertical-align: middle;\n",
       "    }\n",
       "\n",
       "    .dataframe tbody tr th {\n",
       "        vertical-align: top;\n",
       "    }\n",
       "\n",
       "    .dataframe thead th {\n",
       "        text-align: right;\n",
       "    }\n",
       "</style>\n",
       "<table border=\"1\" class=\"dataframe\">\n",
       "  <thead>\n",
       "    <tr style=\"text-align: right;\">\n",
       "      <th></th>\n",
       "      <th>User ID</th>\n",
       "      <th>Gender</th>\n",
       "      <th>Age</th>\n",
       "      <th>EstimatedSalary</th>\n",
       "      <th>Purchased</th>\n",
       "    </tr>\n",
       "  </thead>\n",
       "  <tbody>\n",
       "    <tr>\n",
       "      <th>0</th>\n",
       "      <td>15624510</td>\n",
       "      <td>Male</td>\n",
       "      <td>19</td>\n",
       "      <td>19000</td>\n",
       "      <td>0</td>\n",
       "    </tr>\n",
       "    <tr>\n",
       "      <th>1</th>\n",
       "      <td>15810944</td>\n",
       "      <td>Male</td>\n",
       "      <td>35</td>\n",
       "      <td>20000</td>\n",
       "      <td>0</td>\n",
       "    </tr>\n",
       "    <tr>\n",
       "      <th>2</th>\n",
       "      <td>15668575</td>\n",
       "      <td>Female</td>\n",
       "      <td>26</td>\n",
       "      <td>43000</td>\n",
       "      <td>0</td>\n",
       "    </tr>\n",
       "    <tr>\n",
       "      <th>3</th>\n",
       "      <td>15603246</td>\n",
       "      <td>Female</td>\n",
       "      <td>27</td>\n",
       "      <td>57000</td>\n",
       "      <td>0</td>\n",
       "    </tr>\n",
       "    <tr>\n",
       "      <th>4</th>\n",
       "      <td>15804002</td>\n",
       "      <td>Male</td>\n",
       "      <td>19</td>\n",
       "      <td>76000</td>\n",
       "      <td>0</td>\n",
       "    </tr>\n",
       "  </tbody>\n",
       "</table>\n",
       "</div>"
      ],
      "text/plain": [
       "    User ID  Gender  Age  EstimatedSalary  Purchased\n",
       "0  15624510    Male   19            19000          0\n",
       "1  15810944    Male   35            20000          0\n",
       "2  15668575  Female   26            43000          0\n",
       "3  15603246  Female   27            57000          0\n",
       "4  15804002    Male   19            76000          0"
      ]
     },
     "execution_count": 2,
     "metadata": {},
     "output_type": "execute_result"
    }
   ],
   "source": [
    "dataset = pd.read_csv('./dataset./Social_Network_Ads.csv')\n",
    "dataset.head()"
   ]
  },
  {
   "cell_type": "markdown",
   "metadata": {},
   "source": [
    "## To check whether cell is empty or not"
   ]
  },
  {
   "cell_type": "code",
   "execution_count": 3,
   "metadata": {},
   "outputs": [
    {
     "data": {
      "text/plain": [
       "User ID            False\n",
       "Gender             False\n",
       "Age                False\n",
       "EstimatedSalary    False\n",
       "Purchased          False\n",
       "dtype: bool"
      ]
     },
     "execution_count": 3,
     "metadata": {},
     "output_type": "execute_result"
    }
   ],
   "source": [
    "dataset.isnull().any()"
   ]
  },
  {
   "cell_type": "code",
   "execution_count": 4,
   "metadata": {},
   "outputs": [
    {
     "data": {
      "image/png": "[encoded data removed]",
      "text/plain": [
       "<Figure size 432x288 with 1 Axes>"
      ]
     },
     "metadata": {
      "needs_background": "light"
     },
     "output_type": "display_data"
    }
   ],
   "source": [
    "classes_count = pd.value_counts(dataset['Purchased'],sort = True).sort_index()\n",
    "classes_count.plot(kind='bar', color = \"Gray\")\n",
    "plt.title('Purchased Class Histogram', fontweight='bold', fontsize = '15', color = \"gray\")\n",
    "plt.xlabel('Class', fontweight='bold', fontsize = '15', color = \"gray\")\n",
    "plt.ylabel('Frequency', fontweight='bold', fontsize = '15', color = \"gray\")\n",
    "plt.grid(b=True, which='major', color='#666666', linestyle='-')\n",
    "plt.show()"
   ]
  },
  {
   "cell_type": "markdown",
   "metadata": {},
   "source": [
    "Let's checlk number of rows and columns in our dataset where there are 400 number of rows and 5 number of columns"
   ]
  },
  {
   "cell_type": "code",
   "execution_count": 5,
   "metadata": {},
   "outputs": [
    {
     "data": {
      "text/plain": [
       "(400, 5)"
      ]
     },
     "execution_count": 5,
     "metadata": {},
     "output_type": "execute_result"
    }
   ],
   "source": [
    "dataset.shape"
   ]
  },
  {
   "cell_type": "markdown",
   "metadata": {},
   "source": [
    "Pandas's describe() method is used to view basic statistical details like percentile, mean, std etc."
   ]
  },
  {
   "cell_type": "code",
   "execution_count": 6,
   "metadata": {},
   "outputs": [
    {
     "data": {
      "text/html": [
       "<div>\n",
       "<style scoped>\n",
       "    .dataframe tbody tr th:only-of-type {\n",
       "        vertical-align: middle;\n",
       "    }\n",
       "\n",
       "    .dataframe tbody tr th {\n",
       "        vertical-align: top;\n",
       "    }\n",
       "\n",
       "    .dataframe thead th {\n",
       "        text-align: right;\n",
       "    }\n",
       "</style>\n",
       "<table border=\"1\" class=\"dataframe\">\n",
       "  <thead>\n",
       "    <tr style=\"text-align: right;\">\n",
       "      <th></th>\n",
       "      <th>User ID</th>\n",
       "      <th>Age</th>\n",
       "      <th>EstimatedSalary</th>\n",
       "      <th>Purchased</th>\n",
       "    </tr>\n",
       "  </thead>\n",
       "  <tbody>\n",
       "    <tr>\n",
       "      <th>count</th>\n",
       "      <td>4.000000e+02</td>\n",
       "      <td>400.000000</td>\n",
       "      <td>400.000000</td>\n",
       "      <td>400.000000</td>\n",
       "    </tr>\n",
       "    <tr>\n",
       "      <th>mean</th>\n",
       "      <td>1.569154e+07</td>\n",
       "      <td>37.655000</td>\n",
       "      <td>69742.500000</td>\n",
       "      <td>0.357500</td>\n",
       "    </tr>\n",
       "    <tr>\n",
       "      <th>std</th>\n",
       "      <td>7.165832e+04</td>\n",
       "      <td>10.482877</td>\n",
       "      <td>34096.960282</td>\n",
       "      <td>0.479864</td>\n",
       "    </tr>\n",
       "    <tr>\n",
       "      <th>min</th>\n",
       "      <td>1.556669e+07</td>\n",
       "      <td>18.000000</td>\n",
       "      <td>15000.000000</td>\n",
       "      <td>0.000000</td>\n",
       "    </tr>\n",
       "    <tr>\n",
       "      <th>25%</th>\n",
       "      <td>1.562676e+07</td>\n",
       "      <td>29.750000</td>\n",
       "      <td>43000.000000</td>\n",
       "      <td>0.000000</td>\n",
       "    </tr>\n",
       "    <tr>\n",
       "      <th>50%</th>\n",
       "      <td>1.569434e+07</td>\n",
       "      <td>37.000000</td>\n",
       "      <td>70000.000000</td>\n",
       "      <td>0.000000</td>\n",
       "    </tr>\n",
       "    <tr>\n",
       "      <th>75%</th>\n",
       "      <td>1.575036e+07</td>\n",
       "      <td>46.000000</td>\n",
       "      <td>88000.000000</td>\n",
       "      <td>1.000000</td>\n",
       "    </tr>\n",
       "    <tr>\n",
       "      <th>max</th>\n",
       "      <td>1.581524e+07</td>\n",
       "      <td>60.000000</td>\n",
       "      <td>150000.000000</td>\n",
       "      <td>1.000000</td>\n",
       "    </tr>\n",
       "  </tbody>\n",
       "</table>\n",
       "</div>"
      ],
      "text/plain": [
       "            User ID         Age  EstimatedSalary   Purchased\n",
       "count  4.000000e+02  400.000000       400.000000  400.000000\n",
       "mean   1.569154e+07   37.655000     69742.500000    0.357500\n",
       "std    7.165832e+04   10.482877     34096.960282    0.479864\n",
       "min    1.556669e+07   18.000000     15000.000000    0.000000\n",
       "25%    1.562676e+07   29.750000     43000.000000    0.000000\n",
       "50%    1.569434e+07   37.000000     70000.000000    0.000000\n",
       "75%    1.575036e+07   46.000000     88000.000000    1.000000\n",
       "max    1.581524e+07   60.000000    150000.000000    1.000000"
      ]
     },
     "execution_count": 6,
     "metadata": {},
     "output_type": "execute_result"
    }
   ],
   "source": [
    "dataset.describe()"
   ]
  },
  {
   "cell_type": "code",
   "execution_count": 7,
   "metadata": {},
   "outputs": [
    {
     "name": "stdout",
     "output_type": "stream",
     "text": [
      "Qualified person: (143, 5)\n",
      "Not qualified person: (257, 5)\n"
     ]
    }
   ],
   "source": [
    "qualified = dataset[dataset['Purchased'] == 1]\n",
    "non_qualified = dataset[dataset['Purchased'] == 0]\n",
    "print('Qualified person:' , qualified.shape)\n",
    "print('Not qualified person:' , non_qualified.shape)"
   ]
  },
  {
   "cell_type": "markdown",
   "metadata": {},
   "source": [
    "Pandas's value_counts() method is the built in pandas function that returns an object containing counts of unique value in sorted order. "
   ]
  },
  {
   "cell_type": "code",
   "execution_count": 8,
   "metadata": {},
   "outputs": [
    {
     "data": {
      "text/plain": [
       "0    257\n",
       "1    143\n",
       "Name: Purchased, dtype: int64"
      ]
     },
     "execution_count": 8,
     "metadata": {},
     "output_type": "execute_result"
    }
   ],
   "source": [
    "dataset.Purchased.value_counts()"
   ]
  },
  {
   "cell_type": "markdown",
   "metadata": {},
   "source": [
    "## Describing EstimatedSalary Column"
   ]
  },
  {
   "cell_type": "code",
   "execution_count": 9,
   "metadata": {},
   "outputs": [
    {
     "name": "stdout",
     "output_type": "stream",
     "text": [
      "count       143.000000\n",
      "mean      86272.727273\n",
      "std       42064.200064\n",
      "min       20000.000000\n",
      "25%       41000.000000\n",
      "50%       90000.000000\n",
      "75%      122500.000000\n",
      "max      150000.000000\n",
      "Name: EstimatedSalary, dtype: float64\n"
     ]
    }
   ],
   "source": [
    "print(qualified.EstimatedSalary.describe())"
   ]
  },
  {
   "cell_type": "markdown",
   "metadata": {},
   "source": [
    "## Describing Age column"
   ]
  },
  {
   "cell_type": "code",
   "execution_count": 10,
   "metadata": {},
   "outputs": [
    {
     "name": "stdout",
     "output_type": "stream",
     "text": [
      "count       257.000000\n",
      "mean      60544.747082\n",
      "std       24351.570102\n",
      "min       15000.000000\n",
      "25%       44000.000000\n",
      "50%       61000.000000\n",
      "75%       77000.000000\n",
      "max      141000.000000\n",
      "Name: EstimatedSalary, dtype: float64\n"
     ]
    }
   ],
   "source": [
    "print(non_qualified.EstimatedSalary.describe())"
   ]
  },
  {
   "cell_type": "markdown",
   "metadata": {},
   "source": [
    "## Data Processing"
   ]
  },
  {
   "cell_type": "markdown",
   "metadata": {},
   "source": [
    "StandardScaler performs the task of Standardization. Usually a dataset contains variables thar are different scale. <br>\n",
    "For Example:\n",
    "An Employee dataset will contain AGE column with values on Scale 20-70 and Salary column with Values on scale 10000 - 100000.\n",
    "As these two columns are different in scale, they are Standardized to have common scale while building machine learning model"
   ]
  },
  {
   "cell_type": "code",
   "execution_count": 11,
   "metadata": {},
   "outputs": [],
   "source": [
    "from sklearn.preprocessing import StandardScaler\n",
    "scaler = StandardScaler()\n",
    "dataset['normalized_age'] = scaler.fit_transform(dataset['Age'].values.reshape(-1,1))\n",
    "dataset['normalized_salary'] = scaler.fit_transform(dataset['EstimatedSalary'].values.reshape(-1,1))\n"
   ]
  },
  {
   "cell_type": "markdown",
   "metadata": {},
   "source": [
    "## Droping unnecessary column"
   ]
  },
  {
   "cell_type": "code",
   "execution_count": 12,
   "metadata": {},
   "outputs": [],
   "source": [
    "dataset = dataset.drop(['User ID','Gender','Age', 'EstimatedSalary'],axis = 1)"
   ]
  },
  {
   "cell_type": "code",
   "execution_count": 13,
   "metadata": {},
   "outputs": [
    {
     "data": {
      "text/html": [
       "<div>\n",
       "<style scoped>\n",
       "    .dataframe tbody tr th:only-of-type {\n",
       "        vertical-align: middle;\n",
       "    }\n",
       "\n",
       "    .dataframe tbody tr th {\n",
       "        vertical-align: top;\n",
       "    }\n",
       "\n",
       "    .dataframe thead th {\n",
       "        text-align: right;\n",
       "    }\n",
       "</style>\n",
       "<table border=\"1\" class=\"dataframe\">\n",
       "  <thead>\n",
       "    <tr style=\"text-align: right;\">\n",
       "      <th></th>\n",
       "      <th>Purchased</th>\n",
       "      <th>normalized_age</th>\n",
       "      <th>normalized_salary</th>\n",
       "    </tr>\n",
       "  </thead>\n",
       "  <tbody>\n",
       "    <tr>\n",
       "      <th>0</th>\n",
       "      <td>0</td>\n",
       "      <td>-1.781797</td>\n",
       "      <td>-1.490046</td>\n",
       "    </tr>\n",
       "    <tr>\n",
       "      <th>1</th>\n",
       "      <td>0</td>\n",
       "      <td>-0.253587</td>\n",
       "      <td>-1.460681</td>\n",
       "    </tr>\n",
       "    <tr>\n",
       "      <th>2</th>\n",
       "      <td>0</td>\n",
       "      <td>-1.113206</td>\n",
       "      <td>-0.785290</td>\n",
       "    </tr>\n",
       "    <tr>\n",
       "      <th>3</th>\n",
       "      <td>0</td>\n",
       "      <td>-1.017692</td>\n",
       "      <td>-0.374182</td>\n",
       "    </tr>\n",
       "    <tr>\n",
       "      <th>4</th>\n",
       "      <td>0</td>\n",
       "      <td>-1.781797</td>\n",
       "      <td>0.183751</td>\n",
       "    </tr>\n",
       "  </tbody>\n",
       "</table>\n",
       "</div>"
      ],
      "text/plain": [
       "   Purchased  normalized_age  normalized_salary\n",
       "0          0       -1.781797          -1.490046\n",
       "1          0       -0.253587          -1.460681\n",
       "2          0       -1.113206          -0.785290\n",
       "3          0       -1.017692          -0.374182\n",
       "4          0       -1.781797           0.183751"
      ]
     },
     "execution_count": 13,
     "metadata": {},
     "output_type": "execute_result"
    }
   ],
   "source": [
    "dataset.head()"
   ]
  },
  {
   "cell_type": "code",
   "execution_count": 14,
   "metadata": {},
   "outputs": [
    {
     "name": "stdout",
     "output_type": "stream",
     "text": [
      "count    4.000000e+02\n",
      "mean    -1.776357e-17\n",
      "std      1.001252e+00\n",
      "min     -1.607506e+00\n",
      "25%     -7.852897e-01\n",
      "50%      7.561451e-03\n",
      "75%      5.361289e-01\n",
      "max      2.356750e+00\n",
      "Name: normalized_salary, dtype: float64\n"
     ]
    }
   ],
   "source": [
    "print(dataset.normalized_salary.describe())"
   ]
  },
  {
   "cell_type": "code",
   "execution_count": 15,
   "metadata": {},
   "outputs": [
    {
     "name": "stdout",
     "output_type": "stream",
     "text": [
      "count    4.000000e+02\n",
      "mean    -7.105427e-17\n",
      "std      1.001252e+00\n",
      "min     -1.877311e+00\n",
      "25%     -7.550313e-01\n",
      "50%     -6.256110e-02\n",
      "75%      7.970571e-01\n",
      "max      2.134241e+00\n",
      "Name: normalized_age, dtype: float64\n"
     ]
    }
   ],
   "source": [
    "print(dataset.normalized_age.describe())"
   ]
  },
  {
   "cell_type": "markdown",
   "metadata": {},
   "source": [
    "Now, next task is to seperate features and label from our normalized dataset. Our normalizd dataset contains 3 columns where 'normalized_age' and 'normalized_salary' is the independent variables which are features. 'Purchased' column is dependent variables which set as label."
   ]
  },
  {
   "cell_type": "code",
   "execution_count": 16,
   "metadata": {},
   "outputs": [],
   "source": [
    "features = dataset.iloc[:,dataset.columns != 'Purchased'].values\n",
    "# features"
   ]
  },
  {
   "cell_type": "code",
   "execution_count": 17,
   "metadata": {},
   "outputs": [],
   "source": [
    "label= dataset.iloc[:, dataset.columns == 'Purchased'].values\n",
    "# label"
   ]
  },
  {
   "cell_type": "markdown",
   "metadata": {},
   "source": [
    "Visulizing above graph with class 0 and class 1 where 143 number people puchased a car rest 257 are not able to purchased a car. So, there high number of people who are not able to purchased a car. Thus, classification dataset are consisder as imbalanced data which means number of observation is not the same for all the classed in a classification dataset. SMOTE is a very simple algorithm for imbalance dataset to generate synthetic samples. It aims to balance class distribution by randomly increasing minority class examples by replicating them."
   ]
  },
  {
   "cell_type": "code",
   "execution_count": 18,
   "metadata": {},
   "outputs": [
    {
     "name": "stdout",
     "output_type": "stream",
     "text": [
      "[(0, 257), (1, 257)]\n"
     ]
    }
   ],
   "source": [
    "from imblearn.over_sampling import SMOTE as sm\n",
    "x_sampled , y_sampled = sm().fit_resample(features, label)\n",
    "from collections import Counter ## separate collection for 0 and 1 \n",
    "print(sorted(Counter(y_sampled).items()))"
   ]
  },
  {
   "cell_type": "markdown",
   "metadata": {},
   "source": [
    "## Graph after using SMOTE "
   ]
  },
  {
   "cell_type": "code",
   "execution_count": 19,
   "metadata": {},
   "outputs": [
    {
     "data": {
      "image/png": "[encoded data removed]",
      "text/plain": [
       "<Figure size 432x288 with 1 Axes>"
      ]
     },
     "metadata": {
      "needs_background": "light"
     },
     "output_type": "display_data"
    }
   ],
   "source": [
    "classes_count = pd.value_counts(['x_sampled' , 'y_sampled' ],sort = True).sort_index()\n",
    "classes_count.plot(kind='bar', color = \"Gray\")\n",
    "plt.title('Purchased Class Histogram after oversampling', fontweight='bold', fontsize = '12', color = \"gray\")\n",
    "plt.xlabel('Class', fontweight='bold', fontsize = '15', color = \"gray\")\n",
    "plt.ylabel('Frequency', fontweight='bold', fontsize = '15', color = \"gray\")\n",
    "plt.grid(b=True, which='major', color='#666666', linestyle='-')\n",
    "plt.show()"
   ]
  },
  {
   "cell_type": "markdown",
   "metadata": {},
   "source": [
    "Sklearn provides best function for partioning data into training set and testing set. We provide certain proportion of data to use as test set and we can provide the parameter random_state to ensure repeatable resuts. We split 80% of the data to the training set while 20% of data to the test using the below code. The test_size variable is where specify the propostion of the test set."
   ]
  },
  {
   "cell_type": "code",
   "execution_count": 20,
   "metadata": {},
   "outputs": [],
   "source": [
    "# Splitting the dataset into the Training set and Test set\n",
    "from sklearn.model_selection import train_test_split\n",
    "X_train, X_test, y_train, y_test = train_test_split(x_sampled, y_sampled, test_size = 0.2, random_state = 584)\n",
    "\n",
    "x_test_sampled_data  = pd.DataFrame(X_test)\n",
    "\n",
    "y_test_sampled_data  = pd.DataFrame(y_test)"
   ]
  },
  {
   "cell_type": "code",
   "execution_count": 21,
   "metadata": {},
   "outputs": [
    {
     "name": "stdout",
     "output_type": "stream",
     "text": [
      "Number of train set is (411, 2)\n",
      "Number of train set is (103, 2)\n"
     ]
    }
   ],
   "source": [
    "print('Number of train set is', X_train.shape)\n",
    "print('Number of train set is', X_test.shape)"
   ]
  },
  {
   "cell_type": "markdown",
   "metadata": {},
   "source": [
    "After spliting data into train set and test set, now our job is to train our algorithm. For that we need to import LogisticRegression.\n",
    "\n",
    "Now, call the fit() method along with our training data. After training our algorithm, now time to make some predictions. For this we are going to use our test data and see how correctly our algorithm predicts the percentage score.\n",
    "\n",
    "The most common cross-validation technique is k-fold cross-validation in our solution I have put the value of K = 5 which means dataset will run 5 times and below the process will run 5 times, each time with different output set\n",
    "\n"
   ]
  },
  {
   "cell_type": "code",
   "execution_count": 22,
   "metadata": {},
   "outputs": [
    {
     "name": "stdout",
     "output_type": "stream",
     "text": [
      "[0.85714286 0.95238095 0.80952381 0.8        0.75      ]\n"
     ]
    }
   ],
   "source": [
    "from sklearn.linear_model import LogisticRegression\n",
    "from sklearn.model_selection import cross_val_score\n",
    "model = LogisticRegression(solver = 'lbfgs')\n",
    "model.fit(X_train, y_train)\n",
    "yPred = model.predict(X_test)\n",
    "scores = cross_val_score(model, y_test_sampled_data, yPred, cv=5, scoring='accuracy')\n",
    "print(scores)"
   ]
  },
  {
   "cell_type": "code",
   "execution_count": 23,
   "metadata": {},
   "outputs": [
    {
     "name": "stdout",
     "output_type": "stream",
     "text": [
      "0.8338095238095237\n"
     ]
    }
   ],
   "source": [
    "print(scores.mean())"
   ]
  },
  {
   "cell_type": "code",
   "execution_count": 24,
   "metadata": {},
   "outputs": [
    {
     "name": "stderr",
     "output_type": "stream",
     "text": [
      "*c* argument looks like a single numeric RGB or RGBA sequence, which should be avoided as value-mapping will have precedence in case its length matches with *x* & *y*.  Please use the *color* keyword-argument or provide a 2-D array with a single row if you intend to specify the same RGB or RGBA value for all points.\n",
      "*c* argument looks like a single numeric RGB or RGBA sequence, which should be avoided as value-mapping will have precedence in case its length matches with *x* & *y*.  Please use the *color* keyword-argument or provide a 2-D array with a single row if you intend to specify the same RGB or RGBA value for all points.\n"
     ]
    },
    {
     "data": {
      "image/png": "[encoded data removed]",
      "text/plain": [
       "<Figure size 432x288 with 1 Axes>"
      ]
     },
     "metadata": {
      "needs_background": "light"
     },
     "output_type": "display_data"
    }
   ],
   "source": [
    "# Visualising the Training set results\n",
    "from matplotlib.colors import ListedColormap\n",
    "X_set, y_set = X_train, y_train\n",
    "X1, X2 = np.meshgrid(np.arange(start = X_set[:, 0].min() - 1, stop = X_set[:, 0].max() + 1, step = 0.01),\n",
    "                     np.arange(start = X_set[:, 1].min() - 1, stop = X_set[:, 1].max() + 1, step = 0.01))\n",
    "plt.contourf(X1, X2, model.predict(np.array([X1.ravel(), X2.ravel()]).T).reshape(X1.shape),\n",
    "             alpha = 0.75, cmap = ListedColormap(('red', 'green')))\n",
    "plt.xlim(X1.min(), X1.max())\n",
    "plt.ylim(X2.min(), X2.max())\n",
    "for i, j in enumerate(np.unique(y_set)):\n",
    "    plt.scatter(X_set[y_set == j, 0], X_set[y_set == j, 1],\n",
    "                c = ListedColormap(('red', 'blue'))(i), label = j)\n",
    "plt.title('Logistic Regression (Training set)')\n",
    "plt.xlabel('Age')\n",
    "plt.ylabel('Estimated Salary')\n",
    "plt.legend()\n",
    "plt.show()"
   ]
  },
  {
   "cell_type": "markdown",
   "metadata": {},
   "source": [
    "1. The library provided by matplotlib called ListedColormap helps us to colorize the data points. <br>\n",
    "2. We create local variables i.e. X_set and y_set for reuse of these variables again in the test set. <br>\n",
    "3. step = 0.01 is the parameter used in variables X_set and X_set which is used to create grid with 0.01 resolution and similarly, min and max parameter of X_set with -1 and +1 which is used to prevent points to be squeezed on the axes.\n",
    "4. contour function is an outline representing or bounding t  the model on all pixel of observation points having red pixel points and blue pixel points. \n",
    "5. And then we have plot the limits of the age and estimated salary lines.\n",
    "6. In above code we have created a loop to plots all the data points of age and estimated salary with the real values.\n",
    "7. At last we have give the name of the plot and labels.\n",
    "<br>\n",
    "\n",
    "In the above visulized points blue points represents as 0 are the ones who are purchasing the car and red points represents as 1 are ones who are not purchasing the car where the division line between the red points and blue points are called prediction boundary. The main goal of logistic regression model is to classify the right users into right categories. The line is straight, since our model has established a linear classification. In the upper case the dataset is the training set so the model learned how to classify based on this knowledge."
   ]
  },
  {
   "cell_type": "code",
   "execution_count": 25,
   "metadata": {},
   "outputs": [
    {
     "name": "stderr",
     "output_type": "stream",
     "text": [
      "*c* argument looks like a single numeric RGB or RGBA sequence, which should be avoided as value-mapping will have precedence in case its length matches with *x* & *y*.  Please use the *color* keyword-argument or provide a 2-D array with a single row if you intend to specify the same RGB or RGBA value for all points.\n",
      "*c* argument looks like a single numeric RGB or RGBA sequence, which should be avoided as value-mapping will have precedence in case its length matches with *x* & *y*.  Please use the *color* keyword-argument or provide a 2-D array with a single row if you intend to specify the same RGB or RGBA value for all points.\n"
     ]
    },
    {
     "data": {
      "image/png": "[encoded data removed]",
      "text/plain": [
       "<Figure size 432x288 with 1 Axes>"
      ]
     },
     "metadata": {
      "needs_background": "light"
     },
     "output_type": "display_data"
    }
   ],
   "source": [
    "# Visualising the Test set results\n",
    "from matplotlib.colors import ListedColormap\n",
    "X_set, y_set = X_test, y_test\n",
    "X1, X2 = np.meshgrid(np.arange(start = X_set[:, 0].min() - 1, stop = X_set[:, 0].max() + 1, step = 0.01),\n",
    "                     np.arange(start = X_set[:, 1].min() - 1, stop = X_set[:, 1].max() + 1, step = 0.01))\n",
    "plt.contourf(X1, X2, model.predict(np.array([X1.ravel(), X2.ravel()]).T).reshape(X1.shape),\n",
    "             alpha = 0.75, cmap = ListedColormap(('red', 'green')))\n",
    "plt.xlim(X1.min(), X1.max())\n",
    "plt.ylim(X2.min(), X2.max())\n",
    "for i, j in enumerate(np.unique(y_set)):\n",
    "    plt.scatter(X_set[y_set == j, 0], X_set[y_set == j, 1],\n",
    "                c = ListedColormap(('red', 'blue'))(i), label = j)\n",
    "plt.title('Logistic Regression (Test set)')\n",
    "plt.xlabel('Age')\n",
    "plt.ylabel('Estimated Salary')\n",
    "plt.legend()\n",
    "plt.show()"
   ]
  },
  {
   "cell_type": "markdown",
   "metadata": {},
   "source": [
    "In the confusion matrix we might observe the correct and incorrect predictions."
   ]
  },
  {
   "cell_type": "markdown",
   "metadata": {},
   "source": [
    "A  confusion matrix  is an N by N matrix where N is the number of classes being predicted. Confusion matrix provide a more detailed breakdown of correct and incorrect classifications for each class where daigonal elements represents the number of points for which the predicted label is equal to the true label while anything off the diagonal was mislabeled by the classifier.\n",
    "For best evaluation we need higher value in the diagonal of the confusion matrix."
   ]
  },
  {
   "cell_type": "code",
   "execution_count": 29,
   "metadata": {},
   "outputs": [
    {
     "name": "stdout",
     "output_type": "stream",
     "text": [
      "[[37 10]\n",
      " [ 7 49]]\n"
     ]
    }
   ],
   "source": [
    "from sklearn.metrics import confusion_matrix, classification_report \n",
    "\n",
    "y_predicted =  np.array(model.predict(x_test_sampled_data))\n",
    "y_right = np.array(y_test_sampled_data)\n",
    "\n",
    "cnf = confusion_matrix(y_right, y_predicted )\n",
    "print(cnf)\n"
   ]
  },
  {
   "cell_type": "code",
   "execution_count": 27,
   "metadata": {},
   "outputs": [
    {
     "name": "stdout",
     "output_type": "stream",
     "text": [
      "              precision    recall  f1-score   support\n",
      "\n",
      "           0       0.84      0.79      0.81        47\n",
      "           1       0.83      0.88      0.85        56\n",
      "\n",
      "    accuracy                           0.83       103\n",
      "   macro avg       0.84      0.83      0.83       103\n",
      "weighted avg       0.84      0.83      0.83       103\n",
      "\n"
     ]
    }
   ],
   "source": [
    "from sklearn.metrics import classification_report\n",
    "print(classification_report(y_right, y_predicted))"
   ]
  },
  {
   "cell_type": "markdown",
   "metadata": {},
   "source": [
    "Accuracy is the mostly common used matrix to evaulated the model which is actually not a clear indicator of the performance. \n",
    "\n",
    "Accuracy = (41 + 49 ) / (41 + 7 + 49 + 6) = 0.8737864078\n",
    "\n",
    "Precision is the percentage of positive instances out of the total predicted positive instances which means precision or positive predicted value means how much model is right when it says it is right.\n",
    "\n",
    "Precision of Class 0 = 41 / (41 + 7) = 0.8541666667\n",
    "Precision of Class 1 = 49 / (6 + 49) = 0.8909090909\n",
    "\n",
    "Recall  is the percentage of positive instances out of the total actual positive instances. Recall shows how much extra right ones, the model missed when os showed the right ones.\n",
    "\n",
    "Recall of Class 0 = 41 / (41 + 6 ) = 0.8723404255\n",
    "Recall of Class 1 = 49 / (49 + 7) = 0.875\n",
    "\n",
    "F1-Score: F1- score is the harmoncic mean of the precision and recall which means higher the value of f1-score better will be the model. due to the product in the numerator if one goes low, the final F1 score goes down significantly. So a model does well in F1 score if the positive predicted are actually positives (precision) and doesn't miss out on positives and predicts them negative (recall).\n",
    "\n",
    "F1-Score of Class 0 = 2PR/(P+R) = 2 * 0.8541666667 * 0.8723404255 / (0.8541666667 + 0.8723404255) = 0.8631578947\n",
    "\n",
    "F1-Score of Class 1 = 2PR/(P+R) = 2 * 0.8909090909 * 0.875 / (0.8909090909 + 0.875) = 0.8828828829\n",
    "\n",
    "Support : It is the total number of element in each predicted class. Here, support for class 0 and 1 are 47 and 56.\n",
    "\n",
    "Macro Average: It is the normal average\n",
    "\n",
    "Macro Average for Precision: (0.8541666667 +0.8909090909) / 2 = 0.8725378788\n",
    "\n",
    "Macro Average for Recall: (0.8723404255 + 0.875) / 2 = 0.8736702128\n",
    "\n",
    "Weighted Average = The method of calculating a kind of arithmetic mean of a set of numbers in which some elements of the set have greater (weight) value than others\n",
    "\n",
    "Weighted Average of Precision = (0.8541666667 * 48) + (0.8909090909 * 55) / 103 = 0.8737864121\n",
    "\n",
    "Weighted Average of Recall = (0.8723404255 * 47) + (0.875 * 56) / 103 = 0.8737864078\n",
    "\n",
    "Thus, after calculating these results, we can conclude that this model is highlu sensitive for class 0 and highly precise for class 1 "
   ]
  },
  {
   "cell_type": "code",
   "execution_count": 28,
   "metadata": {},
   "outputs": [
    {
     "data": {
      "text/plain": [
       "<AxesSubplot:>"
      ]
     },
     "execution_count": 28,
     "metadata": {},
     "output_type": "execute_result"
    },
    {
     "data": {
      "image/png": "[encoded data removed]",
      "text/plain": [
       "<Figure size 432x288 with 2 Axes>"
      ]
     },
     "metadata": {
      "needs_background": "light"
     },
     "output_type": "display_data"
    }
   ],
   "source": [
    "import seaborn as sns\n",
    "sns.heatmap(cnf , annot =  True)"
   ]
  },
  {
   "cell_type": "markdown",
   "metadata": {},
   "source": [
    "<h1> End of Assignment </h1> "
   ]
  },
  {
   "cell_type": "code",
   "execution_count": null,
   "metadata": {},
   "outputs": [],
   "source": []
  }
 ],
 "metadata": {
  "kernelspec": {
   "display_name": "Python 3",
   "language": "python",
   "name": "python3"
  },
  "language_info": {
   "codemirror_mode": {
    "name": "ipython",
    "version": 3
   },
   "file_extension": ".py",
   "mimetype": "text/x-python",
   "name": "python",
   "nbconvert_exporter": "python",
   "pygments_lexer": "ipython3",
   "version": "3.7.7"
  }
 },
 "nbformat": 4,
 "nbformat_minor": 2
}
