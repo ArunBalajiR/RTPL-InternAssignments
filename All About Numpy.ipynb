{
 "cells": [
  {
   "cell_type": "code",
   "execution_count": 1,
   "id": "7b263dde",
   "metadata": {},
   "outputs": [],
   "source": [
    "#Numpy\n",
    "import numpy as np"
   ]
  },
  {
   "cell_type": "code",
   "execution_count": 2,
   "id": "0eb865ce",
   "metadata": {},
   "outputs": [
    {
     "data": {
      "text/plain": [
       "array([1, 2, 3, 4, 5])"
      ]
     },
     "execution_count": 2,
     "metadata": {},
     "output_type": "execute_result"
    }
   ],
   "source": [
    "a = np.array([1,2,3,4,5])\n",
    "a"
   ]
  },
  {
   "cell_type": "code",
   "execution_count": 4,
   "id": "dd9a13ca",
   "metadata": {},
   "outputs": [
    {
     "data": {
      "text/plain": [
       "array([[1, 2, 3],\n",
       "       [4, 5, 6],\n",
       "       [7, 8, 9]])"
      ]
     },
     "execution_count": 4,
     "metadata": {},
     "output_type": "execute_result"
    }
   ],
   "source": [
    "b = np.array([[1,2,3],[4,5,6],[7,8,9]])\n",
    "b"
   ]
  },
  {
   "cell_type": "code",
   "execution_count": 7,
   "id": "b0b6bc35",
   "metadata": {},
   "outputs": [
    {
     "data": {
      "text/plain": [
       "2"
      ]
     },
     "execution_count": 7,
     "metadata": {},
     "output_type": "execute_result"
    }
   ],
   "source": [
    "b[0][1]"
   ]
  },
  {
   "cell_type": "code",
   "execution_count": 14,
   "id": "32c2063c",
   "metadata": {},
   "outputs": [
    {
     "data": {
      "text/plain": [
       "array([[0., 0., 0.],\n",
       "       [0., 0., 0.],\n",
       "       [0., 0., 0.]])"
      ]
     },
     "execution_count": 14,
     "metadata": {},
     "output_type": "execute_result"
    }
   ],
   "source": [
    "zeros = np.zeros((3,3))\n",
    "zeros"
   ]
  },
  {
   "cell_type": "code",
   "execution_count": 12,
   "id": "7d11b813",
   "metadata": {},
   "outputs": [
    {
     "data": {
      "text/plain": [
       "array([[1., 1., 1.],\n",
       "       [1., 1., 1.]])"
      ]
     },
     "execution_count": 12,
     "metadata": {},
     "output_type": "execute_result"
    }
   ],
   "source": [
    "ones = np.ones((2,3))\n",
    "ones"
   ]
  },
  {
   "cell_type": "code",
   "execution_count": 13,
   "id": "1c3ffbd0",
   "metadata": {},
   "outputs": [
    {
     "data": {
      "text/plain": [
       "array([ 1,  3,  5,  7,  9, 11, 13, 15, 17, 19])"
      ]
     },
     "execution_count": 13,
     "metadata": {},
     "output_type": "execute_result"
    }
   ],
   "source": [
    "np.arange(1,20,2)"
   ]
  },
  {
   "cell_type": "code",
   "execution_count": 15,
   "id": "aa29f5b6",
   "metadata": {},
   "outputs": [
    {
     "data": {
      "text/plain": [
       "array([10, 12, 14, 16, 18])"
      ]
     },
     "execution_count": 15,
     "metadata": {},
     "output_type": "execute_result"
    }
   ],
   "source": [
    "np.arange(10,20,2)"
   ]
  },
  {
   "cell_type": "code",
   "execution_count": 21,
   "id": "da7aba73",
   "metadata": {},
   "outputs": [
    {
     "data": {
      "text/plain": [
       "array([10.        , 10.34482759, 10.68965517, 11.03448276, 11.37931034,\n",
       "       11.72413793, 12.06896552, 12.4137931 , 12.75862069, 13.10344828,\n",
       "       13.44827586, 13.79310345, 14.13793103, 14.48275862, 14.82758621,\n",
       "       15.17241379, 15.51724138, 15.86206897, 16.20689655, 16.55172414,\n",
       "       16.89655172, 17.24137931, 17.5862069 , 17.93103448, 18.27586207,\n",
       "       18.62068966, 18.96551724, 19.31034483, 19.65517241, 20.        ])"
      ]
     },
     "execution_count": 21,
     "metadata": {},
     "output_type": "execute_result"
    }
   ],
   "source": [
    "#Randomly(linearly divided baseed ob count) give the numbers based on count between x and y (x,y,count)\n",
    "np.linspace(10,20,30)"
   ]
  },
  {
   "cell_type": "code",
   "execution_count": 24,
   "id": "f7385f8c",
   "metadata": {},
   "outputs": [
    {
     "data": {
      "text/plain": [
       "array([ 0.,  2.,  4.,  6.,  8., 10.])"
      ]
     },
     "execution_count": 24,
     "metadata": {},
     "output_type": "execute_result"
    }
   ],
   "source": [
    "#even\n",
    "np.linspace(0,10,6)"
   ]
  },
  {
   "cell_type": "code",
   "execution_count": 25,
   "id": "a8b50430",
   "metadata": {},
   "outputs": [
    {
     "data": {
      "text/plain": [
       "array([ 0., 10.])"
      ]
     },
     "execution_count": 25,
     "metadata": {},
     "output_type": "execute_result"
    }
   ],
   "source": [
    "#np.empty creates empty array with 2 elements\n",
    "\n",
    "np.empty(2)"
   ]
  },
  {
   "cell_type": "code",
   "execution_count": 26,
   "id": "41ca22c6",
   "metadata": {},
   "outputs": [],
   "source": [
    "arr = np.array([2,3,6,1,8,4,5,9])\n"
   ]
  },
  {
   "cell_type": "code",
   "execution_count": 28,
   "id": "39af615e",
   "metadata": {},
   "outputs": [
    {
     "data": {
      "text/plain": [
       "array([0.75232891, 0.87960592, 0.05058506, 0.13646792, 0.51770065,\n",
       "       0.07852266, 0.91753372, 0.81888862, 0.36763383, 0.30088697])"
      ]
     },
     "execution_count": 28,
     "metadata": {},
     "output_type": "execute_result"
    }
   ],
   "source": [
    "np.random.rand(10)"
   ]
  },
  {
   "cell_type": "code",
   "execution_count": 29,
   "id": "87a1cd62",
   "metadata": {},
   "outputs": [
    {
     "data": {
      "text/plain": [
       "array([[10, 10, 10, 10],\n",
       "       [10, 10, 10, 10],\n",
       "       [10, 10, 10, 10]])"
      ]
     },
     "execution_count": 29,
     "metadata": {},
     "output_type": "execute_result"
    }
   ],
   "source": [
    "#fill matrices with same no\n",
    "np.full((3,4),10)"
   ]
  },
  {
   "cell_type": "code",
   "execution_count": 34,
   "id": "6406bb35",
   "metadata": {},
   "outputs": [
    {
     "data": {
      "text/plain": [
       "array([[0.43317367, 0.5326586 , 0.42817379, 0.57160712],\n",
       "       [0.6305133 , 0.66859039, 0.54129165, 0.19153829]])"
      ]
     },
     "execution_count": 34,
     "metadata": {},
     "output_type": "execute_result"
    }
   ],
   "source": [
    "np.random.random((2,4))"
   ]
  },
  {
   "cell_type": "code",
   "execution_count": 36,
   "id": "2850ec60",
   "metadata": {},
   "outputs": [
    {
     "data": {
      "text/plain": [
       "array([[1, 2, 3, 4, 5],\n",
       "       [6, 7, 8, 9, 8]])"
      ]
     },
     "execution_count": 36,
     "metadata": {},
     "output_type": "execute_result"
    }
   ],
   "source": [
    "twodim = np.array([[1,2,3,4,5],[6,7,8,9,8]])\n",
    "twodim"
   ]
  },
  {
   "cell_type": "code",
   "execution_count": 37,
   "id": "2ec2be11",
   "metadata": {},
   "outputs": [
    {
     "data": {
      "text/plain": [
       "2"
      ]
     },
     "execution_count": 37,
     "metadata": {},
     "output_type": "execute_result"
    }
   ],
   "source": [
    "twodim.ndim"
   ]
  },
  {
   "cell_type": "code",
   "execution_count": 38,
   "id": "6e56db71",
   "metadata": {},
   "outputs": [
    {
     "data": {
      "text/plain": [
       "(2, 5)"
      ]
     },
     "execution_count": 38,
     "metadata": {},
     "output_type": "execute_result"
    }
   ],
   "source": [
    "twodim.shape"
   ]
  },
  {
   "cell_type": "code",
   "execution_count": 40,
   "id": "b52988d4",
   "metadata": {},
   "outputs": [
    {
     "data": {
      "text/plain": [
       "array([2, 3, 6, 1, 8, 4, 5, 9])"
      ]
     },
     "execution_count": 40,
     "metadata": {},
     "output_type": "execute_result"
    }
   ],
   "source": [
    "#Adding , Removing and sorting elementts\n",
    "arr\n"
   ]
  },
  {
   "cell_type": "code",
   "execution_count": 41,
   "id": "97fa57c0",
   "metadata": {},
   "outputs": [
    {
     "data": {
      "text/plain": [
       "array([1, 2, 3, 4, 5, 6, 8, 9])"
      ]
     },
     "execution_count": 41,
     "metadata": {},
     "output_type": "execute_result"
    }
   ],
   "source": [
    "np.sort(arr)"
   ]
  },
  {
   "cell_type": "code",
   "execution_count": 43,
   "id": "333070d0",
   "metadata": {},
   "outputs": [
    {
     "data": {
      "text/plain": [
       "array([3, 4, 5, 7, 8, 9])"
      ]
     },
     "execution_count": 43,
     "metadata": {},
     "output_type": "execute_result"
    }
   ],
   "source": [
    "i = np.array([3,4,5])\n",
    "j = np.array([7,8,9])\n",
    "np.concatenate((i,j))"
   ]
  },
  {
   "cell_type": "code",
   "execution_count": 47,
   "id": "924981c5",
   "metadata": {},
   "outputs": [
    {
     "data": {
      "text/plain": [
       "array([3, 4, 5, 7, 8, 9])"
      ]
     },
     "execution_count": 47,
     "metadata": {},
     "output_type": "execute_result"
    }
   ],
   "source": [
    "np.concatenate((i,j),axis = 0)"
   ]
  },
  {
   "cell_type": "code",
   "execution_count": 50,
   "id": "5dca4010",
   "metadata": {},
   "outputs": [
    {
     "data": {
      "text/plain": [
       "8"
      ]
     },
     "execution_count": 50,
     "metadata": {},
     "output_type": "execute_result"
    }
   ],
   "source": [
    "arr.size"
   ]
  },
  {
   "cell_type": "code",
   "execution_count": 52,
   "id": "3fd3f901",
   "metadata": {},
   "outputs": [
    {
     "data": {
      "text/plain": [
       "array([[2, 3, 6, 1],\n",
       "       [8, 4, 5, 9]])"
      ]
     },
     "execution_count": 52,
     "metadata": {},
     "output_type": "execute_result"
    }
   ],
   "source": [
    "arr.reshape(2,4)"
   ]
  },
  {
   "cell_type": "code",
   "execution_count": 53,
   "id": "9a48afef",
   "metadata": {},
   "outputs": [
    {
     "data": {
      "text/plain": [
       "38"
      ]
     },
     "execution_count": 53,
     "metadata": {},
     "output_type": "execute_result"
    }
   ],
   "source": [
    "np.sum(arr)"
   ]
  },
  {
   "cell_type": "code",
   "execution_count": 54,
   "id": "2953bc61",
   "metadata": {},
   "outputs": [
    {
     "data": {
      "text/plain": [
       "9"
      ]
     },
     "execution_count": 54,
     "metadata": {},
     "output_type": "execute_result"
    }
   ],
   "source": [
    "np.max(arr)"
   ]
  },
  {
   "cell_type": "code",
   "execution_count": 55,
   "id": "ca1cf8fd",
   "metadata": {},
   "outputs": [
    {
     "data": {
      "text/plain": [
       "1"
      ]
     },
     "execution_count": 55,
     "metadata": {},
     "output_type": "execute_result"
    }
   ],
   "source": [
    "np.min(arr)"
   ]
  },
  {
   "cell_type": "code",
   "execution_count": 56,
   "id": "96e2bc17",
   "metadata": {},
   "outputs": [
    {
     "data": {
      "text/plain": [
       "4.75"
      ]
     },
     "execution_count": 56,
     "metadata": {},
     "output_type": "execute_result"
    }
   ],
   "source": [
    "np.mean(arr)"
   ]
  },
  {
   "cell_type": "code",
   "execution_count": 59,
   "id": "b0629e9f",
   "metadata": {},
   "outputs": [
    {
     "data": {
      "text/plain": [
       "array([3, 3])"
      ]
     },
     "execution_count": 59,
     "metadata": {},
     "output_type": "execute_result"
    }
   ],
   "source": [
    "np.sum([[1,1],[2,2]],axis = 0)"
   ]
  },
  {
   "cell_type": "code",
   "execution_count": 60,
   "id": "16f2f8da",
   "metadata": {},
   "outputs": [
    {
     "data": {
      "text/plain": [
       "array([2, 4])"
      ]
     },
     "execution_count": 60,
     "metadata": {},
     "output_type": "execute_result"
    }
   ],
   "source": [
    "np.sum([[1,1],[2,2]],axis=1)"
   ]
  },
  {
   "cell_type": "code",
   "execution_count": 62,
   "id": "b028f045",
   "metadata": {},
   "outputs": [
    {
     "data": {
      "text/plain": [
       "6"
      ]
     },
     "execution_count": 62,
     "metadata": {},
     "output_type": "execute_result"
    }
   ],
   "source": [
    "np.sum([1,2,3])"
   ]
  },
  {
   "cell_type": "code",
   "execution_count": 64,
   "id": "f90d048e",
   "metadata": {},
   "outputs": [
    {
     "data": {
      "text/plain": [
       "-1"
      ]
     },
     "execution_count": 64,
     "metadata": {},
     "output_type": "execute_result"
    }
   ],
   "source": [
    "np.subtract(4,5)"
   ]
  },
  {
   "cell_type": "code",
   "execution_count": 66,
   "id": "5c8276c5",
   "metadata": {},
   "outputs": [
    {
     "data": {
      "text/plain": [
       "5.0"
      ]
     },
     "execution_count": 66,
     "metadata": {},
     "output_type": "execute_result"
    }
   ],
   "source": [
    "np.divide(20,4)"
   ]
  },
  {
   "cell_type": "code",
   "execution_count": 67,
   "id": "2c69356b",
   "metadata": {},
   "outputs": [
    {
     "data": {
      "text/plain": [
       "8"
      ]
     },
     "execution_count": 67,
     "metadata": {},
     "output_type": "execute_result"
    }
   ],
   "source": [
    "np.multiply(2,4)"
   ]
  },
  {
   "cell_type": "code",
   "execution_count": 69,
   "id": "a8e0a8b8",
   "metadata": {},
   "outputs": [
    {
     "name": "stdout",
     "output_type": "stream",
     "text": [
      "Exponent :  [  2.71828183   7.3890561   20.08553692  54.59815003 148.4131591 ]\n",
      "SquareRoot :  [1.         1.41421356 1.73205081 2.         2.23606798]\n",
      "Sin : [ 0.84147098  0.90929743  0.14112001 -0.7568025  -0.95892427]\n",
      "Cos : [ 0.54030231 -0.41614684 -0.9899925  -0.65364362  0.28366219]\n",
      "Log :  [0.         0.69314718 1.09861229 1.38629436 1.60943791]\n"
     ]
    }
   ],
   "source": [
    "#Math\n",
    "mathod = np.array([2,3,4])\n",
    "print(\"Exponent : \", np.exp(a))\n",
    "print(\"SquareRoot : \",np.sqrt(a))\n",
    "print(\"Sin :\", np.sin(a))\n",
    "print(\"Cos :\",np.cos(a))\n",
    "print(\"Log : \",np.log(a))\n",
    "\n",
    "\n"
   ]
  },
  {
   "cell_type": "code",
   "execution_count": 71,
   "id": "c14b4733",
   "metadata": {},
   "outputs": [
    {
     "name": "stdout",
     "output_type": "stream",
     "text": [
      "[False False False  True]\n",
      "[ True  True  True  True]\n"
     ]
    }
   ],
   "source": [
    "#Array Comparison \n",
    "d=np.array([1,2,3,4])\n",
    "e = np.array([9,8,7,4])\n",
    "f = np.array([1,2,3,4])\n",
    "print(np.equal(d,e))\n",
    "print(np.equal(d,f))"
   ]
  },
  {
   "cell_type": "code",
   "execution_count": 72,
   "id": "ccac478c",
   "metadata": {},
   "outputs": [
    {
     "name": "stdout",
     "output_type": "stream",
     "text": [
      "False\n",
      "True\n"
     ]
    }
   ],
   "source": [
    "print(np.array_equal(d,e))\n",
    "print(np.array_equal(d,f))\n"
   ]
  },
  {
   "cell_type": "code",
   "execution_count": 78,
   "id": "db2bc9f3",
   "metadata": {},
   "outputs": [
    {
     "name": "stdout",
     "output_type": "stream",
     "text": [
      "Sum : 15\n",
      "Minumum : 1\n",
      "Maximum :  1\n",
      "Mean : 3.0\n",
      "Median : 3.0\n",
      "Correlation Coefficient: 1.0\n",
      "Standard deviation  :  1.4142135623730951\n"
     ]
    }
   ],
   "source": [
    "operation = np.array([1,2,33,45,5,5,6])\n",
    "print(\"Sum :\", np.sum(a))\n",
    "print(\"Minumum :\", np.min(a))\n",
    "print(\"Maximum : \", np.min(a))\n",
    "print(\"Mean :\", np.mean(a))\n",
    "print(\"Median :\", np.median(a))\n",
    "print(\"Correlation Coefficient:\", np.corrcoef(a))\n",
    "print(\"Standard deviation  : \",np.std(a))"
   ]
  },
  {
   "cell_type": "code",
   "execution_count": 80,
   "id": "3f208a9f",
   "metadata": {},
   "outputs": [
    {
     "data": {
      "text/plain": [
       "3.0"
      ]
     },
     "execution_count": 80,
     "metadata": {},
     "output_type": "execute_result"
    }
   ],
   "source": [
    "n = np.array([1,2,3,21,30])\n",
    "np.mean(n)   #average\n",
    "np.median(n)   #median means middle element\n"
   ]
  },
  {
   "cell_type": "code",
   "execution_count": 84,
   "id": "6c822bda",
   "metadata": {},
   "outputs": [
    {
     "name": "stdout",
     "output_type": "stream",
     "text": [
      "A :\n",
      " [[1 1 2]\n",
      " [3 4 5]\n",
      " [4 4 6]\n",
      " [2 4 3]]\n",
      "b :\n",
      " [1 2 3]\n"
     ]
    }
   ],
   "source": [
    "#concept of broadcasting\n",
    "a1= np.array([[1,1,2],[3,4,5],[4,4,6],[2,4,3]])\n",
    "b1=np.array([1,2,3])\n",
    "print(\"A :\\n\",a)\n",
    "print(\"b :\\n\",b)\n"
   ]
  },
  {
   "cell_type": "code",
   "execution_count": 85,
   "id": "e4604ca2",
   "metadata": {},
   "outputs": [
    {
     "data": {
      "text/plain": [
       "array([[2, 3, 5],\n",
       "       [4, 6, 8],\n",
       "       [5, 6, 9],\n",
       "       [3, 6, 6]])"
      ]
     },
     "execution_count": 85,
     "metadata": {},
     "output_type": "execute_result"
    }
   ],
   "source": [
    "a1+b1\n",
    "#here if we notic b is converted into 4x3 array and addition occured\n"
   ]
  },
  {
   "cell_type": "code",
   "execution_count": 86,
   "id": "84d4d50d",
   "metadata": {},
   "outputs": [
    {
     "data": {
      "text/plain": [
       "array([[1, 1, 2],\n",
       "       [3, 4, 5],\n",
       "       [4, 4, 6],\n",
       "       [2, 4, 3]])"
      ]
     },
     "execution_count": 86,
     "metadata": {},
     "output_type": "execute_result"
    }
   ],
   "source": [
    "a\n"
   ]
  },
  {
   "cell_type": "code",
   "execution_count": 87,
   "id": "7f346929",
   "metadata": {},
   "outputs": [
    {
     "data": {
      "text/plain": [
       "array([3, 4, 5])"
      ]
     },
     "execution_count": 87,
     "metadata": {},
     "output_type": "execute_result"
    }
   ],
   "source": [
    "a[1]"
   ]
  },
  {
   "cell_type": "code",
   "execution_count": 88,
   "id": "ebe7b62a",
   "metadata": {},
   "outputs": [
    {
     "data": {
      "text/plain": [
       "array([[3, 4, 5],\n",
       "       [4, 4, 6]])"
      ]
     },
     "execution_count": 88,
     "metadata": {},
     "output_type": "execute_result"
    }
   ],
   "source": [
    "a[1:3]"
   ]
  },
  {
   "cell_type": "code",
   "execution_count": 92,
   "id": "b90796c5",
   "metadata": {},
   "outputs": [
    {
     "data": {
      "text/plain": [
       "array([[1],\n",
       "       [3],\n",
       "       [4],\n",
       "       [2]])"
      ]
     },
     "execution_count": 92,
     "metadata": {},
     "output_type": "execute_result"
    }
   ],
   "source": [
    "a[0:4,:1]"
   ]
  },
  {
   "cell_type": "code",
   "execution_count": 94,
   "id": "6bf6a9f2",
   "metadata": {},
   "outputs": [
    {
     "name": "stdout",
     "output_type": "stream",
     "text": [
      "Size of List :  14000\n",
      "Size of Array :  48\n"
     ]
    }
   ],
   "source": [
    "# Numpy vs List\n",
    "#BY memory\n",
    "\n",
    "import sys\n",
    "#list \n",
    "listt=range(1000)\n",
    "print(\"Size of List : \",sys.getsizeof(1)*len(listt))\n",
    "\n",
    "#numpyarray\n",
    "arr = np.arange(1000)\n",
    "print(\"Size of Array : \",a.size*a.itemsize)"
   ]
  },
  {
   "cell_type": "code",
   "execution_count": 98,
   "id": "445c6b3d",
   "metadata": {},
   "outputs": [
    {
     "name": "stdout",
     "output_type": "stream",
     "text": [
      "Time taken by List :  1.1325721740722656\n",
      "Time taken by NumPy : 0.017009735107421875\n"
     ]
    }
   ],
   "source": [
    "#Speed wise\n",
    "import time\n",
    "size = 1000000  \n",
    "#List\n",
    "list1 = range(size)\n",
    "list2 = range(size)\n",
    "   \n",
    "#arrays\n",
    "array1 = np.arange(size)  \n",
    "array2 = np.arange(size)\n",
    "   \n",
    "#before time\n",
    "initialTime = time.time()\n",
    "  \n",
    "# multiplying  elements of both the lists and stored in another list\n",
    "resultantList = [(a * b) for a, b in zip(list1, list2)]\n",
    "   \n",
    "# calculating execution time\n",
    "print(\"Time taken by List : \",(time.time() - initialTime))\n",
    "   \n",
    "# Before time\n",
    "initialTime = time.time()\n",
    "  \n",
    "#after time\n",
    "resultantArray = array1 * array2\n",
    "   \n",
    "# calculating execution time \n",
    "print(\"Time taken by NumPy :\",(time.time() - initialTime))\n"
   ]
  },
  {
   "cell_type": "code",
   "execution_count": null,
   "id": "bb7a6302",
   "metadata": {},
   "outputs": [],
   "source": []
  }
 ],
 "metadata": {
  "kernelspec": {
   "display_name": "Python 3",
   "language": "python",
   "name": "python3"
  },
  "language_info": {
   "codemirror_mode": {
    "name": "ipython",
    "version": 3
   },
   "file_extension": ".py",
   "mimetype": "text/x-python",
   "name": "python",
   "nbconvert_exporter": "python",
   "pygments_lexer": "ipython3",
   "version": "3.7.7"
  }
 },
 "nbformat": 4,
 "nbformat_minor": 5
}
