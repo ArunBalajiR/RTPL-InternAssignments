{
 "cells": [
  {
   "cell_type": "code",
   "execution_count": 42,
   "id": "4457fb68",
   "metadata": {},
   "outputs": [],
   "source": [
    "#polynomial regression\n",
    "# Polynomial Regression where polynomial regression is a type of linear regression applied when the data \n",
    "# is not exactly linear and certain curve occurs\n",
    "import numpy as np\n",
    "import matplotlib.pyplot as plt\n",
    "\n",
    "import pandas as pd\n",
    "import seaborn as sns\n",
    "from sklearn.metrics import mean_squared_error,r2_score\n"
   ]
  },
  {
   "cell_type": "code",
   "execution_count": 3,
   "id": "906c8146",
   "metadata": {},
   "outputs": [],
   "source": [
    "df = pd.read_csv('dataset/Position_Salaries.csv')"
   ]
  },
  {
   "cell_type": "code",
   "execution_count": 4,
   "id": "eff98006",
   "metadata": {},
   "outputs": [
    {
     "data": {
      "text/html": [
       "<div>\n",
       "<style scoped>\n",
       "    .dataframe tbody tr th:only-of-type {\n",
       "        vertical-align: middle;\n",
       "    }\n",
       "\n",
       "    .dataframe tbody tr th {\n",
       "        vertical-align: top;\n",
       "    }\n",
       "\n",
       "    .dataframe thead th {\n",
       "        text-align: right;\n",
       "    }\n",
       "</style>\n",
       "<table border=\"1\" class=\"dataframe\">\n",
       "  <thead>\n",
       "    <tr style=\"text-align: right;\">\n",
       "      <th></th>\n",
       "      <th>Position</th>\n",
       "      <th>Level</th>\n",
       "      <th>Salary</th>\n",
       "    </tr>\n",
       "  </thead>\n",
       "  <tbody>\n",
       "    <tr>\n",
       "      <th>0</th>\n",
       "      <td>Business Analyst</td>\n",
       "      <td>1</td>\n",
       "      <td>45000</td>\n",
       "    </tr>\n",
       "    <tr>\n",
       "      <th>1</th>\n",
       "      <td>Junior Consultant</td>\n",
       "      <td>2</td>\n",
       "      <td>50000</td>\n",
       "    </tr>\n",
       "    <tr>\n",
       "      <th>2</th>\n",
       "      <td>Senior Consultant</td>\n",
       "      <td>3</td>\n",
       "      <td>60000</td>\n",
       "    </tr>\n",
       "    <tr>\n",
       "      <th>3</th>\n",
       "      <td>Manager</td>\n",
       "      <td>4</td>\n",
       "      <td>80000</td>\n",
       "    </tr>\n",
       "    <tr>\n",
       "      <th>4</th>\n",
       "      <td>Country Manager</td>\n",
       "      <td>5</td>\n",
       "      <td>110000</td>\n",
       "    </tr>\n",
       "    <tr>\n",
       "      <th>5</th>\n",
       "      <td>Region Manager</td>\n",
       "      <td>6</td>\n",
       "      <td>150000</td>\n",
       "    </tr>\n",
       "    <tr>\n",
       "      <th>6</th>\n",
       "      <td>Partner</td>\n",
       "      <td>7</td>\n",
       "      <td>200000</td>\n",
       "    </tr>\n",
       "    <tr>\n",
       "      <th>7</th>\n",
       "      <td>Senior Partner</td>\n",
       "      <td>8</td>\n",
       "      <td>300000</td>\n",
       "    </tr>\n",
       "    <tr>\n",
       "      <th>8</th>\n",
       "      <td>C-level</td>\n",
       "      <td>9</td>\n",
       "      <td>500000</td>\n",
       "    </tr>\n",
       "    <tr>\n",
       "      <th>9</th>\n",
       "      <td>CEO</td>\n",
       "      <td>10</td>\n",
       "      <td>1000000</td>\n",
       "    </tr>\n",
       "  </tbody>\n",
       "</table>\n",
       "</div>"
      ],
      "text/plain": [
       "            Position  Level   Salary\n",
       "0   Business Analyst      1    45000\n",
       "1  Junior Consultant      2    50000\n",
       "2  Senior Consultant      3    60000\n",
       "3            Manager      4    80000\n",
       "4    Country Manager      5   110000\n",
       "5     Region Manager      6   150000\n",
       "6            Partner      7   200000\n",
       "7     Senior Partner      8   300000\n",
       "8            C-level      9   500000\n",
       "9                CEO     10  1000000"
      ]
     },
     "execution_count": 4,
     "metadata": {},
     "output_type": "execute_result"
    }
   ],
   "source": [
    "df"
   ]
  },
  {
   "cell_type": "code",
   "execution_count": 50,
   "id": "f17fcc83",
   "metadata": {},
   "outputs": [
    {
     "data": {
      "text/plain": [
       "array([[ 1],\n",
       "       [ 2],\n",
       "       [ 3],\n",
       "       [ 4],\n",
       "       [ 5],\n",
       "       [ 6],\n",
       "       [ 7],\n",
       "       [ 8],\n",
       "       [ 9],\n",
       "       [10]], dtype=int64)"
      ]
     },
     "execution_count": 50,
     "metadata": {},
     "output_type": "execute_result"
    }
   ],
   "source": [
    "#here level is independent variable and salary is dependent\n",
    "features = df.iloc[:,1].values.reshape(-1, 1)\n",
    "features"
   ]
  },
  {
   "cell_type": "code",
   "execution_count": 54,
   "id": "d2d4370f",
   "metadata": {},
   "outputs": [
    {
     "data": {
      "text/plain": [
       "array([[  45000],\n",
       "       [  50000],\n",
       "       [  60000],\n",
       "       [  80000],\n",
       "       [ 110000],\n",
       "       [ 150000],\n",
       "       [ 200000],\n",
       "       [ 300000],\n",
       "       [ 500000],\n",
       "       [1000000]], dtype=int64)"
      ]
     },
     "execution_count": 54,
     "metadata": {},
     "output_type": "execute_result"
    }
   ],
   "source": [
    "label = df.iloc[:,df.columns == \"Salary\"].values.reshape(-1, 1)\n",
    "label"
   ]
  },
  {
   "cell_type": "code",
   "execution_count": 56,
   "id": "d241ac1a",
   "metadata": {},
   "outputs": [
    {
     "data": {
      "image/png": "[encoded data removed]",
      "text/plain": [
       "<Figure size 432x288 with 1 Axes>"
      ]
     },
     "metadata": {
      "needs_background": "light"
     },
     "output_type": "display_data"
    }
   ],
   "source": [
    "# # Lets plot these data\n",
    "from pylab import *\n",
    "gca().yaxis.set_major_formatter(mpl.ticker.StrMethodFormatter('{x:,.0f}'))\n",
    "#this two lines is for y axis is automatically formated to exponentioal form to avoid this\n",
    "\n",
    "plt.scatter(features,label)\n",
    "plt.title('Scatter plot', fontweight='bold', fontsize = '15', color = \"gray\")\n",
    "plt.xlabel('Position level', fontweight='bold', fontsize = '15', color = \"gray\")\n",
    "plt.ylabel('Salary', fontweight='bold', fontsize = '15', color = \"gray\")\n",
    "plt.grid(b=True, which='major', color='#666666', linestyle='-')\n",
    "plt.show()"
   ]
  },
  {
   "cell_type": "code",
   "execution_count": 59,
   "id": "17820595",
   "metadata": {},
   "outputs": [
    {
     "data": {
      "image/png": "[encoded data removed]",
      "text/plain": [
       "<Figure size 432x288 with 1 Axes>"
      ]
     },
     "metadata": {
      "needs_background": "light"
     },
     "output_type": "display_data"
    }
   ],
   "source": [
    "#we can observe that the above data is non-linear and slightly curved\n",
    "#to predict these datas we need to use polynomial regression\n",
    "#before going to polynomial regression lets see whter linear regression fits or not\n",
    "from sklearn.linear_model import LinearRegression\n",
    "linreg = LinearRegression()\n",
    "linreg.fit(features,label)\n",
    "linpred = linreg.predict(features)\n",
    "\n",
    "plt.scatter(features,label)\n",
    "plt.plot(features,linpred,color=\"red\")\n",
    "plt.grid()\n",
    "plt.show()\n"
   ]
  },
  {
   "cell_type": "code",
   "execution_count": 61,
   "id": "645e1b4d",
   "metadata": {},
   "outputs": [
    {
     "name": "stdout",
     "output_type": "stream",
     "text": [
      "The R2 score for this model is 0.6690412331929895\n"
     ]
    }
   ],
   "source": [
    "#here we just apply regression not train \n",
    "#now we can clearly say the line is not fit and the linear regression is not fit and not applicable\n",
    "print(\"The R2 score for this model is\",r2_score(label,linpred))  #66% occuracy"
   ]
  },
  {
   "cell_type": "code",
   "execution_count": 93,
   "id": "d134583c",
   "metadata": {},
   "outputs": [],
   "source": [
    "#polynomiaal regression\n",
    "from sklearn.preprocessing import PolynomialFeatures\n",
    "# degree = int(input(\"Enter degree : \\n\"))  #degree represents cupic,parabolic,quadratic curve\n",
    "def create_polynomial_regression_model(degree):\n",
    "    polyreg = PolynomialFeatures(degree=degree)\n",
    "    X_poly = polyreg.fit_transform(features)\n",
    "    \n",
    "    linreg = LinearRegression()\n",
    "    linreg.fit(X_poly,label)\n",
    "    \n",
    "    #plotting\n",
    "    plt.scatter(features,label)\n",
    "    plt.plot(features,linreg.predict(X_poly),color=\"red\")\n",
    "    plt.show()"
   ]
  },
  {
   "cell_type": "code",
   "execution_count": 94,
   "id": "1b00394d",
   "metadata": {},
   "outputs": [
    {
     "data": {
      "image/png": "[encoded data removed]",
      "text/plain": [
       "<Figure size 432x288 with 1 Axes>"
      ]
     },
     "metadata": {
      "needs_background": "light"
     },
     "output_type": "display_data"
    }
   ],
   "source": [
    "create_polynomial_regression_model(4)"
   ]
  },
  {
   "cell_type": "code",
   "execution_count": 77,
   "id": "1ba3f60a",
   "metadata": {},
   "outputs": [],
   "source": [
    "# It is quite clear from the plot that the quadratic curve is able to fit the \n",
    "# data scatter than the linear line."
   ]
  },
  {
   "cell_type": "code",
   "execution_count": 95,
   "id": "55a60b61",
   "metadata": {},
   "outputs": [
    {
     "name": "stdout",
     "output_type": "stream",
     "text": [
      "Enter Degree: \n",
      "4\n",
      "The RMSE of the polynomial regression model is: 14503.234909626593\n",
      "The R2 score of the polynomial regression model is: 0.9973922891706615\n"
     ]
    }
   ],
   "source": [
    "# Computing the RMSE and 𝑅2\n",
    "from sklearn.metrics import mean_squared_error, r2_score\n",
    "\n",
    "entry_degree = int(input('Enter Degree: \\n'))\n",
    "polynomial_features= PolynomialFeatures(entry_degree)\n",
    "x_poly = polynomial_features.fit_transform(features)\n",
    "\n",
    "model = LinearRegression()\n",
    "model.fit(x_poly, label)\n",
    "y_poly_pred = model.predict(x_poly)\n",
    "\n",
    "rmse = np.sqrt(mean_squared_error(label,y_poly_pred))\n",
    "r2 = r2_score(label,y_poly_pred)\n",
    "print('The RMSE of the polynomial regression model is:',rmse)\n",
    "print('The R2 score of the polynomial regression model is:',r2)  #99% occuracy"
   ]
  },
  {
   "cell_type": "code",
   "execution_count": 106,
   "id": "47d49a81",
   "metadata": {},
   "outputs": [],
   "source": [
    "# Predicting a new result with Linear Regression\n",
    "# test_X1 = np.array(6.5).reshape(-1, 1)\n",
    "# linreg.predict(test_X1)"
   ]
  },
  {
   "cell_type": "code",
   "execution_count": 103,
   "id": "974ca10a",
   "metadata": {},
   "outputs": [
    {
     "data": {
      "text/plain": [
       "array([[158862.45265155]])"
      ]
     },
     "execution_count": 103,
     "metadata": {},
     "output_type": "execute_result"
    }
   ],
   "source": [
    "# Predicting a new result with Polynomial Regression\n",
    "test_X2 = np.array(6.5).reshape(-1, 1)\n",
    "model.predict(polynomial_features.fit_transform(test_X2))"
   ]
  },
  {
   "cell_type": "code",
   "execution_count": null,
   "id": "b27a0a9f",
   "metadata": {},
   "outputs": [],
   "source": []
  }
 ],
 "metadata": {
  "kernelspec": {
   "display_name": "Python 3",
   "language": "python",
   "name": "python3"
  },
  "language_info": {
   "codemirror_mode": {
    "name": "ipython",
    "version": 3
   },
   "file_extension": ".py",
   "mimetype": "text/x-python",
   "name": "python",
   "nbconvert_exporter": "python",
   "pygments_lexer": "ipython3",
   "version": "3.7.7"
  }
 },
 "nbformat": 4,
 "nbformat_minor": 5
}
