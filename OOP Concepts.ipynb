{
 "cells": [
  {
   "cell_type": "code",
   "execution_count": 22,
   "id": "57d7d60e",
   "metadata": {},
   "outputs": [
    {
     "name": "stdout",
     "output_type": "stream",
     "text": [
      "<__main__.Employ object at 0x0123B430>\n",
      "arun@gmail.com\n",
      "50000\n"
     ]
    }
   ],
   "source": [
    "#Object oriented programming\n",
    "#CLASSES AND INSTANCES\n",
    "class Employ():\n",
    "    pass  #empty class\n",
    "e1 = Employ()  #creating instancces for Employ()\n",
    "print(e1)\n",
    "\n",
    "e1.first = \"Arun\";\n",
    "e1.last = \"balaji\";\n",
    "e1.mail = 'arun@gmail.com'\n",
    "e1.pay = 50000\n",
    "\n",
    "print(e1.mail)\n",
    "print(e1.pay)"
   ]
  },
  {
   "cell_type": "code",
   "execution_count": 28,
   "id": "90039800",
   "metadata": {},
   "outputs": [
    {
     "name": "stdout",
     "output_type": "stream",
     "text": [
      "Arun.Balaji@company.com\n",
      "Vijay.Baskar@company.com\n",
      "Arun Balaji\n",
      "Arun Balaji\n"
     ]
    }
   ],
   "source": [
    "class Employee:\n",
    "    def __init__(self,first,last,pay):   #self denotes instance and it is must in python\n",
    "        self.first = first\n",
    "        self.last = last\n",
    "        self.mail = first+\".\"+last+'@company.com'\n",
    "        self.pay = pay\n",
    "    def fullname(self):    #methods\n",
    "        return '{} {}'.format(self.first,self.last)\n",
    "\n",
    "        \n",
    "emp1 = Employee('Arun','Balaji',  500000)\n",
    "emp2 = Employee('Vijay','Baskar', 450000)\n",
    "\n",
    "print(emp1.mail)\n",
    "print(emp2.mail)\n",
    "print(emp1.fullname())  #print(Employee.fullname(emp1))\n",
    "print(Employee.fullname(emp1))\n",
    "\n",
    "#both are same"
   ]
  },
  {
   "cell_type": "code",
   "execution_count": 29,
   "id": "214e319d",
   "metadata": {},
   "outputs": [
    {
     "name": "stdout",
     "output_type": "stream",
     "text": [
      "Pay before raise :  500000\n",
      "Pay after raise :  520000\n"
     ]
    }
   ],
   "source": [
    "# CLASS VARIABLES\n",
    "class Employee:\n",
    "    def __init__(self,first,last,pay):  \n",
    "        self.first = first\n",
    "        self.last = last\n",
    "        self.mail = first+\".\"+last+'@company.com'\n",
    "        self.pay = pay\n",
    "    def fullname(self):    #methods\n",
    "        return '{} {}'.format(self.first,self.last)\n",
    "    def apply_raise(self):\n",
    "        self.pay = int(self.pay*1.04)\n",
    "        \n",
    "\n",
    "        \n",
    "emp1 = Employee('Arun','Balaji',  500000)\n",
    "emp2 = Employee('Vijay','Baskar', 450000)\n",
    "print(\"Pay before raise : \",emp1.pay);\n",
    "emp1.apply_raise()   #but here we cannot see or update how much the raise amount is\n",
    "print(\"Pay after raise : \",emp1.pay);"
   ]
  },
  {
   "cell_type": "code",
   "execution_count": 39,
   "id": "b9345446",
   "metadata": {},
   "outputs": [
    {
     "name": "stdout",
     "output_type": "stream",
     "text": [
      "1.04\n",
      "1.04\n",
      "1.04\n",
      "Pay before raise :  500000\n",
      "Pay after raise :  520000\n",
      "Pay before raise :  520000\n",
      "Pay after raise :  546000\n"
     ]
    }
   ],
   "source": [
    "class Employee:\n",
    "    raise_amount = 1.04;\n",
    "    def __init__(self,first,last,pay):  \n",
    "        self.first = first\n",
    "        self.last = last\n",
    "        self.mail = first+\".\"+last+'@company.com'\n",
    "        self.pay = pay\n",
    "        \n",
    "    def fullname(self):    #methods\n",
    "        return '{} {}'.format(self.first,self.last)\n",
    "    def apply_raise(self):\n",
    "        self.pay = int(self.pay* self.raise_amount)  \n",
    "        #when we access class variables we have to mention instance.varibale\n",
    "        #Employee.raise_amount  is also valid\n",
    "               \n",
    "emp1 = Employee('Arun','Balaji',  500000)\n",
    "emp2 = Employee('Vijay','Baskar', 450000)\n",
    "\n",
    "print(Employee.raise_amount)\n",
    "print(emp1.raise_amount)\n",
    "print(emp2.raise_amount)\n",
    "\n",
    "\n",
    "print(\"Pay before raise : \",emp1.pay);\n",
    "emp1.apply_raise()   #but we have to apply everty time to raise pay(here the class variable comes)\n",
    "print(\"Pay after raise : \",emp1.pay);\n",
    "\n",
    "#changeing the raise amount for classes and insttances\n",
    "Employee.raise_amount = 1.05  #raised amount for all\n",
    "emp2.raise_amount = 1.04 #only for emp2\n",
    "\n",
    "\n",
    "print(\"Pay before raise : \",emp1.pay);\n",
    "emp1.apply_raise()   #but we have to apply everty time to raise pay(here the class variable comes)\n",
    "print(\"Pay after raise : \",emp1.pay); \n",
    "# print(emp1.__dict__) --> it prints class as dictionary format\n",
    "\n"
   ]
  },
  {
   "cell_type": "code",
   "execution_count": 57,
   "id": "905742f2",
   "metadata": {},
   "outputs": [
    {
     "name": "stdout",
     "output_type": "stream",
     "text": [
      "Before count :  0\n",
      "After count :  2\n"
     ]
    }
   ],
   "source": [
    "class Employee:\n",
    "    empCount = 0\n",
    "    def __init__(self, name, salary):\n",
    "        self.name = name\n",
    "        self.salary = salary\n",
    "        Employee.empCount += 1\n",
    "    def displayCount(self):\n",
    "        print(\"Total Employee %d\" % Employee.empCount)\n",
    "    def displayEmployee(self):\n",
    "        print(\"Name : \", self.name,  \", Salary: \", self.salary)\n",
    "\n",
    "print(\"Before count : \",Employee.empCount)\n",
    "        \n",
    "e2 = Employee('Arun',50000)\n",
    "e3 = Employee(\"Vijau\", 23232)\n",
    "\n",
    "print(\"After count : \",Employee.empCount)"
   ]
  },
  {
   "cell_type": "code",
   "execution_count": 67,
   "id": "7946db29",
   "metadata": {},
   "outputs": [
    {
     "name": "stdout",
     "output_type": "stream",
     "text": [
      "before\n",
      "1.14\n",
      "1.14\n",
      "1.14\n",
      "After\n",
      "1.06\n",
      "1.06\n",
      "1.06\n"
     ]
    }
   ],
   "source": [
    "#Class and Static methods\n",
    "\n",
    "#Class methods\n",
    "\n",
    "class Employee:\n",
    "    raise_amt = 1.14\n",
    "    def __init__(self, name, salary):\n",
    "        self.name = name\n",
    "        self.salary = salary\n",
    "        \n",
    "    def apply_raise(self):\n",
    "        self.pay = int(self.pay* self.raise_amt)  \n",
    "    \n",
    "    @classmethod\n",
    "    def set_raise_amount(cls,amount):\n",
    "        Employee.raise_amt = amount\n",
    "#       cls.raise_amt = amount\n",
    "        \n",
    "        \n",
    "e2 = Employee('Arun',50000)\n",
    "e3 = Employee(\"Vijau\", 23232)\n",
    "\n",
    "\n",
    "print(\"before\")\n",
    "print(Employee.raise_amt)\n",
    "print(e2.raise_amt)\n",
    "print(e3.raise_amt)\n",
    "\n",
    "Employee.set_raise_amount(1.05)\n",
    "\n",
    "#we can also run class method by instance\n",
    "e2.set_raise_amount(1.06)\n",
    "\n",
    "print(\"After\")\n",
    "print(Employee.raise_amt)\n",
    "print(e2.raise_amt)\n",
    "print(e3.raise_amt)"
   ]
  },
  {
   "cell_type": "code",
   "execution_count": 74,
   "id": "d1e4b44f",
   "metadata": {},
   "outputs": [
    {
     "name": "stdout",
     "output_type": "stream",
     "text": [
      "JohnDoe 40000\n",
      "JohnDoe\n"
     ]
    }
   ],
   "source": [
    "emp1_str = 'JohnDoe-40000'\n",
    "emp2_str = 'AngelineJulie-56000'\n",
    "emp2_str = 'RobertDowneyJr-80000'\n",
    "\n",
    "# we want to pass this string to our employee class\n",
    "first,pay = emp1_str.split(\"-\")\n",
    "print(first,pay)\n",
    "empp1 = Employee(first,pay)\n",
    "print(empp1.name)\n",
    "\n",
    "#now we do the above same thing in class method\n"
   ]
  },
  {
   "cell_type": "code",
   "execution_count": 76,
   "id": "63da5d73",
   "metadata": {},
   "outputs": [
    {
     "name": "stdout",
     "output_type": "stream",
     "text": [
      "JohnDoe\n",
      "RobertDowneyJr\n"
     ]
    }
   ],
   "source": [
    "class Employee:\n",
    "    raise_amt = 1.14\n",
    "    def __init__(self, name, salary):\n",
    "        self.name = name\n",
    "        self.salary = salary\n",
    "        \n",
    "    def apply_raise(self):\n",
    "        self.pay = int(self.pay* self.raise_amt)  \n",
    "    \n",
    "    @classmethod\n",
    "    def set_raise_amount(cls,amount):\n",
    "        Employee.raise_amt = amount\n",
    "#       cls.raise_amt = amount\n",
    "\n",
    "    @classmethod\n",
    "    def from_string(cls,nameandpay):\n",
    "        name,pay =  nameandpay.split('-')\n",
    "        return cls(name,pay)\n",
    "        \n",
    "\n",
    "emp1_str = 'JohnDoe-40000'\n",
    "emp2_str = 'AngelineJulie-56000'\n",
    "emp2_str = 'RobertDowneyJr-80000'\n",
    "\n",
    "e1 = Employee.from_string(emp1_str)\n",
    "e2 = Employee.from_string(emp2_str)\n",
    "\n",
    "print(e1.name)\n",
    "print(e2.name)"
   ]
  },
  {
   "cell_type": "code",
   "execution_count": 78,
   "id": "82754ebb",
   "metadata": {},
   "outputs": [
    {
     "name": "stdout",
     "output_type": "stream",
     "text": [
      "True\n"
     ]
    }
   ],
   "source": [
    "#Static method\n",
    "#doesnot depend on any class related var\n",
    "class Employee:\n",
    "    raise_amt = 1.14\n",
    "    def __init__(self, name, salary):\n",
    "        self.name = name\n",
    "        self.salary = salary\n",
    "        \n",
    "    def apply_raise(self):\n",
    "        self.pay = int(self.pay* self.raise_amt)  \n",
    "    \n",
    "    @classmethod\n",
    "    def set_raise_amount(cls,amount):\n",
    "        Employee.raise_amt = amount\n",
    "    @staticmethod\n",
    "    def is_weekdauy(day): #it doesnt take any cls \n",
    "        if day.weekday() == 4 or day.weekday() == 6:\n",
    "            return False\n",
    "        return True\n",
    "        \n",
    "        \n",
    "e2 = Employee('Arun',50000)\n",
    "e3 = Employee(\"Vijau\", 23232)\n",
    "import datetime\n",
    "my_date = datetime.date(2000, 6, 24)\n",
    "print(Employee.is_weekdauy(my_date))"
   ]
  },
  {
   "cell_type": "code",
   "execution_count": 85,
   "id": "6502be48",
   "metadata": {},
   "outputs": [
    {
     "name": "stdout",
     "output_type": "stream",
     "text": [
      "Arun\n",
      "1140000\n"
     ]
    }
   ],
   "source": [
    "#Inheritance\n",
    "\n",
    "class Employee:\n",
    "    raise_amt = 1.14\n",
    "    def __init__(self, name, salary):\n",
    "        self.name = name\n",
    "        self.salary = salary\n",
    "        \n",
    "    def apply_raise(self):\n",
    "        self.salary = int(self.salary* self.raise_amt)  \n",
    "class Developer(Employee):\n",
    "    pass\n",
    "\n",
    "dev1 = Developer(\"Arun\",1000000)\n",
    "print(dev1.name)\n",
    "# print(help(Developer))  #it tells where it inherited from\n",
    "\n",
    "dev1.apply_raise();  #rasied amount for dev \n",
    "print(dev1.salary)\n"
   ]
  },
  {
   "cell_type": "code",
   "execution_count": 87,
   "id": "36d8cac0",
   "metadata": {},
   "outputs": [
    {
     "name": "stdout",
     "output_type": "stream",
     "text": [
      "Python\n",
      "Java\n"
     ]
    }
   ],
   "source": [
    "class Employee:\n",
    "    raise_amt = 1.14\n",
    "    def __init__(self, name, salary):\n",
    "        self.name = name\n",
    "        self.salary = salary\n",
    "        \n",
    "    def apply_raise(self):\n",
    "        self.salary = int(self.salary* self.raise_amt)  \n",
    "class Developer(Employee):\n",
    "    def __init__(self, name, salary, prog_lang):\n",
    "        #by this, we can avoid retyping the var\n",
    "        super().__init__(name,salary)\n",
    "        #Employee.__init__(self,name,salary) it is also acceptable\n",
    "        self.prog_lang = prog_lang\n",
    "        \n",
    "dev1 = Developer(\"Arun\",100000,'Python')\n",
    "dev2 = Developer(\"Balaji\",140000,'Java')\n",
    "print(dev1.prog_lang)\n",
    "print(dev2.prog_lang)"
   ]
  },
  {
   "cell_type": "code",
   "execution_count": 105,
   "id": "87979f3e",
   "metadata": {},
   "outputs": [
    {
     "name": "stdout",
     "output_type": "stream",
     "text": [
      "-->  Arun\n",
      "-->  Balaji\n",
      "remove emp 2\n",
      "-->  Arun\n"
     ]
    }
   ],
   "source": [
    "# Multiple Inheritance --> if many classes inherited from single class\n",
    "#multilevel inheritance --> if class1(class2)  class3(class2)\\\n",
    "\n",
    "#SUBCLASS\n",
    "class Employee:\n",
    "    raise_amt = 1.14\n",
    "    def __init__(self, name, salary):\n",
    "        self.name = name\n",
    "        self.salary = salary\n",
    "        \n",
    "    def apply_raise(self):\n",
    "        self.salary = int(self.salary* self.raise_amt)  \n",
    "class Developer(Employee):\n",
    "    def __init__(self, name, salary, prog_lang):\n",
    "        #by this, we can avoid retyping the var\n",
    "        super().__init__(name,salary)\n",
    "        #Employee.__init__(self,name,salary) it is also acceptable\n",
    "        self.prog_lang = prog_lang\n",
    "class Manager(Employee):\n",
    "    def __init__(self,name,salary,employees=None):\n",
    "        super().__init__(name,salary)\n",
    "        if employees is None:\n",
    "            self.employees = [];\n",
    "        else:\n",
    "            self.employees = employees\n",
    "    def add_emp(self,emp):\n",
    "        if emp not in self.employees:\n",
    "            self.employees.append(emp)\n",
    "    def remove_emp(self,emp):\n",
    "        if emp in self.employees:\n",
    "            self.employees.remove(emp)\n",
    "    def print_emp(self):\n",
    "        for emp in self.employees:\n",
    "            print('--> ', emp.name)\n",
    "    \n",
    "dev1 = Developer(\"Arun\",100000,'Python')\n",
    "dev2 = Developer(\"Balaji\",140000,'Java')\n",
    "\n",
    "mngr1 = Manager(\"James\",90000,[dev1])\n",
    "mngr1.add_emp(dev2)\n",
    "mngr1.print_emp()\n",
    "print(\"remove emp 2\")\n",
    "mngr1.remove_emp(dev2)\n",
    "mngr1.print_emp()"
   ]
  },
  {
   "cell_type": "code",
   "execution_count": 106,
   "id": "6bbb09b9",
   "metadata": {},
   "outputs": [
    {
     "name": "stdout",
     "output_type": "stream",
     "text": [
      "True\n",
      "True\n",
      "False\n",
      "True\n",
      "False\n"
     ]
    }
   ],
   "source": [
    "print(isinstance(mngr1, Manager))\n",
    "print(isinstance(mngr1, Employee))\n",
    "print(isinstance(mngr1, Developer))\n",
    "\n",
    "print(issubclass(Manager,Employee))\n",
    "print(issubclass(Manager,Developer))\n"
   ]
  },
  {
   "cell_type": "code",
   "execution_count": 110,
   "id": "0ae1a7a9",
   "metadata": {},
   "outputs": [
    {
     "name": "stdout",
     "output_type": "stream",
     "text": [
      "Employee('arun','2423323')\n",
      "vijay@gmail.com\n",
      "Employee('arun','2423323')\n",
      "vijay@gmail.com\n"
     ]
    }
   ],
   "source": [
    "# Special (Magic/Dunder) methods\n",
    "# __repr__\n",
    "# __str__\n",
    "# change how objeccts are returned\n",
    "\n",
    "class Employee:\n",
    "    raise_amt = 1.14\n",
    "    def __init__(self, name, salary):\n",
    "        self.name = name\n",
    "        self.salary = salary\n",
    "        \n",
    "    def apply_raise(self):\n",
    "        self.salary = int(self.salary* self.raise_amt)  \n",
    "        \n",
    "    def __repr__(self):\n",
    "        return \"Employee('{}','{}')\".format(self.name,self.salary)\n",
    "    \n",
    "    def __str__(self):\n",
    "        return '{}@gmail.com'.format(self.name)\n",
    "    \n",
    "emp1 = Employee('arun',2423323)\n",
    "emp2 = Employee('vijay',23234343)\n",
    "\n",
    "# print(repr(emp1))\n",
    "# print(str(emp2))\n",
    "\n",
    "print(emp1.__repr__())\n",
    "print(emp2.__str__())"
   ]
  },
  {
   "cell_type": "code",
   "execution_count": 111,
   "id": "44065e98",
   "metadata": {},
   "outputs": [
    {
     "name": "stdout",
     "output_type": "stream",
     "text": [
      "5\n",
      "5\n"
     ]
    }
   ],
   "source": [
    "print(2+3)\n",
    "print(int.__add__(2,3))"
   ]
  },
  {
   "cell_type": "code",
   "execution_count": 117,
   "id": "14d66726",
   "metadata": {},
   "outputs": [
    {
     "name": "stdout",
     "output_type": "stream",
     "text": [
      "ab\n",
      "ab\n"
     ]
    }
   ],
   "source": [
    "print('a'+'b')\n",
    "print(str.__add__('a','b'))"
   ]
  },
  {
   "cell_type": "code",
   "execution_count": 116,
   "id": "d4295c95",
   "metadata": {},
   "outputs": [
    {
     "name": "stdout",
     "output_type": "stream",
     "text": [
      "2723323\n",
      "2723323\n"
     ]
    }
   ],
   "source": [
    "#adding two employes salary using dunder mehtod\n",
    "class Employee:\n",
    "    raise_amt = 1.14\n",
    "    def __init__(self, name, salary):\n",
    "        self.name = name\n",
    "        self.salary = salary\n",
    "        \n",
    "    def apply_raise(self):\n",
    "        self.salary = int(self.salary* self.raise_amt)  \n",
    "        \n",
    "    def __repr__(self):\n",
    "        return \"Employee('{}','{}')\".format(self.name,self.salary)\n",
    "    \n",
    "    def __str__(self):\n",
    "        return '{}@gmail.com'.format(self.name)\n",
    "    \n",
    "    def __add__(self,other):\n",
    "        return self.salary+ other.salary\n",
    "    \n",
    "    \n",
    "emp1= Employee(\"arun\",2323323)\n",
    "emp2= Employee(\"balaji\",400000)\n",
    "print(emp1+emp2)\n",
    "print(emp1.__add__(emp2))"
   ]
  },
  {
   "cell_type": "code",
   "execution_count": 118,
   "id": "ad0913ee",
   "metadata": {},
   "outputs": [
    {
     "name": "stdout",
     "output_type": "stream",
     "text": [
      "4\n",
      "4\n"
     ]
    }
   ],
   "source": [
    "print(len(\"arun\"))\n",
    "print('arun'.__len__())"
   ]
  },
  {
   "cell_type": "code",
   "execution_count": 120,
   "id": "962aab6b",
   "metadata": {},
   "outputs": [
    {
     "name": "stdout",
     "output_type": "stream",
     "text": [
      "4\n",
      "6\n"
     ]
    }
   ],
   "source": [
    "class Employee:\n",
    "    raise_amt = 1.14\n",
    "    def __init__(self, name, salary):\n",
    "        self.name = name\n",
    "        self.salary = salary\n",
    "        \n",
    "    def apply_raise(self):\n",
    "        self.salary = int(self.salary* self.raise_amt)  \n",
    "        \n",
    "    def __repr__(self):\n",
    "        return \"Employee('{}','{}')\".format(self.name,self.salary)\n",
    "    \n",
    "    def __str__(self):\n",
    "        return '{}@gmail.com'.format(self.name)\n",
    "    \n",
    "    def __add__(self,other):\n",
    "        return self.salary+ other.salary\n",
    "    \n",
    "    def __len__(self):\n",
    "        return len(self.name)\n",
    "    \n",
    "    \n",
    "emp1= Employee(\"arun\",2323323)\n",
    "emp2= Employee(\"balaji\",400000)\n",
    "print(len(emp1))\n",
    "print(len(emp2))"
   ]
  },
  {
   "cell_type": "code",
   "execution_count": 132,
   "id": "e72d2212",
   "metadata": {},
   "outputs": [
    {
     "name": "stdout",
     "output_type": "stream",
     "text": [
      "Arun\n",
      "Vimal\n",
      "Vimal.Balaji@email.com\n"
     ]
    }
   ],
   "source": [
    "#Property Decorators - Getters, Setters, and Deleters\n",
    "class Employee:\n",
    "    def __init__(self,first,last):\n",
    "        self.first = first\n",
    "        self.last = last\n",
    "        \n",
    "    @property    \n",
    "    def mail(self):\n",
    "        return \"{}.{}@email.com\".format(self.first,self.last)\n",
    "    \n",
    "\n",
    "emp1 = Employee('Arun','Balaji')\n",
    "emp2 = Employee('Vijay','Baskar')\n",
    "\n",
    "print(emp1.first)\n",
    "# print(emp1.mail())  #if i want to use call this mail() like variable \n",
    "# just add @property above email..in this way we can get this like var\n",
    "\n",
    "\n",
    "emp1.first = \"Vimal\"\n",
    "print(emp1.first)\n",
    "print(emp1.mail)"
   ]
  },
  {
   "cell_type": "code",
   "execution_count": 139,
   "id": "55bacf86",
   "metadata": {},
   "outputs": [
    {
     "name": "stdout",
     "output_type": "stream",
     "text": [
      "Panjavan\n",
      "Parivendhan\n",
      "Panjavan.Parivendhan@email.com\n"
     ]
    }
   ],
   "source": [
    "class Employee:\n",
    "    def __init__(self,first,last):\n",
    "        self.first = first\n",
    "        self.last = last\n",
    "        \n",
    "    @property    \n",
    "    def mail(self):\n",
    "        return \"{}.{}@email.com\".format(self.first,self.last)\n",
    "    \n",
    "    @property\n",
    "    def fullname(self):\n",
    "        return '{} {}'.format(self.first, self.last)\n",
    "    \n",
    "    @fullname.setter\n",
    "    def fullname(self,name):\n",
    "        first,last = name.split(\" \")\n",
    "        self.first = first\n",
    "        self.last = last\n",
    "        \n",
    "    \n",
    "\n",
    "emper = Employee('Arun','Balaji')\n",
    "emper.fullname = \"Panjavan Parivendhan\"\n",
    "print(emper.first)\n",
    "print(emper.last)\n",
    "print(emper.mail)"
   ]
  },
  {
   "cell_type": "code",
   "execution_count": 3,
   "id": "c821bf2b",
   "metadata": {},
   "outputs": [
    {
     "name": "stdout",
     "output_type": "stream",
     "text": [
      "Panjavan\n",
      "Parivendhan\n",
      "Panjavan.Parivendhan@email.com\n",
      "Name Deleted !\n",
      "None\n"
     ]
    }
   ],
   "source": [
    "#deleter\n",
    "class Employee:\n",
    "    def __init__(self,first,last):\n",
    "        self.first = first\n",
    "        self.last = last\n",
    "        \n",
    "    @property    \n",
    "    def mail(self):\n",
    "        return \"{}.{}@email.com\".format(self.first,self.last)\n",
    "    \n",
    "    @property\n",
    "    def fullname(self):\n",
    "        return '{} {}'.format(self.first, self.last)\n",
    "    \n",
    "    @fullname.setter\n",
    "    def fullname(self,name):\n",
    "        first,last = name.split(\" \")\n",
    "        self.first = first\n",
    "        self.last = last\n",
    "        \n",
    "    @fullname.deleter\n",
    "    def fullname(self):\n",
    "        print(\"Name Deleted !\")\n",
    "        self.first = None;\n",
    "        self.last = None;\n",
    "        \n",
    "emper = Employee('Arun','Balaji')\n",
    "emper.fullname = \"Panjavan Parivendhan\"\n",
    "print(emper.first)\n",
    "print(emper.last)\n",
    "print(emper.mail)\n",
    "\n",
    "del emper.fullname   #using deleter\n",
    "\n",
    "print(emper.first)"
   ]
  },
  {
   "cell_type": "code",
   "execution_count": 4,
   "id": "68137670",
   "metadata": {},
   "outputs": [
    {
     "name": "stdout",
     "output_type": "stream",
     "text": [
      "27\n"
     ]
    }
   ],
   "source": [
    "#Overloading\n",
    "def add(a,b):\n",
    "    return a+b\n",
    "def add(a,b,c):\n",
    "    return a+b+c\n",
    "\n",
    "# print(add(4,4))\n",
    "print(add(3,23,1))"
   ]
  },
  {
   "cell_type": "code",
   "execution_count": 2,
   "id": "f1b0e8ab",
   "metadata": {},
   "outputs": [
    {
     "name": "stdout",
     "output_type": "stream",
     "text": [
      "Meow\n",
      "I am a cat. My name is Kitty. I am 2.5 years old.\n",
      "Meow\n",
      "Bark\n",
      "I am a dog. My name is Fluffy. I am 4 years old.\n",
      "Bark\n"
     ]
    }
   ],
   "source": [
    "#Polymorphism (Many forms)\n",
    "#Python doesnt support polymorphisms. But one can create a loop that iterates through a tuple of objects. \n",
    "\n",
    "class Cat:\n",
    "    def __init__(self, name, age):\n",
    "        self.name = name\n",
    "        self.age = age\n",
    "\n",
    "    def info(self):\n",
    "        print(f\"I am a cat. My name is {self.name}. I am {self.age} years old.\")\n",
    "\n",
    "    def make_sound(self):\n",
    "        print(\"Meow\")\n",
    "\n",
    "\n",
    "class Dog:\n",
    "    def __init__(self, name, age):\n",
    "        self.name = name\n",
    "        self.age = age\n",
    "\n",
    "    def info(self):\n",
    "        print(f\"I am a dog. My name is {self.name}. I am {self.age} years old.\")\n",
    "\n",
    "    def make_sound(self):\n",
    "        print(\"Bark\")\n",
    "\n",
    "\n",
    "cat1 = Cat(\"Kitty\", 2.5)\n",
    "dog1 = Dog(\"Fluffy\", 4)\n",
    "\n",
    "# creating a loop to iterate through the obj1, obj2\n",
    "for animal in (cat1, dog1): \n",
    "    animal.make_sound()\n",
    "    animal.info()\n",
    "    animal.make_sound()\n"
   ]
  },
  {
   "cell_type": "code",
   "execution_count": null,
   "id": "5f79ba2f",
   "metadata": {},
   "outputs": [],
   "source": []
  }
 ],
 "metadata": {
  "kernelspec": {
   "display_name": "Python 3",
   "language": "python",
   "name": "python3"
  },
  "language_info": {
   "codemirror_mode": {
    "name": "ipython",
    "version": 3
   },
   "file_extension": ".py",
   "mimetype": "text/x-python",
   "name": "python",
   "nbconvert_exporter": "python",
   "pygments_lexer": "ipython3",
   "version": "3.7.7"
  }
 },
 "nbformat": 4,
 "nbformat_minor": 5
}
