{
 "cells": [
  {
   "cell_type": "markdown",
   "id": "3ac7d5e5",
   "metadata": {},
   "source": [
    "## Selecting Rows and Columns"
   ]
  },
  {
   "cell_type": "code",
   "execution_count": 165,
   "id": "0e37ae12",
   "metadata": {},
   "outputs": [],
   "source": [
    "import pandas as pd"
   ]
  },
  {
   "cell_type": "code",
   "execution_count": 166,
   "id": "5a7d8a37",
   "metadata": {},
   "outputs": [
    {
     "data": {
      "text/plain": [
       "{'first': 'arun', 'last': 'r', 'email': 'arunbalaji25062k@gmail.com'}"
      ]
     },
     "execution_count": 166,
     "metadata": {},
     "output_type": "execute_result"
    }
   ],
   "source": [
    "#Python Dict to dataframe\n",
    "people = {\n",
    "    'first':'arun',\n",
    "    'last':'r',\n",
    "    'email': 'arunbalaji25062k@gmail.com',\n",
    "}\n",
    "people"
   ]
  },
  {
   "cell_type": "code",
   "execution_count": 167,
   "id": "e4cd4cdd",
   "metadata": {},
   "outputs": [
    {
     "data": {
      "text/plain": [
       "{'first': ['arun'], 'last': ['r'], 'email': ['arunbalaji25062k@gmail.com']}"
      ]
     },
     "execution_count": 167,
     "metadata": {},
     "output_type": "execute_result"
    }
   ],
   "source": [
    "people = {\n",
    "    'first': ['arun'],\n",
    "    'last':['r'],\n",
    "    'email': ['arunbalaji25062k@gmail.com'],\n",
    "}\n",
    "people"
   ]
  },
  {
   "cell_type": "code",
   "execution_count": 168,
   "id": "a31795c2",
   "metadata": {},
   "outputs": [
    {
     "data": {
      "text/plain": [
       "{'first': ['arun', 'vijay', 'kavin', 'gokul', 'karthick', 'arjun', 'akshay'],\n",
       " 'last': ['balaji', 'baskar', 'kumar', 'kumar', 'kumar', 'baskar', 'balaji'],\n",
       " 'email': ['arunbalaji25062k@gmail.com',\n",
       "  'vijay@gmail.com',\n",
       "  'kavin@gmail.com',\n",
       "  'gokul@gmail.com',\n",
       "  'karthick@gmail.com',\n",
       "  'arjun@gmail.com',\n",
       "  'akshay@gmail.com']}"
      ]
     },
     "execution_count": 168,
     "metadata": {},
     "output_type": "execute_result"
    }
   ],
   "source": [
    "people = {\n",
    "    'first': ['arun','vijay','kavin','gokul','karthick','arjun','akshay'],\n",
    "    'last':['balaji','baskar','kumar','kumar','kumar','baskar','balaji'],\n",
    "    'email': ['arunbalaji25062k@gmail.com','vijay@gmail.com','kavin@gmail.com','gokul@gmail.com','karthick@gmail.com','arjun@gmail.com','akshay@gmail.com'],\n",
    "}\n",
    "people"
   ]
  },
  {
   "cell_type": "code",
   "execution_count": 169,
   "id": "a2d913fe",
   "metadata": {},
   "outputs": [
    {
     "data": {
      "text/html": [
       "<div>\n",
       "<style scoped>\n",
       "    .dataframe tbody tr th:only-of-type {\n",
       "        vertical-align: middle;\n",
       "    }\n",
       "\n",
       "    .dataframe tbody tr th {\n",
       "        vertical-align: top;\n",
       "    }\n",
       "\n",
       "    .dataframe thead th {\n",
       "        text-align: right;\n",
       "    }\n",
       "</style>\n",
       "<table border=\"1\" class=\"dataframe\">\n",
       "  <thead>\n",
       "    <tr style=\"text-align: right;\">\n",
       "      <th></th>\n",
       "      <th>first</th>\n",
       "      <th>last</th>\n",
       "      <th>email</th>\n",
       "    </tr>\n",
       "  </thead>\n",
       "  <tbody>\n",
       "    <tr>\n",
       "      <th>0</th>\n",
       "      <td>arun</td>\n",
       "      <td>balaji</td>\n",
       "      <td>arunbalaji25062k@gmail.com</td>\n",
       "    </tr>\n",
       "    <tr>\n",
       "      <th>1</th>\n",
       "      <td>vijay</td>\n",
       "      <td>baskar</td>\n",
       "      <td>vijay@gmail.com</td>\n",
       "    </tr>\n",
       "    <tr>\n",
       "      <th>2</th>\n",
       "      <td>kavin</td>\n",
       "      <td>kumar</td>\n",
       "      <td>kavin@gmail.com</td>\n",
       "    </tr>\n",
       "    <tr>\n",
       "      <th>3</th>\n",
       "      <td>gokul</td>\n",
       "      <td>kumar</td>\n",
       "      <td>gokul@gmail.com</td>\n",
       "    </tr>\n",
       "    <tr>\n",
       "      <th>4</th>\n",
       "      <td>karthick</td>\n",
       "      <td>kumar</td>\n",
       "      <td>karthick@gmail.com</td>\n",
       "    </tr>\n",
       "    <tr>\n",
       "      <th>5</th>\n",
       "      <td>arjun</td>\n",
       "      <td>baskar</td>\n",
       "      <td>arjun@gmail.com</td>\n",
       "    </tr>\n",
       "    <tr>\n",
       "      <th>6</th>\n",
       "      <td>akshay</td>\n",
       "      <td>balaji</td>\n",
       "      <td>akshay@gmail.com</td>\n",
       "    </tr>\n",
       "  </tbody>\n",
       "</table>\n",
       "</div>"
      ],
      "text/plain": [
       "      first    last                       email\n",
       "0      arun  balaji  arunbalaji25062k@gmail.com\n",
       "1     vijay  baskar             vijay@gmail.com\n",
       "2     kavin   kumar             kavin@gmail.com\n",
       "3     gokul   kumar             gokul@gmail.com\n",
       "4  karthick   kumar          karthick@gmail.com\n",
       "5     arjun  baskar             arjun@gmail.com\n",
       "6    akshay  balaji            akshay@gmail.com"
      ]
     },
     "execution_count": 169,
     "metadata": {},
     "output_type": "execute_result"
    }
   ],
   "source": [
    "df = pd.DataFrame(people)\n",
    "df"
   ]
  },
  {
   "cell_type": "code",
   "execution_count": 170,
   "id": "a64bbadf",
   "metadata": {},
   "outputs": [
    {
     "data": {
      "text/plain": [
       "0    arunbalaji25062k@gmail.com\n",
       "1               vijay@gmail.com\n",
       "2               kavin@gmail.com\n",
       "3               gokul@gmail.com\n",
       "4            karthick@gmail.com\n",
       "5               arjun@gmail.com\n",
       "6              akshay@gmail.com\n",
       "Name: email, dtype: object"
      ]
     },
     "execution_count": 170,
     "metadata": {},
     "output_type": "execute_result"
    }
   ],
   "source": [
    "df['email']"
   ]
  },
  {
   "cell_type": "code",
   "execution_count": 171,
   "id": "85333661",
   "metadata": {},
   "outputs": [
    {
     "data": {
      "text/plain": [
       "0    arunbalaji25062k@gmail.com\n",
       "1               vijay@gmail.com\n",
       "2               kavin@gmail.com\n",
       "3               gokul@gmail.com\n",
       "4            karthick@gmail.com\n",
       "5               arjun@gmail.com\n",
       "6              akshay@gmail.com\n",
       "Name: email, dtype: object"
      ]
     },
     "execution_count": 171,
     "metadata": {},
     "output_type": "execute_result"
    }
   ],
   "source": [
    "df.email  #it also returns same (not preferable)"
   ]
  },
  {
   "cell_type": "code",
   "execution_count": 172,
   "id": "a771f64b",
   "metadata": {},
   "outputs": [
    {
     "data": {
      "text/plain": [
       "pandas.core.series.Series"
      ]
     },
     "execution_count": 172,
     "metadata": {},
     "output_type": "execute_result"
    }
   ],
   "source": [
    "type(df['email'])  #series is nothing but rows or columns(1d)"
   ]
  },
  {
   "cell_type": "code",
   "execution_count": 173,
   "id": "cc470bb1",
   "metadata": {},
   "outputs": [
    {
     "data": {
      "text/html": [
       "<div>\n",
       "<style scoped>\n",
       "    .dataframe tbody tr th:only-of-type {\n",
       "        vertical-align: middle;\n",
       "    }\n",
       "\n",
       "    .dataframe tbody tr th {\n",
       "        vertical-align: top;\n",
       "    }\n",
       "\n",
       "    .dataframe thead th {\n",
       "        text-align: right;\n",
       "    }\n",
       "</style>\n",
       "<table border=\"1\" class=\"dataframe\">\n",
       "  <thead>\n",
       "    <tr style=\"text-align: right;\">\n",
       "      <th></th>\n",
       "      <th>first</th>\n",
       "      <th>email</th>\n",
       "    </tr>\n",
       "  </thead>\n",
       "  <tbody>\n",
       "    <tr>\n",
       "      <th>0</th>\n",
       "      <td>arun</td>\n",
       "      <td>arunbalaji25062k@gmail.com</td>\n",
       "    </tr>\n",
       "    <tr>\n",
       "      <th>1</th>\n",
       "      <td>vijay</td>\n",
       "      <td>vijay@gmail.com</td>\n",
       "    </tr>\n",
       "    <tr>\n",
       "      <th>2</th>\n",
       "      <td>kavin</td>\n",
       "      <td>kavin@gmail.com</td>\n",
       "    </tr>\n",
       "    <tr>\n",
       "      <th>3</th>\n",
       "      <td>gokul</td>\n",
       "      <td>gokul@gmail.com</td>\n",
       "    </tr>\n",
       "    <tr>\n",
       "      <th>4</th>\n",
       "      <td>karthick</td>\n",
       "      <td>karthick@gmail.com</td>\n",
       "    </tr>\n",
       "    <tr>\n",
       "      <th>5</th>\n",
       "      <td>arjun</td>\n",
       "      <td>arjun@gmail.com</td>\n",
       "    </tr>\n",
       "    <tr>\n",
       "      <th>6</th>\n",
       "      <td>akshay</td>\n",
       "      <td>akshay@gmail.com</td>\n",
       "    </tr>\n",
       "  </tbody>\n",
       "</table>\n",
       "</div>"
      ],
      "text/plain": [
       "      first                       email\n",
       "0      arun  arunbalaji25062k@gmail.com\n",
       "1     vijay             vijay@gmail.com\n",
       "2     kavin             kavin@gmail.com\n",
       "3     gokul             gokul@gmail.com\n",
       "4  karthick          karthick@gmail.com\n",
       "5     arjun             arjun@gmail.com\n",
       "6    akshay            akshay@gmail.com"
      ]
     },
     "execution_count": 173,
     "metadata": {},
     "output_type": "execute_result"
    }
   ],
   "source": [
    "#accessing multiple columns\n",
    "df[['first','email']]"
   ]
  },
  {
   "cell_type": "code",
   "execution_count": 174,
   "id": "e58ee8af",
   "metadata": {},
   "outputs": [
    {
     "data": {
      "text/plain": [
       "Index(['first', 'last', 'email'], dtype='object')"
      ]
     },
     "execution_count": 174,
     "metadata": {},
     "output_type": "execute_result"
    }
   ],
   "source": [
    "#to get column list\n",
    "df.columns"
   ]
  },
  {
   "cell_type": "code",
   "execution_count": 175,
   "id": "e6051cd0",
   "metadata": {},
   "outputs": [
    {
     "data": {
      "text/plain": [
       "first                          arun\n",
       "last                         balaji\n",
       "email    arunbalaji25062k@gmail.com\n",
       "Name: 0, dtype: object"
      ]
     },
     "execution_count": 175,
     "metadata": {},
     "output_type": "execute_result"
    }
   ],
   "source": [
    "#to access rows 1.loc 2.iloc(interger location)\n",
    "df.iloc[0]  #to access rows"
   ]
  },
  {
   "cell_type": "code",
   "execution_count": 176,
   "id": "542730a1",
   "metadata": {},
   "outputs": [
    {
     "data": {
      "text/html": [
       "<div>\n",
       "<style scoped>\n",
       "    .dataframe tbody tr th:only-of-type {\n",
       "        vertical-align: middle;\n",
       "    }\n",
       "\n",
       "    .dataframe tbody tr th {\n",
       "        vertical-align: top;\n",
       "    }\n",
       "\n",
       "    .dataframe thead th {\n",
       "        text-align: right;\n",
       "    }\n",
       "</style>\n",
       "<table border=\"1\" class=\"dataframe\">\n",
       "  <thead>\n",
       "    <tr style=\"text-align: right;\">\n",
       "      <th></th>\n",
       "      <th>first</th>\n",
       "      <th>last</th>\n",
       "      <th>email</th>\n",
       "    </tr>\n",
       "  </thead>\n",
       "  <tbody>\n",
       "    <tr>\n",
       "      <th>0</th>\n",
       "      <td>arun</td>\n",
       "      <td>balaji</td>\n",
       "      <td>arunbalaji25062k@gmail.com</td>\n",
       "    </tr>\n",
       "    <tr>\n",
       "      <th>2</th>\n",
       "      <td>kavin</td>\n",
       "      <td>kumar</td>\n",
       "      <td>kavin@gmail.com</td>\n",
       "    </tr>\n",
       "  </tbody>\n",
       "</table>\n",
       "</div>"
      ],
      "text/plain": [
       "   first    last                       email\n",
       "0   arun  balaji  arunbalaji25062k@gmail.com\n",
       "2  kavin   kumar             kavin@gmail.com"
      ]
     },
     "execution_count": 176,
     "metadata": {},
     "output_type": "execute_result"
    }
   ],
   "source": [
    "#multiple rows\n",
    "df.iloc[[0,2]]"
   ]
  },
  {
   "cell_type": "code",
   "execution_count": 177,
   "id": "cca6984c",
   "metadata": {},
   "outputs": [
    {
     "data": {
      "text/plain": [
       "0    arunbalaji25062k@gmail.com\n",
       "2               kavin@gmail.com\n",
       "Name: email, dtype: object"
      ]
     },
     "execution_count": 177,
     "metadata": {},
     "output_type": "execute_result"
    }
   ],
   "source": [
    "#we can also get the columns using iloc(using interger only)\n",
    "df.iloc[[0,2],2]"
   ]
  },
  {
   "cell_type": "code",
   "execution_count": 178,
   "id": "44dd8086",
   "metadata": {},
   "outputs": [
    {
     "data": {
      "text/html": [
       "<div>\n",
       "<style scoped>\n",
       "    .dataframe tbody tr th:only-of-type {\n",
       "        vertical-align: middle;\n",
       "    }\n",
       "\n",
       "    .dataframe tbody tr th {\n",
       "        vertical-align: top;\n",
       "    }\n",
       "\n",
       "    .dataframe thead th {\n",
       "        text-align: right;\n",
       "    }\n",
       "</style>\n",
       "<table border=\"1\" class=\"dataframe\">\n",
       "  <thead>\n",
       "    <tr style=\"text-align: right;\">\n",
       "      <th></th>\n",
       "      <th>first</th>\n",
       "      <th>last</th>\n",
       "      <th>email</th>\n",
       "    </tr>\n",
       "  </thead>\n",
       "  <tbody>\n",
       "    <tr>\n",
       "      <th>0</th>\n",
       "      <td>arun</td>\n",
       "      <td>balaji</td>\n",
       "      <td>arunbalaji25062k@gmail.com</td>\n",
       "    </tr>\n",
       "    <tr>\n",
       "      <th>1</th>\n",
       "      <td>vijay</td>\n",
       "      <td>baskar</td>\n",
       "      <td>vijay@gmail.com</td>\n",
       "    </tr>\n",
       "    <tr>\n",
       "      <th>2</th>\n",
       "      <td>kavin</td>\n",
       "      <td>kumar</td>\n",
       "      <td>kavin@gmail.com</td>\n",
       "    </tr>\n",
       "    <tr>\n",
       "      <th>3</th>\n",
       "      <td>gokul</td>\n",
       "      <td>kumar</td>\n",
       "      <td>gokul@gmail.com</td>\n",
       "    </tr>\n",
       "    <tr>\n",
       "      <th>4</th>\n",
       "      <td>karthick</td>\n",
       "      <td>kumar</td>\n",
       "      <td>karthick@gmail.com</td>\n",
       "    </tr>\n",
       "    <tr>\n",
       "      <th>5</th>\n",
       "      <td>arjun</td>\n",
       "      <td>baskar</td>\n",
       "      <td>arjun@gmail.com</td>\n",
       "    </tr>\n",
       "    <tr>\n",
       "      <th>6</th>\n",
       "      <td>akshay</td>\n",
       "      <td>balaji</td>\n",
       "      <td>akshay@gmail.com</td>\n",
       "    </tr>\n",
       "  </tbody>\n",
       "</table>\n",
       "</div>"
      ],
      "text/plain": [
       "      first    last                       email\n",
       "0      arun  balaji  arunbalaji25062k@gmail.com\n",
       "1     vijay  baskar             vijay@gmail.com\n",
       "2     kavin   kumar             kavin@gmail.com\n",
       "3     gokul   kumar             gokul@gmail.com\n",
       "4  karthick   kumar          karthick@gmail.com\n",
       "5     arjun  baskar             arjun@gmail.com\n",
       "6    akshay  balaji            akshay@gmail.com"
      ]
     },
     "execution_count": 178,
     "metadata": {},
     "output_type": "execute_result"
    }
   ],
   "source": [
    "#loc (in iloc we accescd using integer)\n",
    "#in loc we access using label\n",
    "df"
   ]
  },
  {
   "cell_type": "code",
   "execution_count": 179,
   "id": "7003a6a2",
   "metadata": {},
   "outputs": [
    {
     "data": {
      "text/plain": [
       "first                          arun\n",
       "last                         balaji\n",
       "email    arunbalaji25062k@gmail.com\n",
       "Name: 0, dtype: object"
      ]
     },
     "execution_count": 179,
     "metadata": {},
     "output_type": "execute_result"
    }
   ],
   "source": [
    "#here first column 0,1,2 first row first,last email are labels\n",
    "df.loc[0]"
   ]
  },
  {
   "cell_type": "code",
   "execution_count": 180,
   "id": "b2ff0879",
   "metadata": {},
   "outputs": [
    {
     "data": {
      "text/plain": [
       "1    vijay\n",
       "0     arun\n",
       "Name: first, dtype: object"
      ]
     },
     "execution_count": 180,
     "metadata": {},
     "output_type": "execute_result"
    }
   ],
   "source": [
    "df.loc[[1,0],'first']"
   ]
  },
  {
   "cell_type": "code",
   "execution_count": 181,
   "id": "19411221",
   "metadata": {},
   "outputs": [
    {
     "data": {
      "text/html": [
       "<div>\n",
       "<style scoped>\n",
       "    .dataframe tbody tr th:only-of-type {\n",
       "        vertical-align: middle;\n",
       "    }\n",
       "\n",
       "    .dataframe tbody tr th {\n",
       "        vertical-align: top;\n",
       "    }\n",
       "\n",
       "    .dataframe thead th {\n",
       "        text-align: right;\n",
       "    }\n",
       "</style>\n",
       "<table border=\"1\" class=\"dataframe\">\n",
       "  <thead>\n",
       "    <tr style=\"text-align: right;\">\n",
       "      <th></th>\n",
       "      <th>first</th>\n",
       "      <th>email</th>\n",
       "    </tr>\n",
       "  </thead>\n",
       "  <tbody>\n",
       "    <tr>\n",
       "      <th>1</th>\n",
       "      <td>vijay</td>\n",
       "      <td>vijay@gmail.com</td>\n",
       "    </tr>\n",
       "    <tr>\n",
       "      <th>0</th>\n",
       "      <td>arun</td>\n",
       "      <td>arunbalaji25062k@gmail.com</td>\n",
       "    </tr>\n",
       "  </tbody>\n",
       "</table>\n",
       "</div>"
      ],
      "text/plain": [
       "   first                       email\n",
       "1  vijay             vijay@gmail.com\n",
       "0   arun  arunbalaji25062k@gmail.com"
      ]
     },
     "execution_count": 181,
     "metadata": {},
     "output_type": "execute_result"
    }
   ],
   "source": [
    "df.loc[[1,0],['first','email']]"
   ]
  },
  {
   "cell_type": "markdown",
   "id": "7487eea3",
   "metadata": {},
   "source": [
    "## Indexes"
   ]
  },
  {
   "cell_type": "code",
   "execution_count": 182,
   "id": "f1932a2c",
   "metadata": {},
   "outputs": [
    {
     "data": {
      "text/html": [
       "<div>\n",
       "<style scoped>\n",
       "    .dataframe tbody tr th:only-of-type {\n",
       "        vertical-align: middle;\n",
       "    }\n",
       "\n",
       "    .dataframe tbody tr th {\n",
       "        vertical-align: top;\n",
       "    }\n",
       "\n",
       "    .dataframe thead th {\n",
       "        text-align: right;\n",
       "    }\n",
       "</style>\n",
       "<table border=\"1\" class=\"dataframe\">\n",
       "  <thead>\n",
       "    <tr style=\"text-align: right;\">\n",
       "      <th></th>\n",
       "      <th>first</th>\n",
       "      <th>last</th>\n",
       "      <th>email</th>\n",
       "    </tr>\n",
       "  </thead>\n",
       "  <tbody>\n",
       "    <tr>\n",
       "      <th>0</th>\n",
       "      <td>arun</td>\n",
       "      <td>balaji</td>\n",
       "      <td>arunbalaji25062k@gmail.com</td>\n",
       "    </tr>\n",
       "    <tr>\n",
       "      <th>1</th>\n",
       "      <td>vijay</td>\n",
       "      <td>baskar</td>\n",
       "      <td>vijay@gmail.com</td>\n",
       "    </tr>\n",
       "    <tr>\n",
       "      <th>2</th>\n",
       "      <td>kavin</td>\n",
       "      <td>kumar</td>\n",
       "      <td>kavin@gmail.com</td>\n",
       "    </tr>\n",
       "    <tr>\n",
       "      <th>3</th>\n",
       "      <td>gokul</td>\n",
       "      <td>kumar</td>\n",
       "      <td>gokul@gmail.com</td>\n",
       "    </tr>\n",
       "    <tr>\n",
       "      <th>4</th>\n",
       "      <td>karthick</td>\n",
       "      <td>kumar</td>\n",
       "      <td>karthick@gmail.com</td>\n",
       "    </tr>\n",
       "    <tr>\n",
       "      <th>5</th>\n",
       "      <td>arjun</td>\n",
       "      <td>baskar</td>\n",
       "      <td>arjun@gmail.com</td>\n",
       "    </tr>\n",
       "    <tr>\n",
       "      <th>6</th>\n",
       "      <td>akshay</td>\n",
       "      <td>balaji</td>\n",
       "      <td>akshay@gmail.com</td>\n",
       "    </tr>\n",
       "  </tbody>\n",
       "</table>\n",
       "</div>"
      ],
      "text/plain": [
       "      first    last                       email\n",
       "0      arun  balaji  arunbalaji25062k@gmail.com\n",
       "1     vijay  baskar             vijay@gmail.com\n",
       "2     kavin   kumar             kavin@gmail.com\n",
       "3     gokul   kumar             gokul@gmail.com\n",
       "4  karthick   kumar          karthick@gmail.com\n",
       "5     arjun  baskar             arjun@gmail.com\n",
       "6    akshay  balaji            akshay@gmail.com"
      ]
     },
     "execution_count": 182,
     "metadata": {},
     "output_type": "execute_result"
    }
   ],
   "source": [
    "df"
   ]
  },
  {
   "cell_type": "code",
   "execution_count": 183,
   "id": "5c4dc6f7",
   "metadata": {},
   "outputs": [
    {
     "data": {
      "text/html": [
       "<div>\n",
       "<style scoped>\n",
       "    .dataframe tbody tr th:only-of-type {\n",
       "        vertical-align: middle;\n",
       "    }\n",
       "\n",
       "    .dataframe tbody tr th {\n",
       "        vertical-align: top;\n",
       "    }\n",
       "\n",
       "    .dataframe thead th {\n",
       "        text-align: right;\n",
       "    }\n",
       "</style>\n",
       "<table border=\"1\" class=\"dataframe\">\n",
       "  <thead>\n",
       "    <tr style=\"text-align: right;\">\n",
       "      <th></th>\n",
       "      <th>first</th>\n",
       "      <th>last</th>\n",
       "    </tr>\n",
       "    <tr>\n",
       "      <th>email</th>\n",
       "      <th></th>\n",
       "      <th></th>\n",
       "    </tr>\n",
       "  </thead>\n",
       "  <tbody>\n",
       "    <tr>\n",
       "      <th>arunbalaji25062k@gmail.com</th>\n",
       "      <td>arun</td>\n",
       "      <td>balaji</td>\n",
       "    </tr>\n",
       "    <tr>\n",
       "      <th>vijay@gmail.com</th>\n",
       "      <td>vijay</td>\n",
       "      <td>baskar</td>\n",
       "    </tr>\n",
       "    <tr>\n",
       "      <th>kavin@gmail.com</th>\n",
       "      <td>kavin</td>\n",
       "      <td>kumar</td>\n",
       "    </tr>\n",
       "    <tr>\n",
       "      <th>gokul@gmail.com</th>\n",
       "      <td>gokul</td>\n",
       "      <td>kumar</td>\n",
       "    </tr>\n",
       "    <tr>\n",
       "      <th>karthick@gmail.com</th>\n",
       "      <td>karthick</td>\n",
       "      <td>kumar</td>\n",
       "    </tr>\n",
       "    <tr>\n",
       "      <th>arjun@gmail.com</th>\n",
       "      <td>arjun</td>\n",
       "      <td>baskar</td>\n",
       "    </tr>\n",
       "    <tr>\n",
       "      <th>akshay@gmail.com</th>\n",
       "      <td>akshay</td>\n",
       "      <td>balaji</td>\n",
       "    </tr>\n",
       "  </tbody>\n",
       "</table>\n",
       "</div>"
      ],
      "text/plain": [
       "                               first    last\n",
       "email                                       \n",
       "arunbalaji25062k@gmail.com      arun  balaji\n",
       "vijay@gmail.com                vijay  baskar\n",
       "kavin@gmail.com                kavin   kumar\n",
       "gokul@gmail.com                gokul   kumar\n",
       "karthick@gmail.com          karthick   kumar\n",
       "arjun@gmail.com                arjun  baskar\n",
       "akshay@gmail.com              akshay  balaji"
      ]
     },
     "execution_count": 183,
     "metadata": {},
     "output_type": "execute_result"
    }
   ],
   "source": [
    "#here if we notice email might be unique so to set email as index\n",
    "df.set_index('email')"
   ]
  },
  {
   "cell_type": "code",
   "execution_count": 184,
   "id": "e0327115",
   "metadata": {},
   "outputs": [
    {
     "data": {
      "text/html": [
       "<div>\n",
       "<style scoped>\n",
       "    .dataframe tbody tr th:only-of-type {\n",
       "        vertical-align: middle;\n",
       "    }\n",
       "\n",
       "    .dataframe tbody tr th {\n",
       "        vertical-align: top;\n",
       "    }\n",
       "\n",
       "    .dataframe thead th {\n",
       "        text-align: right;\n",
       "    }\n",
       "</style>\n",
       "<table border=\"1\" class=\"dataframe\">\n",
       "  <thead>\n",
       "    <tr style=\"text-align: right;\">\n",
       "      <th></th>\n",
       "      <th>first</th>\n",
       "      <th>last</th>\n",
       "      <th>email</th>\n",
       "    </tr>\n",
       "  </thead>\n",
       "  <tbody>\n",
       "    <tr>\n",
       "      <th>0</th>\n",
       "      <td>arun</td>\n",
       "      <td>balaji</td>\n",
       "      <td>arunbalaji25062k@gmail.com</td>\n",
       "    </tr>\n",
       "    <tr>\n",
       "      <th>1</th>\n",
       "      <td>vijay</td>\n",
       "      <td>baskar</td>\n",
       "      <td>vijay@gmail.com</td>\n",
       "    </tr>\n",
       "    <tr>\n",
       "      <th>2</th>\n",
       "      <td>kavin</td>\n",
       "      <td>kumar</td>\n",
       "      <td>kavin@gmail.com</td>\n",
       "    </tr>\n",
       "    <tr>\n",
       "      <th>3</th>\n",
       "      <td>gokul</td>\n",
       "      <td>kumar</td>\n",
       "      <td>gokul@gmail.com</td>\n",
       "    </tr>\n",
       "    <tr>\n",
       "      <th>4</th>\n",
       "      <td>karthick</td>\n",
       "      <td>kumar</td>\n",
       "      <td>karthick@gmail.com</td>\n",
       "    </tr>\n",
       "    <tr>\n",
       "      <th>5</th>\n",
       "      <td>arjun</td>\n",
       "      <td>baskar</td>\n",
       "      <td>arjun@gmail.com</td>\n",
       "    </tr>\n",
       "    <tr>\n",
       "      <th>6</th>\n",
       "      <td>akshay</td>\n",
       "      <td>balaji</td>\n",
       "      <td>akshay@gmail.com</td>\n",
       "    </tr>\n",
       "  </tbody>\n",
       "</table>\n",
       "</div>"
      ],
      "text/plain": [
       "      first    last                       email\n",
       "0      arun  balaji  arunbalaji25062k@gmail.com\n",
       "1     vijay  baskar             vijay@gmail.com\n",
       "2     kavin   kumar             kavin@gmail.com\n",
       "3     gokul   kumar             gokul@gmail.com\n",
       "4  karthick   kumar          karthick@gmail.com\n",
       "5     arjun  baskar             arjun@gmail.com\n",
       "6    akshay  balaji            akshay@gmail.com"
      ]
     },
     "execution_count": 184,
     "metadata": {},
     "output_type": "execute_result"
    }
   ],
   "source": [
    "df  #not orignally changed"
   ]
  },
  {
   "cell_type": "code",
   "execution_count": 185,
   "id": "3a9482f3",
   "metadata": {},
   "outputs": [],
   "source": [
    "df.set_index('email',inplace=True)"
   ]
  },
  {
   "cell_type": "code",
   "execution_count": 186,
   "id": "1ba8b425",
   "metadata": {},
   "outputs": [
    {
     "data": {
      "text/html": [
       "<div>\n",
       "<style scoped>\n",
       "    .dataframe tbody tr th:only-of-type {\n",
       "        vertical-align: middle;\n",
       "    }\n",
       "\n",
       "    .dataframe tbody tr th {\n",
       "        vertical-align: top;\n",
       "    }\n",
       "\n",
       "    .dataframe thead th {\n",
       "        text-align: right;\n",
       "    }\n",
       "</style>\n",
       "<table border=\"1\" class=\"dataframe\">\n",
       "  <thead>\n",
       "    <tr style=\"text-align: right;\">\n",
       "      <th></th>\n",
       "      <th>first</th>\n",
       "      <th>last</th>\n",
       "    </tr>\n",
       "    <tr>\n",
       "      <th>email</th>\n",
       "      <th></th>\n",
       "      <th></th>\n",
       "    </tr>\n",
       "  </thead>\n",
       "  <tbody>\n",
       "    <tr>\n",
       "      <th>arunbalaji25062k@gmail.com</th>\n",
       "      <td>arun</td>\n",
       "      <td>balaji</td>\n",
       "    </tr>\n",
       "    <tr>\n",
       "      <th>vijay@gmail.com</th>\n",
       "      <td>vijay</td>\n",
       "      <td>baskar</td>\n",
       "    </tr>\n",
       "    <tr>\n",
       "      <th>kavin@gmail.com</th>\n",
       "      <td>kavin</td>\n",
       "      <td>kumar</td>\n",
       "    </tr>\n",
       "    <tr>\n",
       "      <th>gokul@gmail.com</th>\n",
       "      <td>gokul</td>\n",
       "      <td>kumar</td>\n",
       "    </tr>\n",
       "    <tr>\n",
       "      <th>karthick@gmail.com</th>\n",
       "      <td>karthick</td>\n",
       "      <td>kumar</td>\n",
       "    </tr>\n",
       "    <tr>\n",
       "      <th>arjun@gmail.com</th>\n",
       "      <td>arjun</td>\n",
       "      <td>baskar</td>\n",
       "    </tr>\n",
       "    <tr>\n",
       "      <th>akshay@gmail.com</th>\n",
       "      <td>akshay</td>\n",
       "      <td>balaji</td>\n",
       "    </tr>\n",
       "  </tbody>\n",
       "</table>\n",
       "</div>"
      ],
      "text/plain": [
       "                               first    last\n",
       "email                                       \n",
       "arunbalaji25062k@gmail.com      arun  balaji\n",
       "vijay@gmail.com                vijay  baskar\n",
       "kavin@gmail.com                kavin   kumar\n",
       "gokul@gmail.com                gokul   kumar\n",
       "karthick@gmail.com          karthick   kumar\n",
       "arjun@gmail.com                arjun  baskar\n",
       "akshay@gmail.com              akshay  balaji"
      ]
     },
     "execution_count": 186,
     "metadata": {},
     "output_type": "execute_result"
    }
   ],
   "source": [
    "df  #inplacce=True"
   ]
  },
  {
   "cell_type": "code",
   "execution_count": 187,
   "id": "25119f0d",
   "metadata": {},
   "outputs": [
    {
     "data": {
      "text/plain": [
       "first     vijay\n",
       "last     baskar\n",
       "Name: vijay@gmail.com, dtype: object"
      ]
     },
     "execution_count": 187,
     "metadata": {},
     "output_type": "execute_result"
    }
   ],
   "source": [
    "df.loc['vijay@gmail.com']  #here email act as label"
   ]
  },
  {
   "cell_type": "code",
   "execution_count": 188,
   "id": "f1a77b55",
   "metadata": {},
   "outputs": [
    {
     "data": {
      "text/html": [
       "<div>\n",
       "<style scoped>\n",
       "    .dataframe tbody tr th:only-of-type {\n",
       "        vertical-align: middle;\n",
       "    }\n",
       "\n",
       "    .dataframe tbody tr th {\n",
       "        vertical-align: top;\n",
       "    }\n",
       "\n",
       "    .dataframe thead th {\n",
       "        text-align: right;\n",
       "    }\n",
       "</style>\n",
       "<table border=\"1\" class=\"dataframe\">\n",
       "  <thead>\n",
       "    <tr style=\"text-align: right;\">\n",
       "      <th></th>\n",
       "      <th>last</th>\n",
       "    </tr>\n",
       "    <tr>\n",
       "      <th>email</th>\n",
       "      <th></th>\n",
       "    </tr>\n",
       "  </thead>\n",
       "  <tbody>\n",
       "    <tr>\n",
       "      <th>vijay@gmail.com</th>\n",
       "      <td>baskar</td>\n",
       "    </tr>\n",
       "  </tbody>\n",
       "</table>\n",
       "</div>"
      ],
      "text/plain": [
       "                   last\n",
       "email                  \n",
       "vijay@gmail.com  baskar"
      ]
     },
     "execution_count": 188,
     "metadata": {},
     "output_type": "execute_result"
    }
   ],
   "source": [
    "df.loc[['vijay@gmail.com'],['last']]"
   ]
  },
  {
   "cell_type": "code",
   "execution_count": 189,
   "id": "526a2b6d",
   "metadata": {},
   "outputs": [],
   "source": [
    "#now we cant able to use int as labels if we use we get type error\n",
    "# dictToDf.loc[[0]]\n",
    "\n",
    "df.reset_index(inplace=True)  #to reset index to the way it was"
   ]
  },
  {
   "cell_type": "code",
   "execution_count": 190,
   "id": "c3bbe4ef",
   "metadata": {},
   "outputs": [
    {
     "data": {
      "text/html": [
       "<div>\n",
       "<style scoped>\n",
       "    .dataframe tbody tr th:only-of-type {\n",
       "        vertical-align: middle;\n",
       "    }\n",
       "\n",
       "    .dataframe tbody tr th {\n",
       "        vertical-align: top;\n",
       "    }\n",
       "\n",
       "    .dataframe thead th {\n",
       "        text-align: right;\n",
       "    }\n",
       "</style>\n",
       "<table border=\"1\" class=\"dataframe\">\n",
       "  <thead>\n",
       "    <tr style=\"text-align: right;\">\n",
       "      <th></th>\n",
       "      <th>email</th>\n",
       "      <th>first</th>\n",
       "      <th>last</th>\n",
       "    </tr>\n",
       "  </thead>\n",
       "  <tbody>\n",
       "    <tr>\n",
       "      <th>0</th>\n",
       "      <td>arunbalaji25062k@gmail.com</td>\n",
       "      <td>arun</td>\n",
       "      <td>balaji</td>\n",
       "    </tr>\n",
       "    <tr>\n",
       "      <th>1</th>\n",
       "      <td>vijay@gmail.com</td>\n",
       "      <td>vijay</td>\n",
       "      <td>baskar</td>\n",
       "    </tr>\n",
       "    <tr>\n",
       "      <th>2</th>\n",
       "      <td>kavin@gmail.com</td>\n",
       "      <td>kavin</td>\n",
       "      <td>kumar</td>\n",
       "    </tr>\n",
       "    <tr>\n",
       "      <th>3</th>\n",
       "      <td>gokul@gmail.com</td>\n",
       "      <td>gokul</td>\n",
       "      <td>kumar</td>\n",
       "    </tr>\n",
       "    <tr>\n",
       "      <th>4</th>\n",
       "      <td>karthick@gmail.com</td>\n",
       "      <td>karthick</td>\n",
       "      <td>kumar</td>\n",
       "    </tr>\n",
       "    <tr>\n",
       "      <th>5</th>\n",
       "      <td>arjun@gmail.com</td>\n",
       "      <td>arjun</td>\n",
       "      <td>baskar</td>\n",
       "    </tr>\n",
       "    <tr>\n",
       "      <th>6</th>\n",
       "      <td>akshay@gmail.com</td>\n",
       "      <td>akshay</td>\n",
       "      <td>balaji</td>\n",
       "    </tr>\n",
       "  </tbody>\n",
       "</table>\n",
       "</div>"
      ],
      "text/plain": [
       "                        email     first    last\n",
       "0  arunbalaji25062k@gmail.com      arun  balaji\n",
       "1             vijay@gmail.com     vijay  baskar\n",
       "2             kavin@gmail.com     kavin   kumar\n",
       "3             gokul@gmail.com     gokul   kumar\n",
       "4          karthick@gmail.com  karthick   kumar\n",
       "5             arjun@gmail.com     arjun  baskar\n",
       "6            akshay@gmail.com    akshay  balaji"
      ]
     },
     "execution_count": 190,
     "metadata": {},
     "output_type": "execute_result"
    }
   ],
   "source": [
    "df"
   ]
  },
  {
   "cell_type": "markdown",
   "id": "0291659b",
   "metadata": {},
   "source": [
    "## Filtering"
   ]
  },
  {
   "cell_type": "code",
   "execution_count": 191,
   "id": "6af94796",
   "metadata": {},
   "outputs": [
    {
     "data": {
      "text/html": [
       "<div>\n",
       "<style scoped>\n",
       "    .dataframe tbody tr th:only-of-type {\n",
       "        vertical-align: middle;\n",
       "    }\n",
       "\n",
       "    .dataframe tbody tr th {\n",
       "        vertical-align: top;\n",
       "    }\n",
       "\n",
       "    .dataframe thead th {\n",
       "        text-align: right;\n",
       "    }\n",
       "</style>\n",
       "<table border=\"1\" class=\"dataframe\">\n",
       "  <thead>\n",
       "    <tr style=\"text-align: right;\">\n",
       "      <th></th>\n",
       "      <th>first</th>\n",
       "      <th>last</th>\n",
       "      <th>email</th>\n",
       "    </tr>\n",
       "  </thead>\n",
       "  <tbody>\n",
       "    <tr>\n",
       "      <th>0</th>\n",
       "      <td>arun</td>\n",
       "      <td>balaji</td>\n",
       "      <td>arunbalaji25062k@gmail.com</td>\n",
       "    </tr>\n",
       "    <tr>\n",
       "      <th>1</th>\n",
       "      <td>vijay</td>\n",
       "      <td>baskar</td>\n",
       "      <td>vijay@gmail.com</td>\n",
       "    </tr>\n",
       "    <tr>\n",
       "      <th>2</th>\n",
       "      <td>kavin</td>\n",
       "      <td>kumar</td>\n",
       "      <td>kavin@gmail.com</td>\n",
       "    </tr>\n",
       "    <tr>\n",
       "      <th>3</th>\n",
       "      <td>gokul</td>\n",
       "      <td>kumar</td>\n",
       "      <td>gokul@gmail.com</td>\n",
       "    </tr>\n",
       "    <tr>\n",
       "      <th>4</th>\n",
       "      <td>karthick</td>\n",
       "      <td>kumar</td>\n",
       "      <td>karthick@gmail.com</td>\n",
       "    </tr>\n",
       "    <tr>\n",
       "      <th>5</th>\n",
       "      <td>arjun</td>\n",
       "      <td>baskar</td>\n",
       "      <td>arjun@gmail.com</td>\n",
       "    </tr>\n",
       "    <tr>\n",
       "      <th>6</th>\n",
       "      <td>akshay</td>\n",
       "      <td>balaji</td>\n",
       "      <td>akshay@gmail.com</td>\n",
       "    </tr>\n",
       "  </tbody>\n",
       "</table>\n",
       "</div>"
      ],
      "text/plain": [
       "      first    last                       email\n",
       "0      arun  balaji  arunbalaji25062k@gmail.com\n",
       "1     vijay  baskar             vijay@gmail.com\n",
       "2     kavin   kumar             kavin@gmail.com\n",
       "3     gokul   kumar             gokul@gmail.com\n",
       "4  karthick   kumar          karthick@gmail.com\n",
       "5     arjun  baskar             arjun@gmail.com\n",
       "6    akshay  balaji            akshay@gmail.com"
      ]
     },
     "execution_count": 191,
     "metadata": {},
     "output_type": "execute_result"
    }
   ],
   "source": [
    "df = df[['first','last','email']]\n",
    "df"
   ]
  },
  {
   "cell_type": "code",
   "execution_count": 192,
   "id": "c0dcb817",
   "metadata": {},
   "outputs": [
    {
     "data": {
      "text/plain": [
       "0    False\n",
       "1    False\n",
       "2     True\n",
       "3     True\n",
       "4     True\n",
       "5    False\n",
       "6    False\n",
       "Name: last, dtype: bool"
      ]
     },
     "execution_count": 192,
     "metadata": {},
     "output_type": "execute_result"
    }
   ],
   "source": [
    "df['last']=='kumar'"
   ]
  },
  {
   "cell_type": "code",
   "execution_count": 193,
   "id": "0adb0c2e",
   "metadata": {},
   "outputs": [],
   "source": [
    "filt = df['last']=='balaji'"
   ]
  },
  {
   "cell_type": "code",
   "execution_count": 194,
   "id": "01f30e30",
   "metadata": {},
   "outputs": [
    {
     "data": {
      "text/html": [
       "<div>\n",
       "<style scoped>\n",
       "    .dataframe tbody tr th:only-of-type {\n",
       "        vertical-align: middle;\n",
       "    }\n",
       "\n",
       "    .dataframe tbody tr th {\n",
       "        vertical-align: top;\n",
       "    }\n",
       "\n",
       "    .dataframe thead th {\n",
       "        text-align: right;\n",
       "    }\n",
       "</style>\n",
       "<table border=\"1\" class=\"dataframe\">\n",
       "  <thead>\n",
       "    <tr style=\"text-align: right;\">\n",
       "      <th></th>\n",
       "      <th>first</th>\n",
       "      <th>last</th>\n",
       "      <th>email</th>\n",
       "    </tr>\n",
       "  </thead>\n",
       "  <tbody>\n",
       "    <tr>\n",
       "      <th>0</th>\n",
       "      <td>arun</td>\n",
       "      <td>balaji</td>\n",
       "      <td>arunbalaji25062k@gmail.com</td>\n",
       "    </tr>\n",
       "    <tr>\n",
       "      <th>6</th>\n",
       "      <td>akshay</td>\n",
       "      <td>balaji</td>\n",
       "      <td>akshay@gmail.com</td>\n",
       "    </tr>\n",
       "  </tbody>\n",
       "</table>\n",
       "</div>"
      ],
      "text/plain": [
       "    first    last                       email\n",
       "0    arun  balaji  arunbalaji25062k@gmail.com\n",
       "6  akshay  balaji            akshay@gmail.com"
      ]
     },
     "execution_count": 194,
     "metadata": {},
     "output_type": "execute_result"
    }
   ],
   "source": [
    "df[filt]\n",
    "#dictToDf[dictToDf['last']=='balaji']  it is also possible"
   ]
  },
  {
   "cell_type": "code",
   "execution_count": 195,
   "id": "0e43e392",
   "metadata": {},
   "outputs": [
    {
     "data": {
      "text/plain": [
       "0    arunbalaji25062k@gmail.com\n",
       "6              akshay@gmail.com\n",
       "Name: email, dtype: object"
      ]
     },
     "execution_count": 195,
     "metadata": {},
     "output_type": "execute_result"
    }
   ],
   "source": [
    "df.loc[filt,'email']  #i want that filtered email"
   ]
  },
  {
   "cell_type": "code",
   "execution_count": 196,
   "id": "41109c72",
   "metadata": {},
   "outputs": [],
   "source": [
    "# & and\n",
    "# | or\n",
    "filt = ((df['first'] == 'arun') & (df['last'] == 'balaji'))"
   ]
  },
  {
   "cell_type": "code",
   "execution_count": 197,
   "id": "f1372fb9",
   "metadata": {},
   "outputs": [
    {
     "data": {
      "text/plain": [
       "0    arunbalaji25062k@gmail.com\n",
       "Name: email, dtype: object"
      ]
     },
     "execution_count": 197,
     "metadata": {},
     "output_type": "execute_result"
    }
   ],
   "source": [
    "df.loc[filt,'email']"
   ]
  },
  {
   "cell_type": "code",
   "execution_count": 198,
   "id": "a058c4d4",
   "metadata": {},
   "outputs": [
    {
     "data": {
      "text/html": [
       "<div>\n",
       "<style scoped>\n",
       "    .dataframe tbody tr th:only-of-type {\n",
       "        vertical-align: middle;\n",
       "    }\n",
       "\n",
       "    .dataframe tbody tr th {\n",
       "        vertical-align: top;\n",
       "    }\n",
       "\n",
       "    .dataframe thead th {\n",
       "        text-align: right;\n",
       "    }\n",
       "</style>\n",
       "<table border=\"1\" class=\"dataframe\">\n",
       "  <thead>\n",
       "    <tr style=\"text-align: right;\">\n",
       "      <th></th>\n",
       "      <th>first</th>\n",
       "      <th>last</th>\n",
       "      <th>email</th>\n",
       "    </tr>\n",
       "  </thead>\n",
       "  <tbody>\n",
       "    <tr>\n",
       "      <th>0</th>\n",
       "      <td>arun</td>\n",
       "      <td>balaji</td>\n",
       "      <td>arunbalaji25062k@gmail.com</td>\n",
       "    </tr>\n",
       "    <tr>\n",
       "      <th>1</th>\n",
       "      <td>vijay</td>\n",
       "      <td>baskar</td>\n",
       "      <td>vijay@gmail.com</td>\n",
       "    </tr>\n",
       "  </tbody>\n",
       "</table>\n",
       "</div>"
      ],
      "text/plain": [
       "   first    last                       email\n",
       "0   arun  balaji  arunbalaji25062k@gmail.com\n",
       "1  vijay  baskar             vijay@gmail.com"
      ]
     },
     "execution_count": 198,
     "metadata": {},
     "output_type": "execute_result"
    }
   ],
   "source": [
    "filt = ((df['first']=='arun') | (df['first']=='vijay'))\n",
    "df[filt]"
   ]
  },
  {
   "cell_type": "code",
   "execution_count": 199,
   "id": "0906fdbd",
   "metadata": {},
   "outputs": [
    {
     "data": {
      "text/html": [
       "<div>\n",
       "<style scoped>\n",
       "    .dataframe tbody tr th:only-of-type {\n",
       "        vertical-align: middle;\n",
       "    }\n",
       "\n",
       "    .dataframe tbody tr th {\n",
       "        vertical-align: top;\n",
       "    }\n",
       "\n",
       "    .dataframe thead th {\n",
       "        text-align: right;\n",
       "    }\n",
       "</style>\n",
       "<table border=\"1\" class=\"dataframe\">\n",
       "  <thead>\n",
       "    <tr style=\"text-align: right;\">\n",
       "      <th></th>\n",
       "      <th>first</th>\n",
       "      <th>last</th>\n",
       "      <th>email</th>\n",
       "    </tr>\n",
       "  </thead>\n",
       "  <tbody>\n",
       "    <tr>\n",
       "      <th>2</th>\n",
       "      <td>kavin</td>\n",
       "      <td>kumar</td>\n",
       "      <td>kavin@gmail.com</td>\n",
       "    </tr>\n",
       "    <tr>\n",
       "      <th>3</th>\n",
       "      <td>gokul</td>\n",
       "      <td>kumar</td>\n",
       "      <td>gokul@gmail.com</td>\n",
       "    </tr>\n",
       "    <tr>\n",
       "      <th>4</th>\n",
       "      <td>karthick</td>\n",
       "      <td>kumar</td>\n",
       "      <td>karthick@gmail.com</td>\n",
       "    </tr>\n",
       "    <tr>\n",
       "      <th>5</th>\n",
       "      <td>arjun</td>\n",
       "      <td>baskar</td>\n",
       "      <td>arjun@gmail.com</td>\n",
       "    </tr>\n",
       "    <tr>\n",
       "      <th>6</th>\n",
       "      <td>akshay</td>\n",
       "      <td>balaji</td>\n",
       "      <td>akshay@gmail.com</td>\n",
       "    </tr>\n",
       "  </tbody>\n",
       "</table>\n",
       "</div>"
      ],
      "text/plain": [
       "      first    last               email\n",
       "2     kavin   kumar     kavin@gmail.com\n",
       "3     gokul   kumar     gokul@gmail.com\n",
       "4  karthick   kumar  karthick@gmail.com\n",
       "5     arjun  baskar     arjun@gmail.com\n",
       "6    akshay  balaji    akshay@gmail.com"
      ]
     },
     "execution_count": 199,
     "metadata": {},
     "output_type": "execute_result"
    }
   ],
   "source": [
    "df[~filt]  #tildo provides opposite results"
   ]
  },
  {
   "cell_type": "markdown",
   "id": "4630c8e9",
   "metadata": {},
   "source": [
    "## Updating Rows and Columns - Modifying Data Within DataFrames"
   ]
  },
  {
   "cell_type": "code",
   "execution_count": 200,
   "id": "7480c415",
   "metadata": {},
   "outputs": [],
   "source": [
    "df = df[['first','last','email']]"
   ]
  },
  {
   "cell_type": "code",
   "execution_count": 201,
   "id": "068a6893",
   "metadata": {},
   "outputs": [
    {
     "data": {
      "text/plain": [
       "Index(['first', 'last', 'email'], dtype='object')"
      ]
     },
     "execution_count": 201,
     "metadata": {},
     "output_type": "execute_result"
    }
   ],
   "source": [
    "df.columns"
   ]
  },
  {
   "cell_type": "code",
   "execution_count": 209,
   "id": "2c2381fb",
   "metadata": {},
   "outputs": [],
   "source": [
    "#Updating column names\n",
    "df.columns = {'First Name','Last Name','E mail'}"
   ]
  },
  {
   "cell_type": "code",
   "execution_count": 210,
   "id": "8f7c13d4",
   "metadata": {},
   "outputs": [
    {
     "data": {
      "text/html": [
       "<div>\n",
       "<style scoped>\n",
       "    .dataframe tbody tr th:only-of-type {\n",
       "        vertical-align: middle;\n",
       "    }\n",
       "\n",
       "    .dataframe tbody tr th {\n",
       "        vertical-align: top;\n",
       "    }\n",
       "\n",
       "    .dataframe thead th {\n",
       "        text-align: right;\n",
       "    }\n",
       "</style>\n",
       "<table border=\"1\" class=\"dataframe\">\n",
       "  <thead>\n",
       "    <tr style=\"text-align: right;\">\n",
       "      <th></th>\n",
       "      <th>E mail</th>\n",
       "      <th>First Name</th>\n",
       "      <th>Last Name</th>\n",
       "    </tr>\n",
       "  </thead>\n",
       "  <tbody>\n",
       "    <tr>\n",
       "      <th>0</th>\n",
       "      <td>arun</td>\n",
       "      <td>balaji</td>\n",
       "      <td>arunbalaji25062k@gmail.com</td>\n",
       "    </tr>\n",
       "    <tr>\n",
       "      <th>1</th>\n",
       "      <td>vijay</td>\n",
       "      <td>baskar</td>\n",
       "      <td>vijay@gmail.com</td>\n",
       "    </tr>\n",
       "    <tr>\n",
       "      <th>2</th>\n",
       "      <td>kavin</td>\n",
       "      <td>kumar</td>\n",
       "      <td>kavin@gmail.com</td>\n",
       "    </tr>\n",
       "    <tr>\n",
       "      <th>3</th>\n",
       "      <td>gokul</td>\n",
       "      <td>kumar</td>\n",
       "      <td>gokul@gmail.com</td>\n",
       "    </tr>\n",
       "    <tr>\n",
       "      <th>4</th>\n",
       "      <td>karthick</td>\n",
       "      <td>kumar</td>\n",
       "      <td>karthick@gmail.com</td>\n",
       "    </tr>\n",
       "    <tr>\n",
       "      <th>5</th>\n",
       "      <td>arjun</td>\n",
       "      <td>baskar</td>\n",
       "      <td>arjun@gmail.com</td>\n",
       "    </tr>\n",
       "    <tr>\n",
       "      <th>6</th>\n",
       "      <td>akshay</td>\n",
       "      <td>balaji</td>\n",
       "      <td>akshay@gmail.com</td>\n",
       "    </tr>\n",
       "  </tbody>\n",
       "</table>\n",
       "</div>"
      ],
      "text/plain": [
       "     E mail First Name                   Last Name\n",
       "0      arun     balaji  arunbalaji25062k@gmail.com\n",
       "1     vijay     baskar             vijay@gmail.com\n",
       "2     kavin      kumar             kavin@gmail.com\n",
       "3     gokul      kumar             gokul@gmail.com\n",
       "4  karthick      kumar          karthick@gmail.com\n",
       "5     arjun     baskar             arjun@gmail.com\n",
       "6    akshay     balaji            akshay@gmail.com"
      ]
     },
     "execution_count": 210,
     "metadata": {},
     "output_type": "execute_result"
    }
   ],
   "source": [
    "df"
   ]
  },
  {
   "cell_type": "code",
   "execution_count": 211,
   "id": "e302d361",
   "metadata": {},
   "outputs": [],
   "source": [
    "#Uppercasing using list comprehension\n",
    "df.columns = {x.upper() for x in df.columns}"
   ]
  },
  {
   "cell_type": "code",
   "execution_count": 212,
   "id": "6a48ee08",
   "metadata": {},
   "outputs": [
    {
     "data": {
      "text/html": [
       "<div>\n",
       "<style scoped>\n",
       "    .dataframe tbody tr th:only-of-type {\n",
       "        vertical-align: middle;\n",
       "    }\n",
       "\n",
       "    .dataframe tbody tr th {\n",
       "        vertical-align: top;\n",
       "    }\n",
       "\n",
       "    .dataframe thead th {\n",
       "        text-align: right;\n",
       "    }\n",
       "</style>\n",
       "<table border=\"1\" class=\"dataframe\">\n",
       "  <thead>\n",
       "    <tr style=\"text-align: right;\">\n",
       "      <th></th>\n",
       "      <th>FIRST NAME</th>\n",
       "      <th>LAST NAME</th>\n",
       "      <th>E MAIL</th>\n",
       "    </tr>\n",
       "  </thead>\n",
       "  <tbody>\n",
       "    <tr>\n",
       "      <th>0</th>\n",
       "      <td>arun</td>\n",
       "      <td>balaji</td>\n",
       "      <td>arunbalaji25062k@gmail.com</td>\n",
       "    </tr>\n",
       "    <tr>\n",
       "      <th>1</th>\n",
       "      <td>vijay</td>\n",
       "      <td>baskar</td>\n",
       "      <td>vijay@gmail.com</td>\n",
       "    </tr>\n",
       "    <tr>\n",
       "      <th>2</th>\n",
       "      <td>kavin</td>\n",
       "      <td>kumar</td>\n",
       "      <td>kavin@gmail.com</td>\n",
       "    </tr>\n",
       "    <tr>\n",
       "      <th>3</th>\n",
       "      <td>gokul</td>\n",
       "      <td>kumar</td>\n",
       "      <td>gokul@gmail.com</td>\n",
       "    </tr>\n",
       "    <tr>\n",
       "      <th>4</th>\n",
       "      <td>karthick</td>\n",
       "      <td>kumar</td>\n",
       "      <td>karthick@gmail.com</td>\n",
       "    </tr>\n",
       "    <tr>\n",
       "      <th>5</th>\n",
       "      <td>arjun</td>\n",
       "      <td>baskar</td>\n",
       "      <td>arjun@gmail.com</td>\n",
       "    </tr>\n",
       "    <tr>\n",
       "      <th>6</th>\n",
       "      <td>akshay</td>\n",
       "      <td>balaji</td>\n",
       "      <td>akshay@gmail.com</td>\n",
       "    </tr>\n",
       "  </tbody>\n",
       "</table>\n",
       "</div>"
      ],
      "text/plain": [
       "  FIRST NAME LAST NAME                      E MAIL\n",
       "0       arun    balaji  arunbalaji25062k@gmail.com\n",
       "1      vijay    baskar             vijay@gmail.com\n",
       "2      kavin     kumar             kavin@gmail.com\n",
       "3      gokul     kumar             gokul@gmail.com\n",
       "4   karthick     kumar          karthick@gmail.com\n",
       "5      arjun    baskar             arjun@gmail.com\n",
       "6     akshay    balaji            akshay@gmail.com"
      ]
     },
     "execution_count": 212,
     "metadata": {},
     "output_type": "execute_result"
    }
   ],
   "source": [
    "df"
   ]
  },
  {
   "cell_type": "code",
   "execution_count": 213,
   "id": "badde594",
   "metadata": {},
   "outputs": [
    {
     "data": {
      "text/html": [
       "<div>\n",
       "<style scoped>\n",
       "    .dataframe tbody tr th:only-of-type {\n",
       "        vertical-align: middle;\n",
       "    }\n",
       "\n",
       "    .dataframe tbody tr th {\n",
       "        vertical-align: top;\n",
       "    }\n",
       "\n",
       "    .dataframe thead th {\n",
       "        text-align: right;\n",
       "    }\n",
       "</style>\n",
       "<table border=\"1\" class=\"dataframe\">\n",
       "  <thead>\n",
       "    <tr style=\"text-align: right;\">\n",
       "      <th></th>\n",
       "      <th>FIRST_NAME</th>\n",
       "      <th>LAST_NAME</th>\n",
       "      <th>E_MAIL</th>\n",
       "    </tr>\n",
       "  </thead>\n",
       "  <tbody>\n",
       "    <tr>\n",
       "      <th>0</th>\n",
       "      <td>arun</td>\n",
       "      <td>balaji</td>\n",
       "      <td>arunbalaji25062k@gmail.com</td>\n",
       "    </tr>\n",
       "    <tr>\n",
       "      <th>1</th>\n",
       "      <td>vijay</td>\n",
       "      <td>baskar</td>\n",
       "      <td>vijay@gmail.com</td>\n",
       "    </tr>\n",
       "    <tr>\n",
       "      <th>2</th>\n",
       "      <td>kavin</td>\n",
       "      <td>kumar</td>\n",
       "      <td>kavin@gmail.com</td>\n",
       "    </tr>\n",
       "    <tr>\n",
       "      <th>3</th>\n",
       "      <td>gokul</td>\n",
       "      <td>kumar</td>\n",
       "      <td>gokul@gmail.com</td>\n",
       "    </tr>\n",
       "    <tr>\n",
       "      <th>4</th>\n",
       "      <td>karthick</td>\n",
       "      <td>kumar</td>\n",
       "      <td>karthick@gmail.com</td>\n",
       "    </tr>\n",
       "    <tr>\n",
       "      <th>5</th>\n",
       "      <td>arjun</td>\n",
       "      <td>baskar</td>\n",
       "      <td>arjun@gmail.com</td>\n",
       "    </tr>\n",
       "    <tr>\n",
       "      <th>6</th>\n",
       "      <td>akshay</td>\n",
       "      <td>balaji</td>\n",
       "      <td>akshay@gmail.com</td>\n",
       "    </tr>\n",
       "  </tbody>\n",
       "</table>\n",
       "</div>"
      ],
      "text/plain": [
       "  FIRST_NAME LAST_NAME                      E_MAIL\n",
       "0       arun    balaji  arunbalaji25062k@gmail.com\n",
       "1      vijay    baskar             vijay@gmail.com\n",
       "2      kavin     kumar             kavin@gmail.com\n",
       "3      gokul     kumar             gokul@gmail.com\n",
       "4   karthick     kumar          karthick@gmail.com\n",
       "5      arjun    baskar             arjun@gmail.com\n",
       "6     akshay    balaji            akshay@gmail.com"
      ]
     },
     "execution_count": 213,
     "metadata": {},
     "output_type": "execute_result"
    }
   ],
   "source": [
    "#To replace space with undersccore\n",
    "df.columns = df.columns.str.replace(' ','_')\n",
    "df"
   ]
  },
  {
   "cell_type": "code",
   "execution_count": 217,
   "id": "e495188c",
   "metadata": {},
   "outputs": [
    {
     "data": {
      "text/html": [
       "<div>\n",
       "<style scoped>\n",
       "    .dataframe tbody tr th:only-of-type {\n",
       "        vertical-align: middle;\n",
       "    }\n",
       "\n",
       "    .dataframe tbody tr th {\n",
       "        vertical-align: top;\n",
       "    }\n",
       "\n",
       "    .dataframe thead th {\n",
       "        text-align: right;\n",
       "    }\n",
       "</style>\n",
       "<table border=\"1\" class=\"dataframe\">\n",
       "  <thead>\n",
       "    <tr style=\"text-align: right;\">\n",
       "      <th></th>\n",
       "      <th>first</th>\n",
       "      <th>last</th>\n",
       "      <th>E_MAIL</th>\n",
       "    </tr>\n",
       "  </thead>\n",
       "  <tbody>\n",
       "    <tr>\n",
       "      <th>0</th>\n",
       "      <td>arun</td>\n",
       "      <td>balaji</td>\n",
       "      <td>arunbalaji25062k@gmail.com</td>\n",
       "    </tr>\n",
       "    <tr>\n",
       "      <th>1</th>\n",
       "      <td>vijay</td>\n",
       "      <td>baskar</td>\n",
       "      <td>vijay@gmail.com</td>\n",
       "    </tr>\n",
       "    <tr>\n",
       "      <th>2</th>\n",
       "      <td>kavin</td>\n",
       "      <td>kumar</td>\n",
       "      <td>kavin@gmail.com</td>\n",
       "    </tr>\n",
       "    <tr>\n",
       "      <th>3</th>\n",
       "      <td>gokul</td>\n",
       "      <td>kumar</td>\n",
       "      <td>gokul@gmail.com</td>\n",
       "    </tr>\n",
       "    <tr>\n",
       "      <th>4</th>\n",
       "      <td>karthick</td>\n",
       "      <td>kumar</td>\n",
       "      <td>karthick@gmail.com</td>\n",
       "    </tr>\n",
       "    <tr>\n",
       "      <th>5</th>\n",
       "      <td>arjun</td>\n",
       "      <td>baskar</td>\n",
       "      <td>arjun@gmail.com</td>\n",
       "    </tr>\n",
       "    <tr>\n",
       "      <th>6</th>\n",
       "      <td>akshay</td>\n",
       "      <td>balaji</td>\n",
       "      <td>akshay@gmail.com</td>\n",
       "    </tr>\n",
       "  </tbody>\n",
       "</table>\n",
       "</div>"
      ],
      "text/plain": [
       "      first    last                      E_MAIL\n",
       "0      arun  balaji  arunbalaji25062k@gmail.com\n",
       "1     vijay  baskar             vijay@gmail.com\n",
       "2     kavin   kumar             kavin@gmail.com\n",
       "3     gokul   kumar             gokul@gmail.com\n",
       "4  karthick   kumar          karthick@gmail.com\n",
       "5     arjun  baskar             arjun@gmail.com\n",
       "6    akshay  balaji            akshay@gmail.com"
      ]
     },
     "execution_count": 217,
     "metadata": {},
     "output_type": "execute_result"
    }
   ],
   "source": [
    "#Now i want to only change certain columns\n",
    "df.rename(columns = {'FIRST_NAME':'first','LAST_NAME':'last'},inplace=True)\n",
    "df"
   ]
  },
  {
   "cell_type": "code",
   "execution_count": 221,
   "id": "1f3f2dbf",
   "metadata": {},
   "outputs": [],
   "source": [
    "#Changing rows\n",
    "df.loc[2] = ['Kamalesh','Kumar','kamalesh@email.com']"
   ]
  },
  {
   "cell_type": "code",
   "execution_count": 222,
   "id": "c968b0b1",
   "metadata": {},
   "outputs": [
    {
     "data": {
      "text/html": [
       "<div>\n",
       "<style scoped>\n",
       "    .dataframe tbody tr th:only-of-type {\n",
       "        vertical-align: middle;\n",
       "    }\n",
       "\n",
       "    .dataframe tbody tr th {\n",
       "        vertical-align: top;\n",
       "    }\n",
       "\n",
       "    .dataframe thead th {\n",
       "        text-align: right;\n",
       "    }\n",
       "</style>\n",
       "<table border=\"1\" class=\"dataframe\">\n",
       "  <thead>\n",
       "    <tr style=\"text-align: right;\">\n",
       "      <th></th>\n",
       "      <th>first</th>\n",
       "      <th>last</th>\n",
       "      <th>E_MAIL</th>\n",
       "    </tr>\n",
       "  </thead>\n",
       "  <tbody>\n",
       "    <tr>\n",
       "      <th>0</th>\n",
       "      <td>arun</td>\n",
       "      <td>balaji</td>\n",
       "      <td>arunbalaji25062k@gmail.com</td>\n",
       "    </tr>\n",
       "    <tr>\n",
       "      <th>1</th>\n",
       "      <td>vijay</td>\n",
       "      <td>baskar</td>\n",
       "      <td>vijay@gmail.com</td>\n",
       "    </tr>\n",
       "    <tr>\n",
       "      <th>2</th>\n",
       "      <td>Kamalesh</td>\n",
       "      <td>Kumar</td>\n",
       "      <td>kamalesh@email.com</td>\n",
       "    </tr>\n",
       "    <tr>\n",
       "      <th>3</th>\n",
       "      <td>gokul</td>\n",
       "      <td>kumar</td>\n",
       "      <td>gokul@gmail.com</td>\n",
       "    </tr>\n",
       "    <tr>\n",
       "      <th>4</th>\n",
       "      <td>karthick</td>\n",
       "      <td>kumar</td>\n",
       "      <td>karthick@gmail.com</td>\n",
       "    </tr>\n",
       "    <tr>\n",
       "      <th>5</th>\n",
       "      <td>arjun</td>\n",
       "      <td>baskar</td>\n",
       "      <td>arjun@gmail.com</td>\n",
       "    </tr>\n",
       "    <tr>\n",
       "      <th>6</th>\n",
       "      <td>akshay</td>\n",
       "      <td>balaji</td>\n",
       "      <td>akshay@gmail.com</td>\n",
       "    </tr>\n",
       "  </tbody>\n",
       "</table>\n",
       "</div>"
      ],
      "text/plain": [
       "      first    last                      E_MAIL\n",
       "0      arun  balaji  arunbalaji25062k@gmail.com\n",
       "1     vijay  baskar             vijay@gmail.com\n",
       "2  Kamalesh   Kumar          kamalesh@email.com\n",
       "3     gokul   kumar             gokul@gmail.com\n",
       "4  karthick   kumar          karthick@gmail.com\n",
       "5     arjun  baskar             arjun@gmail.com\n",
       "6    akshay  balaji            akshay@gmail.com"
      ]
     },
     "execution_count": 222,
     "metadata": {},
     "output_type": "execute_result"
    }
   ],
   "source": [
    "df  #observe that kavin changes to kamlesh"
   ]
  },
  {
   "cell_type": "code",
   "execution_count": 225,
   "id": "e27cd336",
   "metadata": {},
   "outputs": [],
   "source": [
    "#changeing arun's email only\n",
    "df.loc[0,['last','E_MAIL']] = ['Balaji','arunadhigaaram@gmail.com']"
   ]
  },
  {
   "cell_type": "code",
   "execution_count": 226,
   "id": "c369b668",
   "metadata": {},
   "outputs": [
    {
     "data": {
      "text/html": [
       "<div>\n",
       "<style scoped>\n",
       "    .dataframe tbody tr th:only-of-type {\n",
       "        vertical-align: middle;\n",
       "    }\n",
       "\n",
       "    .dataframe tbody tr th {\n",
       "        vertical-align: top;\n",
       "    }\n",
       "\n",
       "    .dataframe thead th {\n",
       "        text-align: right;\n",
       "    }\n",
       "</style>\n",
       "<table border=\"1\" class=\"dataframe\">\n",
       "  <thead>\n",
       "    <tr style=\"text-align: right;\">\n",
       "      <th></th>\n",
       "      <th>first</th>\n",
       "      <th>last</th>\n",
       "      <th>E_MAIL</th>\n",
       "    </tr>\n",
       "  </thead>\n",
       "  <tbody>\n",
       "    <tr>\n",
       "      <th>0</th>\n",
       "      <td>arun</td>\n",
       "      <td>Balaji</td>\n",
       "      <td>arunadhigaaram@gmail.com</td>\n",
       "    </tr>\n",
       "    <tr>\n",
       "      <th>1</th>\n",
       "      <td>vijay</td>\n",
       "      <td>baskar</td>\n",
       "      <td>vijay@gmail.com</td>\n",
       "    </tr>\n",
       "    <tr>\n",
       "      <th>2</th>\n",
       "      <td>Kamalesh</td>\n",
       "      <td>Kumar</td>\n",
       "      <td>kamalesh@email.com</td>\n",
       "    </tr>\n",
       "    <tr>\n",
       "      <th>3</th>\n",
       "      <td>gokul</td>\n",
       "      <td>kumar</td>\n",
       "      <td>gokul@gmail.com</td>\n",
       "    </tr>\n",
       "    <tr>\n",
       "      <th>4</th>\n",
       "      <td>karthick</td>\n",
       "      <td>kumar</td>\n",
       "      <td>karthick@gmail.com</td>\n",
       "    </tr>\n",
       "    <tr>\n",
       "      <th>5</th>\n",
       "      <td>arjun</td>\n",
       "      <td>baskar</td>\n",
       "      <td>arjun@gmail.com</td>\n",
       "    </tr>\n",
       "    <tr>\n",
       "      <th>6</th>\n",
       "      <td>akshay</td>\n",
       "      <td>balaji</td>\n",
       "      <td>akshay@gmail.com</td>\n",
       "    </tr>\n",
       "  </tbody>\n",
       "</table>\n",
       "</div>"
      ],
      "text/plain": [
       "      first    last                    E_MAIL\n",
       "0      arun  Balaji  arunadhigaaram@gmail.com\n",
       "1     vijay  baskar           vijay@gmail.com\n",
       "2  Kamalesh   Kumar        kamalesh@email.com\n",
       "3     gokul   kumar           gokul@gmail.com\n",
       "4  karthick   kumar        karthick@gmail.com\n",
       "5     arjun  baskar           arjun@gmail.com\n",
       "6    akshay  balaji          akshay@gmail.com"
      ]
     },
     "execution_count": 226,
     "metadata": {},
     "output_type": "execute_result"
    }
   ],
   "source": [
    "df"
   ]
  },
  {
   "cell_type": "code",
   "execution_count": 227,
   "id": "d2d2902d",
   "metadata": {},
   "outputs": [],
   "source": [
    "df.loc[2,['last']] = 'das'\n",
    "# df.at[2,['last']] = 'das' .at for single values \n",
    "# .loc is preferable"
   ]
  },
  {
   "cell_type": "code",
   "execution_count": 228,
   "id": "593760cf",
   "metadata": {},
   "outputs": [
    {
     "data": {
      "text/html": [
       "<div>\n",
       "<style scoped>\n",
       "    .dataframe tbody tr th:only-of-type {\n",
       "        vertical-align: middle;\n",
       "    }\n",
       "\n",
       "    .dataframe tbody tr th {\n",
       "        vertical-align: top;\n",
       "    }\n",
       "\n",
       "    .dataframe thead th {\n",
       "        text-align: right;\n",
       "    }\n",
       "</style>\n",
       "<table border=\"1\" class=\"dataframe\">\n",
       "  <thead>\n",
       "    <tr style=\"text-align: right;\">\n",
       "      <th></th>\n",
       "      <th>first</th>\n",
       "      <th>last</th>\n",
       "      <th>E_MAIL</th>\n",
       "    </tr>\n",
       "  </thead>\n",
       "  <tbody>\n",
       "    <tr>\n",
       "      <th>0</th>\n",
       "      <td>arun</td>\n",
       "      <td>Balaji</td>\n",
       "      <td>arunadhigaaram@gmail.com</td>\n",
       "    </tr>\n",
       "    <tr>\n",
       "      <th>1</th>\n",
       "      <td>vijay</td>\n",
       "      <td>baskar</td>\n",
       "      <td>vijay@gmail.com</td>\n",
       "    </tr>\n",
       "    <tr>\n",
       "      <th>2</th>\n",
       "      <td>Kamalesh</td>\n",
       "      <td>das</td>\n",
       "      <td>kamalesh@email.com</td>\n",
       "    </tr>\n",
       "    <tr>\n",
       "      <th>3</th>\n",
       "      <td>gokul</td>\n",
       "      <td>kumar</td>\n",
       "      <td>gokul@gmail.com</td>\n",
       "    </tr>\n",
       "    <tr>\n",
       "      <th>4</th>\n",
       "      <td>karthick</td>\n",
       "      <td>kumar</td>\n",
       "      <td>karthick@gmail.com</td>\n",
       "    </tr>\n",
       "    <tr>\n",
       "      <th>5</th>\n",
       "      <td>arjun</td>\n",
       "      <td>baskar</td>\n",
       "      <td>arjun@gmail.com</td>\n",
       "    </tr>\n",
       "    <tr>\n",
       "      <th>6</th>\n",
       "      <td>akshay</td>\n",
       "      <td>balaji</td>\n",
       "      <td>akshay@gmail.com</td>\n",
       "    </tr>\n",
       "  </tbody>\n",
       "</table>\n",
       "</div>"
      ],
      "text/plain": [
       "      first    last                    E_MAIL\n",
       "0      arun  Balaji  arunadhigaaram@gmail.com\n",
       "1     vijay  baskar           vijay@gmail.com\n",
       "2  Kamalesh     das        kamalesh@email.com\n",
       "3     gokul   kumar           gokul@gmail.com\n",
       "4  karthick   kumar        karthick@gmail.com\n",
       "5     arjun  baskar           arjun@gmail.com\n",
       "6    akshay  balaji          akshay@gmail.com"
      ]
     },
     "execution_count": 228,
     "metadata": {},
     "output_type": "execute_result"
    }
   ],
   "source": [
    "df"
   ]
  },
  {
   "cell_type": "code",
   "execution_count": 229,
   "id": "44c0e4c3",
   "metadata": {},
   "outputs": [
    {
     "data": {
      "text/html": [
       "<div>\n",
       "<style scoped>\n",
       "    .dataframe tbody tr th:only-of-type {\n",
       "        vertical-align: middle;\n",
       "    }\n",
       "\n",
       "    .dataframe tbody tr th {\n",
       "        vertical-align: top;\n",
       "    }\n",
       "\n",
       "    .dataframe thead th {\n",
       "        text-align: right;\n",
       "    }\n",
       "</style>\n",
       "<table border=\"1\" class=\"dataframe\">\n",
       "  <thead>\n",
       "    <tr style=\"text-align: right;\">\n",
       "      <th></th>\n",
       "      <th>first</th>\n",
       "      <th>last</th>\n",
       "      <th>E_MAIL</th>\n",
       "    </tr>\n",
       "  </thead>\n",
       "  <tbody>\n",
       "    <tr>\n",
       "      <th>5</th>\n",
       "      <td>arjun</td>\n",
       "      <td>baskar</td>\n",
       "      <td>arjun@gmail.com</td>\n",
       "    </tr>\n",
       "  </tbody>\n",
       "</table>\n",
       "</div>"
      ],
      "text/plain": [
       "   first    last           E_MAIL\n",
       "5  arjun  baskar  arjun@gmail.com"
      ]
     },
     "execution_count": 229,
     "metadata": {},
     "output_type": "execute_result"
    }
   ],
   "source": [
    "#Updating through ffilter\n",
    "filt = df['first'] == 'arjun'\n",
    "df[filt]"
   ]
  },
  {
   "cell_type": "code",
   "execution_count": 230,
   "id": "c88397a7",
   "metadata": {},
   "outputs": [],
   "source": [
    "df.loc[filt,'last'] = \"Das\""
   ]
  },
  {
   "cell_type": "code",
   "execution_count": 231,
   "id": "b05e4f77",
   "metadata": {},
   "outputs": [
    {
     "data": {
      "text/html": [
       "<div>\n",
       "<style scoped>\n",
       "    .dataframe tbody tr th:only-of-type {\n",
       "        vertical-align: middle;\n",
       "    }\n",
       "\n",
       "    .dataframe tbody tr th {\n",
       "        vertical-align: top;\n",
       "    }\n",
       "\n",
       "    .dataframe thead th {\n",
       "        text-align: right;\n",
       "    }\n",
       "</style>\n",
       "<table border=\"1\" class=\"dataframe\">\n",
       "  <thead>\n",
       "    <tr style=\"text-align: right;\">\n",
       "      <th></th>\n",
       "      <th>first</th>\n",
       "      <th>last</th>\n",
       "      <th>E_MAIL</th>\n",
       "    </tr>\n",
       "  </thead>\n",
       "  <tbody>\n",
       "    <tr>\n",
       "      <th>0</th>\n",
       "      <td>arun</td>\n",
       "      <td>Balaji</td>\n",
       "      <td>arunadhigaaram@gmail.com</td>\n",
       "    </tr>\n",
       "    <tr>\n",
       "      <th>1</th>\n",
       "      <td>vijay</td>\n",
       "      <td>baskar</td>\n",
       "      <td>vijay@gmail.com</td>\n",
       "    </tr>\n",
       "    <tr>\n",
       "      <th>2</th>\n",
       "      <td>Kamalesh</td>\n",
       "      <td>das</td>\n",
       "      <td>kamalesh@email.com</td>\n",
       "    </tr>\n",
       "    <tr>\n",
       "      <th>3</th>\n",
       "      <td>gokul</td>\n",
       "      <td>kumar</td>\n",
       "      <td>gokul@gmail.com</td>\n",
       "    </tr>\n",
       "    <tr>\n",
       "      <th>4</th>\n",
       "      <td>karthick</td>\n",
       "      <td>kumar</td>\n",
       "      <td>karthick@gmail.com</td>\n",
       "    </tr>\n",
       "    <tr>\n",
       "      <th>5</th>\n",
       "      <td>arjun</td>\n",
       "      <td>Das</td>\n",
       "      <td>arjun@gmail.com</td>\n",
       "    </tr>\n",
       "    <tr>\n",
       "      <th>6</th>\n",
       "      <td>akshay</td>\n",
       "      <td>balaji</td>\n",
       "      <td>akshay@gmail.com</td>\n",
       "    </tr>\n",
       "  </tbody>\n",
       "</table>\n",
       "</div>"
      ],
      "text/plain": [
       "      first    last                    E_MAIL\n",
       "0      arun  Balaji  arunadhigaaram@gmail.com\n",
       "1     vijay  baskar           vijay@gmail.com\n",
       "2  Kamalesh     das        kamalesh@email.com\n",
       "3     gokul   kumar           gokul@gmail.com\n",
       "4  karthick   kumar        karthick@gmail.com\n",
       "5     arjun     Das           arjun@gmail.com\n",
       "6    akshay  balaji          akshay@gmail.com"
      ]
     },
     "execution_count": 231,
     "metadata": {},
     "output_type": "execute_result"
    }
   ],
   "source": [
    "df  #arujun das"
   ]
  },
  {
   "cell_type": "code",
   "execution_count": 235,
   "id": "23a887fe",
   "metadata": {},
   "outputs": [],
   "source": [
    "#converting upper case for first names\n",
    "df['first'] = df['first'].str.upper()"
   ]
  },
  {
   "cell_type": "code",
   "execution_count": 236,
   "id": "813967a1",
   "metadata": {},
   "outputs": [
    {
     "data": {
      "text/html": [
       "<div>\n",
       "<style scoped>\n",
       "    .dataframe tbody tr th:only-of-type {\n",
       "        vertical-align: middle;\n",
       "    }\n",
       "\n",
       "    .dataframe tbody tr th {\n",
       "        vertical-align: top;\n",
       "    }\n",
       "\n",
       "    .dataframe thead th {\n",
       "        text-align: right;\n",
       "    }\n",
       "</style>\n",
       "<table border=\"1\" class=\"dataframe\">\n",
       "  <thead>\n",
       "    <tr style=\"text-align: right;\">\n",
       "      <th></th>\n",
       "      <th>first</th>\n",
       "      <th>last</th>\n",
       "      <th>E_MAIL</th>\n",
       "    </tr>\n",
       "  </thead>\n",
       "  <tbody>\n",
       "    <tr>\n",
       "      <th>0</th>\n",
       "      <td>ARUN</td>\n",
       "      <td>Balaji</td>\n",
       "      <td>arunadhigaaram@gmail.com</td>\n",
       "    </tr>\n",
       "    <tr>\n",
       "      <th>1</th>\n",
       "      <td>VIJAY</td>\n",
       "      <td>baskar</td>\n",
       "      <td>vijay@gmail.com</td>\n",
       "    </tr>\n",
       "    <tr>\n",
       "      <th>2</th>\n",
       "      <td>KAMALESH</td>\n",
       "      <td>das</td>\n",
       "      <td>kamalesh@email.com</td>\n",
       "    </tr>\n",
       "    <tr>\n",
       "      <th>3</th>\n",
       "      <td>GOKUL</td>\n",
       "      <td>kumar</td>\n",
       "      <td>gokul@gmail.com</td>\n",
       "    </tr>\n",
       "    <tr>\n",
       "      <th>4</th>\n",
       "      <td>KARTHICK</td>\n",
       "      <td>kumar</td>\n",
       "      <td>karthick@gmail.com</td>\n",
       "    </tr>\n",
       "    <tr>\n",
       "      <th>5</th>\n",
       "      <td>ARJUN</td>\n",
       "      <td>Das</td>\n",
       "      <td>arjun@gmail.com</td>\n",
       "    </tr>\n",
       "    <tr>\n",
       "      <th>6</th>\n",
       "      <td>AKSHAY</td>\n",
       "      <td>balaji</td>\n",
       "      <td>akshay@gmail.com</td>\n",
       "    </tr>\n",
       "    <tr>\n",
       "      <th>first</th>\n",
       "      <td>NaN</td>\n",
       "      <td>NaN</td>\n",
       "      <td>NaN</td>\n",
       "    </tr>\n",
       "  </tbody>\n",
       "</table>\n",
       "</div>"
      ],
      "text/plain": [
       "          first    last                    E_MAIL\n",
       "0          ARUN  Balaji  arunadhigaaram@gmail.com\n",
       "1         VIJAY  baskar           vijay@gmail.com\n",
       "2      KAMALESH     das        kamalesh@email.com\n",
       "3         GOKUL   kumar           gokul@gmail.com\n",
       "4      KARTHICK   kumar        karthick@gmail.com\n",
       "5         ARJUN     Das           arjun@gmail.com\n",
       "6        AKSHAY  balaji          akshay@gmail.com\n",
       "first       NaN     NaN                       NaN"
      ]
     },
     "execution_count": 236,
     "metadata": {},
     "output_type": "execute_result"
    }
   ],
   "source": [
    "df"
   ]
  },
  {
   "cell_type": "code",
   "execution_count": 244,
   "id": "66dd2987",
   "metadata": {},
   "outputs": [],
   "source": [
    "#droping last n rows\n",
    "df.drop(df.tail(1).index,inplace=True)\n",
    "\n",
    "'''\n",
    "apply\n",
    "map\n",
    "applymap\n",
    "replace\n",
    "'''\n",
    "def update_lastname(last):\n",
    "    return last.upper()\n",
    "    "
   ]
  },
  {
   "cell_type": "code",
   "execution_count": 246,
   "id": "976c3e56",
   "metadata": {},
   "outputs": [],
   "source": [
    "df['last']= df['last'].apply(update_lastname)"
   ]
  },
  {
   "cell_type": "code",
   "execution_count": 247,
   "id": "daacca69",
   "metadata": {},
   "outputs": [
    {
     "data": {
      "text/html": [
       "<div>\n",
       "<style scoped>\n",
       "    .dataframe tbody tr th:only-of-type {\n",
       "        vertical-align: middle;\n",
       "    }\n",
       "\n",
       "    .dataframe tbody tr th {\n",
       "        vertical-align: top;\n",
       "    }\n",
       "\n",
       "    .dataframe thead th {\n",
       "        text-align: right;\n",
       "    }\n",
       "</style>\n",
       "<table border=\"1\" class=\"dataframe\">\n",
       "  <thead>\n",
       "    <tr style=\"text-align: right;\">\n",
       "      <th></th>\n",
       "      <th>first</th>\n",
       "      <th>last</th>\n",
       "      <th>E_MAIL</th>\n",
       "    </tr>\n",
       "  </thead>\n",
       "  <tbody>\n",
       "    <tr>\n",
       "      <th>0</th>\n",
       "      <td>ARUN</td>\n",
       "      <td>BALAJI</td>\n",
       "      <td>arunadhigaaram@gmail.com</td>\n",
       "    </tr>\n",
       "    <tr>\n",
       "      <th>1</th>\n",
       "      <td>VIJAY</td>\n",
       "      <td>BASKAR</td>\n",
       "      <td>vijay@gmail.com</td>\n",
       "    </tr>\n",
       "    <tr>\n",
       "      <th>2</th>\n",
       "      <td>KAMALESH</td>\n",
       "      <td>DAS</td>\n",
       "      <td>kamalesh@email.com</td>\n",
       "    </tr>\n",
       "    <tr>\n",
       "      <th>3</th>\n",
       "      <td>GOKUL</td>\n",
       "      <td>KUMAR</td>\n",
       "      <td>gokul@gmail.com</td>\n",
       "    </tr>\n",
       "    <tr>\n",
       "      <th>4</th>\n",
       "      <td>KARTHICK</td>\n",
       "      <td>KUMAR</td>\n",
       "      <td>karthick@gmail.com</td>\n",
       "    </tr>\n",
       "    <tr>\n",
       "      <th>5</th>\n",
       "      <td>ARJUN</td>\n",
       "      <td>DAS</td>\n",
       "      <td>arjun@gmail.com</td>\n",
       "    </tr>\n",
       "    <tr>\n",
       "      <th>6</th>\n",
       "      <td>AKSHAY</td>\n",
       "      <td>BALAJI</td>\n",
       "      <td>akshay@gmail.com</td>\n",
       "    </tr>\n",
       "  </tbody>\n",
       "</table>\n",
       "</div>"
      ],
      "text/plain": [
       "      first    last                    E_MAIL\n",
       "0      ARUN  BALAJI  arunadhigaaram@gmail.com\n",
       "1     VIJAY  BASKAR           vijay@gmail.com\n",
       "2  KAMALESH     DAS        kamalesh@email.com\n",
       "3     GOKUL   KUMAR           gokul@gmail.com\n",
       "4  KARTHICK   KUMAR        karthick@gmail.com\n",
       "5     ARJUN     DAS           arjun@gmail.com\n",
       "6    AKSHAY  BALAJI          akshay@gmail.com"
      ]
     },
     "execution_count": 247,
     "metadata": {},
     "output_type": "execute_result"
    }
   ],
   "source": [
    "df"
   ]
  },
  {
   "cell_type": "code",
   "execution_count": 249,
   "id": "b2d31870",
   "metadata": {},
   "outputs": [
    {
     "data": {
      "text/plain": [
       "0    24\n",
       "1    15\n",
       "2    18\n",
       "3    15\n",
       "4    18\n",
       "5    15\n",
       "6    16\n",
       "Name: E_MAIL, dtype: int64"
      ]
     },
     "execution_count": 249,
     "metadata": {},
     "output_type": "execute_result"
    }
   ],
   "source": [
    "df['E_MAIL'].apply(len)"
   ]
  },
  {
   "cell_type": "code",
   "execution_count": 250,
   "id": "25c19aec",
   "metadata": {},
   "outputs": [
    {
     "data": {
      "text/plain": [
       "0    balaji\n",
       "1    baskar\n",
       "2       das\n",
       "3     kumar\n",
       "4     kumar\n",
       "5       das\n",
       "6    balaji\n",
       "Name: last, dtype: object"
      ]
     },
     "execution_count": 250,
     "metadata": {},
     "output_type": "execute_result"
    }
   ],
   "source": [
    "#apply lambda \n",
    "df['last'].apply(lambda a:a.lower())"
   ]
  },
  {
   "cell_type": "code",
   "execution_count": 251,
   "id": "661cc6fc",
   "metadata": {},
   "outputs": [
    {
     "data": {
      "text/plain": [
       "first     7\n",
       "last      7\n",
       "E_MAIL    7\n",
       "dtype: int64"
      ]
     },
     "execution_count": 251,
     "metadata": {},
     "output_type": "execute_result"
    }
   ],
   "source": [
    "df.apply(len) #7 rows"
   ]
  },
  {
   "cell_type": "code",
   "execution_count": 253,
   "id": "e987126c",
   "metadata": {},
   "outputs": [
    {
     "data": {
      "text/plain": [
       "0    3\n",
       "1    3\n",
       "2    3\n",
       "3    3\n",
       "4    3\n",
       "5    3\n",
       "6    3\n",
       "dtype: int64"
      ]
     },
     "execution_count": 253,
     "metadata": {},
     "output_type": "execute_result"
    }
   ],
   "source": [
    "df.apply(len,axis='columns')  #3rows"
   ]
  },
  {
   "cell_type": "code",
   "execution_count": 254,
   "id": "a3c20999",
   "metadata": {},
   "outputs": [
    {
     "data": {
      "text/plain": [
       "first               AKSHAY\n",
       "last                BALAJI\n",
       "E_MAIL    akshay@gmail.com\n",
       "dtype: object"
      ]
     },
     "execution_count": 254,
     "metadata": {},
     "output_type": "execute_result"
    }
   ],
   "source": [
    "df.apply(lambda x:x.min())  #min value in dataframe"
   ]
  },
  {
   "cell_type": "code",
   "execution_count": 255,
   "id": "b84145ea",
   "metadata": {},
   "outputs": [
    {
     "data": {
      "text/html": [
       "<div>\n",
       "<style scoped>\n",
       "    .dataframe tbody tr th:only-of-type {\n",
       "        vertical-align: middle;\n",
       "    }\n",
       "\n",
       "    .dataframe tbody tr th {\n",
       "        vertical-align: top;\n",
       "    }\n",
       "\n",
       "    .dataframe thead th {\n",
       "        text-align: right;\n",
       "    }\n",
       "</style>\n",
       "<table border=\"1\" class=\"dataframe\">\n",
       "  <thead>\n",
       "    <tr style=\"text-align: right;\">\n",
       "      <th></th>\n",
       "      <th>first</th>\n",
       "      <th>last</th>\n",
       "      <th>E_MAIL</th>\n",
       "    </tr>\n",
       "  </thead>\n",
       "  <tbody>\n",
       "    <tr>\n",
       "      <th>0</th>\n",
       "      <td>4</td>\n",
       "      <td>6</td>\n",
       "      <td>24</td>\n",
       "    </tr>\n",
       "    <tr>\n",
       "      <th>1</th>\n",
       "      <td>5</td>\n",
       "      <td>6</td>\n",
       "      <td>15</td>\n",
       "    </tr>\n",
       "    <tr>\n",
       "      <th>2</th>\n",
       "      <td>8</td>\n",
       "      <td>3</td>\n",
       "      <td>18</td>\n",
       "    </tr>\n",
       "    <tr>\n",
       "      <th>3</th>\n",
       "      <td>5</td>\n",
       "      <td>5</td>\n",
       "      <td>15</td>\n",
       "    </tr>\n",
       "    <tr>\n",
       "      <th>4</th>\n",
       "      <td>8</td>\n",
       "      <td>5</td>\n",
       "      <td>18</td>\n",
       "    </tr>\n",
       "    <tr>\n",
       "      <th>5</th>\n",
       "      <td>5</td>\n",
       "      <td>3</td>\n",
       "      <td>15</td>\n",
       "    </tr>\n",
       "    <tr>\n",
       "      <th>6</th>\n",
       "      <td>6</td>\n",
       "      <td>6</td>\n",
       "      <td>16</td>\n",
       "    </tr>\n",
       "  </tbody>\n",
       "</table>\n",
       "</div>"
      ],
      "text/plain": [
       "   first  last  E_MAIL\n",
       "0      4     6      24\n",
       "1      5     6      15\n",
       "2      8     3      18\n",
       "3      5     5      15\n",
       "4      8     5      18\n",
       "5      5     3      15\n",
       "6      6     6      16"
      ]
     },
     "execution_count": 255,
     "metadata": {},
     "output_type": "execute_result"
    }
   ],
   "source": [
    "#Applymap is simalar to apply but it runs for each cell\n",
    "df.applymap(len)"
   ]
  },
  {
   "cell_type": "code",
   "execution_count": 256,
   "id": "947df3b1",
   "metadata": {},
   "outputs": [
    {
     "data": {
      "text/html": [
       "<div>\n",
       "<style scoped>\n",
       "    .dataframe tbody tr th:only-of-type {\n",
       "        vertical-align: middle;\n",
       "    }\n",
       "\n",
       "    .dataframe tbody tr th {\n",
       "        vertical-align: top;\n",
       "    }\n",
       "\n",
       "    .dataframe thead th {\n",
       "        text-align: right;\n",
       "    }\n",
       "</style>\n",
       "<table border=\"1\" class=\"dataframe\">\n",
       "  <thead>\n",
       "    <tr style=\"text-align: right;\">\n",
       "      <th></th>\n",
       "      <th>first</th>\n",
       "      <th>last</th>\n",
       "      <th>E_MAIL</th>\n",
       "    </tr>\n",
       "  </thead>\n",
       "  <tbody>\n",
       "    <tr>\n",
       "      <th>0</th>\n",
       "      <td>arun</td>\n",
       "      <td>balaji</td>\n",
       "      <td>arunadhigaaram@gmail.com</td>\n",
       "    </tr>\n",
       "    <tr>\n",
       "      <th>1</th>\n",
       "      <td>vijay</td>\n",
       "      <td>baskar</td>\n",
       "      <td>vijay@gmail.com</td>\n",
       "    </tr>\n",
       "    <tr>\n",
       "      <th>2</th>\n",
       "      <td>kamalesh</td>\n",
       "      <td>das</td>\n",
       "      <td>kamalesh@email.com</td>\n",
       "    </tr>\n",
       "    <tr>\n",
       "      <th>3</th>\n",
       "      <td>gokul</td>\n",
       "      <td>kumar</td>\n",
       "      <td>gokul@gmail.com</td>\n",
       "    </tr>\n",
       "    <tr>\n",
       "      <th>4</th>\n",
       "      <td>karthick</td>\n",
       "      <td>kumar</td>\n",
       "      <td>karthick@gmail.com</td>\n",
       "    </tr>\n",
       "    <tr>\n",
       "      <th>5</th>\n",
       "      <td>arjun</td>\n",
       "      <td>das</td>\n",
       "      <td>arjun@gmail.com</td>\n",
       "    </tr>\n",
       "    <tr>\n",
       "      <th>6</th>\n",
       "      <td>akshay</td>\n",
       "      <td>balaji</td>\n",
       "      <td>akshay@gmail.com</td>\n",
       "    </tr>\n",
       "  </tbody>\n",
       "</table>\n",
       "</div>"
      ],
      "text/plain": [
       "      first    last                    E_MAIL\n",
       "0      arun  balaji  arunadhigaaram@gmail.com\n",
       "1     vijay  baskar           vijay@gmail.com\n",
       "2  kamalesh     das        kamalesh@email.com\n",
       "3     gokul   kumar           gokul@gmail.com\n",
       "4  karthick   kumar        karthick@gmail.com\n",
       "5     arjun     das           arjun@gmail.com\n",
       "6    akshay  balaji          akshay@gmail.com"
      ]
     },
     "execution_count": 256,
     "metadata": {},
     "output_type": "execute_result"
    }
   ],
   "source": [
    "df.applymap(lambda x : x.lower())"
   ]
  },
  {
   "cell_type": "code",
   "execution_count": 262,
   "id": "f5597d64",
   "metadata": {},
   "outputs": [
    {
     "data": {
      "text/plain": [
       "0      NaN\n",
       "1    Vijay\n",
       "2      NaN\n",
       "3      NaN\n",
       "4      NaN\n",
       "5      NaN\n",
       "6     Arun\n",
       "Name: first, dtype: object"
      ]
     },
     "execution_count": 262,
     "metadata": {},
     "output_type": "execute_result"
    }
   ],
   "source": [
    "#Map substitude\n",
    "df['first'].map({'AKSHAY': 'Arun','VIJAY':'Vijay'}) \n",
    "# avoid map(because it replace NaN value for nonmatching values))\n"
   ]
  },
  {
   "cell_type": "code",
   "execution_count": 263,
   "id": "fd066f4e",
   "metadata": {},
   "outputs": [],
   "source": [
    "df['first']= df['first'].replace({\n",
    "    'ARUN':'Arun',\n",
    "    'VIJAY':'Vijay',\n",
    "})"
   ]
  },
  {
   "cell_type": "code",
   "execution_count": 264,
   "id": "ad7e70f2",
   "metadata": {},
   "outputs": [
    {
     "data": {
      "text/html": [
       "<div>\n",
       "<style scoped>\n",
       "    .dataframe tbody tr th:only-of-type {\n",
       "        vertical-align: middle;\n",
       "    }\n",
       "\n",
       "    .dataframe tbody tr th {\n",
       "        vertical-align: top;\n",
       "    }\n",
       "\n",
       "    .dataframe thead th {\n",
       "        text-align: right;\n",
       "    }\n",
       "</style>\n",
       "<table border=\"1\" class=\"dataframe\">\n",
       "  <thead>\n",
       "    <tr style=\"text-align: right;\">\n",
       "      <th></th>\n",
       "      <th>first</th>\n",
       "      <th>last</th>\n",
       "      <th>E_MAIL</th>\n",
       "    </tr>\n",
       "  </thead>\n",
       "  <tbody>\n",
       "    <tr>\n",
       "      <th>0</th>\n",
       "      <td>Arun</td>\n",
       "      <td>BALAJI</td>\n",
       "      <td>arunadhigaaram@gmail.com</td>\n",
       "    </tr>\n",
       "    <tr>\n",
       "      <th>1</th>\n",
       "      <td>Vijay</td>\n",
       "      <td>BASKAR</td>\n",
       "      <td>vijay@gmail.com</td>\n",
       "    </tr>\n",
       "    <tr>\n",
       "      <th>2</th>\n",
       "      <td>KAMALESH</td>\n",
       "      <td>DAS</td>\n",
       "      <td>kamalesh@email.com</td>\n",
       "    </tr>\n",
       "    <tr>\n",
       "      <th>3</th>\n",
       "      <td>GOKUL</td>\n",
       "      <td>KUMAR</td>\n",
       "      <td>gokul@gmail.com</td>\n",
       "    </tr>\n",
       "    <tr>\n",
       "      <th>4</th>\n",
       "      <td>KARTHICK</td>\n",
       "      <td>KUMAR</td>\n",
       "      <td>karthick@gmail.com</td>\n",
       "    </tr>\n",
       "    <tr>\n",
       "      <th>5</th>\n",
       "      <td>ARJUN</td>\n",
       "      <td>DAS</td>\n",
       "      <td>arjun@gmail.com</td>\n",
       "    </tr>\n",
       "    <tr>\n",
       "      <th>6</th>\n",
       "      <td>AKSHAY</td>\n",
       "      <td>BALAJI</td>\n",
       "      <td>akshay@gmail.com</td>\n",
       "    </tr>\n",
       "  </tbody>\n",
       "</table>\n",
       "</div>"
      ],
      "text/plain": [
       "      first    last                    E_MAIL\n",
       "0      Arun  BALAJI  arunadhigaaram@gmail.com\n",
       "1     Vijay  BASKAR           vijay@gmail.com\n",
       "2  KAMALESH     DAS        kamalesh@email.com\n",
       "3     GOKUL   KUMAR           gokul@gmail.com\n",
       "4  KARTHICK   KUMAR        karthick@gmail.com\n",
       "5     ARJUN     DAS           arjun@gmail.com\n",
       "6    AKSHAY  BALAJI          akshay@gmail.com"
      ]
     },
     "execution_count": 264,
     "metadata": {},
     "output_type": "execute_result"
    }
   ],
   "source": [
    "df"
   ]
  },
  {
   "cell_type": "code",
   "execution_count": null,
   "id": "0ef645d0",
   "metadata": {},
   "outputs": [],
   "source": []
  }
 ],
 "metadata": {
  "kernelspec": {
   "display_name": "Python 3",
   "language": "python",
   "name": "python3"
  },
  "language_info": {
   "codemirror_mode": {
    "name": "ipython",
    "version": 3
   },
   "file_extension": ".py",
   "mimetype": "text/x-python",
   "name": "python",
   "nbconvert_exporter": "python",
   "pygments_lexer": "ipython3",
   "version": "3.7.7"
  }
 },
 "nbformat": 4,
 "nbformat_minor": 5
}
