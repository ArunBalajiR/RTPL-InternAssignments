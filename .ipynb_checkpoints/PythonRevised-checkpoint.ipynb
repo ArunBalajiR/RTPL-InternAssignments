{
 "cells": [
  {
   "cell_type": "code",
   "execution_count": 1,
   "id": "e4f3cee2",
   "metadata": {},
   "outputs": [
    {
     "name": "stdout",
     "output_type": "stream",
     "text": [
      "Hi I'm Arun Balji\n",
      "How are you ? \n"
     ]
    }
   ],
   "source": [
    "#String literals\n",
    "var1 = \"Hi I'm Arun Balji\"\n",
    "var2 = \"How are you ? \"\n",
    "print(var1)\n",
    "print(var2)"
   ]
  },
  {
   "cell_type": "code",
   "execution_count": 3,
   "id": "13c0620d",
   "metadata": {},
   "outputs": [
    {
     "name": "stdout",
     "output_type": "stream",
     "text": [
      "None\n"
     ]
    }
   ],
   "source": [
    "#Special Literal None\n",
    "valueNone = None;\n",
    "print(valueNone)"
   ]
  },
  {
   "cell_type": "code",
   "execution_count": 4,
   "id": "d670ee3a",
   "metadata": {},
   "outputs": [
    {
     "name": "stdout",
     "output_type": "stream",
     "text": [
      "helloworld\n"
     ]
    }
   ],
   "source": [
    "#String litetral\n",
    "text1 = 'hello\\\n",
    "world'\n",
    "print(text1)"
   ]
  },
  {
   "cell_type": "code",
   "execution_count": 5,
   "id": "e554661c",
   "metadata": {},
   "outputs": [
    {
     "name": "stdout",
     "output_type": "stream",
     "text": [
      "I'm a CSE Undergrad\n",
      "Studying in KLN College of Engineering\n"
     ]
    }
   ],
   "source": [
    "#Multiline\n",
    "desc = '''I\\'m a CSE Undergrad\n",
    "Studying in KLN College of Engineering'''\n",
    "print(desc)"
   ]
  },
  {
   "cell_type": "code",
   "execution_count": 6,
   "id": "141ac445",
   "metadata": {},
   "outputs": [
    {
     "name": "stdout",
     "output_type": "stream",
     "text": [
      "12\n",
      "8\n",
      "20\n",
      "5.0\n",
      "100\n"
     ]
    }
   ],
   "source": [
    "#Arithmetic Operators\n",
    "print(10+2)\n",
    "print(10-2)\n",
    "print(10*2)\n",
    "print(10/2)\n",
    "print(10**2)\n"
   ]
  },
  {
   "cell_type": "code",
   "execution_count": 11,
   "id": "7ebcc75b",
   "metadata": {},
   "outputs": [
    {
     "name": "stdout",
     "output_type": "stream",
     "text": [
      "400 30\n"
     ]
    }
   ],
   "source": [
    "#Assignment Operators\n",
    "#=,+=,*=,/=..\n",
    "a=20\n",
    "b=10\n",
    "b+=a\n",
    "a*=a\n",
    "print(a,b)"
   ]
  },
  {
   "cell_type": "code",
   "execution_count": 12,
   "id": "c6b3d267",
   "metadata": {},
   "outputs": [
    {
     "name": "stdout",
     "output_type": "stream",
     "text": [
      "False\n",
      "True\n",
      "False\n",
      "True\n"
     ]
    }
   ],
   "source": [
    "#Comparison Operator\n",
    "print(5>9)\n",
    "print(10<20)\n",
    "print(23=='23')\n",
    "print('arun'=='arun')"
   ]
  },
  {
   "cell_type": "code",
   "execution_count": 13,
   "id": "9f186556",
   "metadata": {},
   "outputs": [
    {
     "name": "stdout",
     "output_type": "stream",
     "text": [
      "True\n"
     ]
    }
   ],
   "source": [
    "#Logical Operator AND OR NOT\n",
    "a,b=10,2\n",
    "ans = a>2 and b>1\n",
    "print(ans)"
   ]
  },
  {
   "cell_type": "code",
   "execution_count": 14,
   "id": "fc27625f",
   "metadata": {},
   "outputs": [
    {
     "name": "stdout",
     "output_type": "stream",
     "text": [
      "0\n",
      "3\n"
     ]
    }
   ],
   "source": [
    "#Bitwise Operator\n",
    "print(4&2)\n",
    "print(2|1)"
   ]
  },
  {
   "cell_type": "code",
   "execution_count": 18,
   "id": "18fb8c6b",
   "metadata": {},
   "outputs": [
    {
     "name": "stdout",
     "output_type": "stream",
     "text": [
      "True\n",
      "True\n",
      "False\n"
     ]
    }
   ],
   "source": [
    "#Identity Operator\n",
    "x = 10\n",
    "y = 10\n",
    "print(x is y)\n",
    "print(y is not 20)\n",
    "print(2 is x)"
   ]
  },
  {
   "cell_type": "code",
   "execution_count": 20,
   "id": "172a9d07",
   "metadata": {},
   "outputs": [
    {
     "name": "stdout",
     "output_type": "stream",
     "text": [
      "True\n",
      "False\n"
     ]
    }
   ],
   "source": [
    "#Member Ship Operator\n",
    "chars = ['arun','vijay','balaji']\n",
    "print('arun' in chars)\n",
    "print('ajay' in chars)"
   ]
  },
  {
   "cell_type": "code",
   "execution_count": 22,
   "id": "f01d4a8c",
   "metadata": {},
   "outputs": [
    {
     "name": "stdout",
     "output_type": "stream",
     "text": [
      "<class 'str'>\n",
      "<class 'float'>\n",
      "<class 'int'>\n",
      "<class 'complex'>\n"
     ]
    }
   ],
   "source": [
    "#DataTypes in python\n",
    "message = \"it is a string\"\n",
    "floating = 123.442\n",
    "integer = 2323\n",
    "complexx = 12+2j\n",
    "\n",
    "print(type(message))\n",
    "print(type(floating))\n",
    "print(type(integer))\n",
    "print(type(complexx))\n"
   ]
  },
  {
   "cell_type": "code",
   "execution_count": 24,
   "id": "e70700e2",
   "metadata": {},
   "outputs": [
    {
     "name": "stdout",
     "output_type": "stream",
     "text": [
      "i\n",
      "This \n",
      "g\n",
      "is strin\n"
     ]
    }
   ],
   "source": [
    "#String Operations\n",
    "#Slicing\n",
    "str1 = \"This is string\"\n",
    "print(str1[2])\n",
    "print(str1[0:5])\n",
    "print(str1[-1])  \n",
    "print((str1[5:-1]))"
   ]
  },
  {
   "cell_type": "code",
   "execution_count": 26,
   "id": "b1c58895",
   "metadata": {},
   "outputs": [
    {
     "name": "stdout",
     "output_type": "stream",
     "text": [
      "-1\n",
      "0\n"
     ]
    }
   ],
   "source": [
    "print(str1.find('this'))\n",
    "print(str1.find('This'))\n"
   ]
  },
  {
   "cell_type": "code",
   "execution_count": 28,
   "id": "01117d99",
   "metadata": {},
   "outputs": [
    {
     "data": {
      "text/plain": [
       "'This is Sentence'"
      ]
     },
     "execution_count": 28,
     "metadata": {},
     "output_type": "execute_result"
    }
   ],
   "source": [
    "#replace()\n",
    "\n",
    "str1.replace(\"string\",\"Sentence\")"
   ]
  },
  {
   "cell_type": "code",
   "execution_count": 30,
   "id": "f154a8a8",
   "metadata": {},
   "outputs": [
    {
     "data": {
      "text/plain": [
       "['This', 'is', 'string']"
      ]
     },
     "execution_count": 30,
     "metadata": {},
     "output_type": "execute_result"
    }
   ],
   "source": [
    "#Split()\n",
    "ans = str1.split(' ')\n",
    "ans"
   ]
  },
  {
   "cell_type": "code",
   "execution_count": 44,
   "id": "81a7b58c",
   "metadata": {},
   "outputs": [
    {
     "name": "stdout",
     "output_type": "stream",
     "text": [
      "[1, 2, 3, 4, 5]\n",
      "['a', 'b', 'c']\n",
      "[1, 2, 3, 4, 5, 6]\n",
      "['a', 'b', 'c', 8]\n",
      "[1, 2, 3, 4, 5, 6, 'a', 'b', 'c', 8]\n"
     ]
    }
   ],
   "source": [
    "#LIst \n",
    "#list is mutable\n",
    "a = [1,2,3,4,5]\n",
    "b=[\"a\",\"b\",\"c\"]\n",
    "print(a)\n",
    "print(b)\n",
    "a.append(6)\n",
    "b.append(8)\n",
    "print(a)\n",
    "print(b)\n",
    "a.extend(b)\n",
    "print(a)"
   ]
  },
  {
   "cell_type": "code",
   "execution_count": 34,
   "id": "c3aebef7",
   "metadata": {},
   "outputs": [
    {
     "name": "stdout",
     "output_type": "stream",
     "text": [
      "('a', 'b', 'c', 'd')\n"
     ]
    }
   ],
   "source": [
    "#Tuple\n",
    "\n",
    "myTuple = ('a','b','c','d')\n",
    "print(myTuple)\n",
    "#it is immutable\n",
    "# myTuple[2] = \"2\" it gives error"
   ]
  },
  {
   "cell_type": "code",
   "execution_count": 35,
   "id": "3ac02013",
   "metadata": {},
   "outputs": [
    {
     "data": {
      "text/plain": [
       "'b'"
      ]
     },
     "execution_count": 35,
     "metadata": {},
     "output_type": "execute_result"
    }
   ],
   "source": [
    "myTuple[1]"
   ]
  },
  {
   "cell_type": "code",
   "execution_count": 37,
   "id": "af778a0a",
   "metadata": {},
   "outputs": [
    {
     "data": {
      "text/plain": [
       "('b', 'c', 'd')"
      ]
     },
     "execution_count": 37,
     "metadata": {},
     "output_type": "execute_result"
    }
   ],
   "source": [
    "myTuple[1:4]"
   ]
  },
  {
   "cell_type": "code",
   "execution_count": 40,
   "id": "0c1271bd",
   "metadata": {},
   "outputs": [
    {
     "data": {
      "text/plain": [
       "{1: 'Arun', 2: 'Vijay', 3: 'Gokul', 4: 'Balaji'}"
      ]
     },
     "execution_count": 40,
     "metadata": {},
     "output_type": "execute_result"
    }
   ],
   "source": [
    "#Dictionary-key value pairs\n",
    "myDict = {\n",
    "    1: 'Arun',\n",
    "    2: 'Vijay',\n",
    "    3: 'Gokul',\n",
    "    4: 'Balaji'\n",
    "    \n",
    "}\n",
    "myDict"
   ]
  },
  {
   "cell_type": "code",
   "execution_count": 41,
   "id": "2f54a031",
   "metadata": {},
   "outputs": [
    {
     "data": {
      "text/plain": [
       "'Gokul'"
      ]
     },
     "execution_count": 41,
     "metadata": {},
     "output_type": "execute_result"
    }
   ],
   "source": [
    "myDict[3]"
   ]
  },
  {
   "cell_type": "code",
   "execution_count": 45,
   "id": "c227367e",
   "metadata": {},
   "outputs": [
    {
     "data": {
      "text/plain": [
       "dict_keys([1, 2, 3, 4])"
      ]
     },
     "execution_count": 45,
     "metadata": {},
     "output_type": "execute_result"
    }
   ],
   "source": [
    "myDict.keys()"
   ]
  },
  {
   "cell_type": "code",
   "execution_count": 46,
   "id": "046f86d9",
   "metadata": {},
   "outputs": [
    {
     "data": {
      "text/plain": [
       "dict_values(['Arun', 'Vijay', 'Gokul', 'Balaji'])"
      ]
     },
     "execution_count": 46,
     "metadata": {},
     "output_type": "execute_result"
    }
   ],
   "source": [
    "myDict.values()"
   ]
  },
  {
   "cell_type": "code",
   "execution_count": 47,
   "id": "579c3a1b",
   "metadata": {},
   "outputs": [
    {
     "name": "stdout",
     "output_type": "stream",
     "text": [
      "{1, 2, 3, 4, 5, 6, 7}\n"
     ]
    }
   ],
   "source": [
    "#Set \n",
    "mySet = {1,2,3,1,2,3,1,2,3,3,3,3,4,4,5,6,7,7}\n",
    "\n",
    "print(mySet)"
   ]
  },
  {
   "cell_type": "code",
   "execution_count": 48,
   "id": "85e103e8",
   "metadata": {},
   "outputs": [
    {
     "data": {
      "text/plain": [
       "{1, 2, 3, 4, 'a', 'b', 'c'}"
      ]
     },
     "execution_count": 48,
     "metadata": {},
     "output_type": "execute_result"
    }
   ],
   "source": [
    "#pipe to merge sets (Union)\n",
    "set1={1,2,4,'a','b','c'}\n",
    "set2={'a','c',3,4}\n",
    "set1|set2   "
   ]
  },
  {
   "cell_type": "code",
   "execution_count": 49,
   "id": "51e4501c",
   "metadata": {},
   "outputs": [
    {
     "data": {
      "text/plain": [
       "{4, 'a', 'c'}"
      ]
     },
     "execution_count": 49,
     "metadata": {},
     "output_type": "execute_result"
    }
   ],
   "source": [
    "#& intersefction\n",
    "set1&set2"
   ]
  },
  {
   "cell_type": "code",
   "execution_count": 50,
   "id": "48d1a17e",
   "metadata": {},
   "outputs": [
    {
     "data": {
      "text/plain": [
       "{1, 2, 'b'}"
      ]
     },
     "execution_count": 50,
     "metadata": {},
     "output_type": "execute_result"
    }
   ],
   "source": [
    "#difference\n",
    "set1-set2  "
   ]
  },
  {
   "cell_type": "code",
   "execution_count": 51,
   "id": "3b9288b3",
   "metadata": {},
   "outputs": [
    {
     "name": "stdout",
     "output_type": "stream",
     "text": [
      "Your age is 18\n"
     ]
    }
   ],
   "source": [
    "#Control flow\n",
    "age=18\n",
    "if(age==18):\n",
    "    print('Your age is 18')\n",
    "elif(age>18):\n",
    "    print('Your eligible for vote')\n",
    "else:\n",
    "    print('your children')"
   ]
  },
  {
   "cell_type": "code",
   "execution_count": 52,
   "id": "5a93dce3",
   "metadata": {},
   "outputs": [
    {
     "name": "stdout",
     "output_type": "stream",
     "text": [
      "peacok\n",
      "pigeon\n",
      "crow\n",
      "parrot\n",
      "squirrel\n"
     ]
    }
   ],
   "source": [
    "#for loop\n",
    "birds = ['peacok','pigeon','crow','parrot','squirrel']\n",
    "for _ in birds:\n",
    "    print(_)"
   ]
  },
  {
   "cell_type": "code",
   "execution_count": 60,
   "id": "f0a0c291",
   "metadata": {},
   "outputs": [
    {
     "name": "stdout",
     "output_type": "stream",
     "text": [
      "1: Odd\n",
      "2: Even\n",
      "3: Odd\n",
      "4: Even\n",
      "5: Odd\n",
      "6: Even\n",
      "7: Odd\n",
      "8: Even\n",
      "9: Odd\n",
      "10: Even\n"
     ]
    }
   ],
   "source": [
    "for i in range(1,11):\n",
    "    if(i%2==0):\n",
    "        print(str(i)+\": Even\")\n",
    "    else:\n",
    "        print(str(i)+\": Odd\")"
   ]
  },
  {
   "cell_type": "code",
   "execution_count": 61,
   "id": "b5bb7d07",
   "metadata": {},
   "outputs": [
    {
     "name": "stdout",
     "output_type": "stream",
     "text": [
      "1: Odd\n",
      "2: Even\n",
      "3: Odd\n",
      "4: Even\n",
      "5: Odd\n",
      "6: Even\n",
      "7: Odd\n",
      "8: Even\n",
      "9: Odd\n",
      "10: Even\n"
     ]
    }
   ],
   "source": [
    "for i in range(1,11):\n",
    "    if(i%2==0):\n",
    "        print(str(i)+\": Even\")\n",
    "    else:\n",
    "        print(str(i)+\": Odd\")"
   ]
  },
  {
   "cell_type": "code",
   "execution_count": 62,
   "id": "375408ee",
   "metadata": {},
   "outputs": [
    {
     "name": "stdout",
     "output_type": "stream",
     "text": [
      "Welcome\n"
     ]
    }
   ],
   "source": [
    "#Functions in Python\n",
    "def welcome():\n",
    "    print(\"Welcome\")\n",
    "welcome()"
   ]
  },
  {
   "cell_type": "code",
   "execution_count": 64,
   "id": "500ae3f4",
   "metadata": {},
   "outputs": [
    {
     "name": "stdout",
     "output_type": "stream",
     "text": [
      "5\n"
     ]
    }
   ],
   "source": []
  },
  {
   "cell_type": "code",
   "execution_count": 65,
   "id": "78e1eef4",
   "metadata": {},
   "outputs": [
    {
     "name": "stdout",
     "output_type": "stream",
     "text": [
      "['A', 'B', 'C']\n",
      "['E', 'D']\n"
     ]
    }
   ],
   "source": [
    "def set_list(list):\n",
    "    list = [\"A\", \"B\", \"C\"]\n",
    "    return list\n",
    "  \n",
    "def add(list):\n",
    "    list.append(\"D\")\n",
    "    return list\n",
    "  \n",
    "my_list = [\"E\"]\n",
    "  \n",
    "print(set_list(my_list))\n",
    "  \n",
    "print(add(my_list))\n",
    "    "
   ]
  },
  {
   "cell_type": "code",
   "execution_count": 66,
   "id": "71cdb271",
   "metadata": {},
   "outputs": [
    {
     "data": {
      "text/plain": [
       "8"
      ]
     },
     "execution_count": 66,
     "metadata": {},
     "output_type": "execute_result"
    }
   ],
   "source": [
    "x = lambda a,b: a*b\n",
    "x(2,4)"
   ]
  },
  {
   "cell_type": "code",
   "execution_count": null,
   "id": "16dcf0a7",
   "metadata": {},
   "outputs": [],
   "source": []
  }
 ],
 "metadata": {
  "kernelspec": {
   "display_name": "Python 3",
   "language": "python",
   "name": "python3"
  },
  "language_info": {
   "codemirror_mode": {
    "name": "ipython",
    "version": 3
   },
   "file_extension": ".py",
   "mimetype": "text/x-python",
   "name": "python",
   "nbconvert_exporter": "python",
   "pygments_lexer": "ipython3",
   "version": "3.7.7"
  }
 },
 "nbformat": 4,
 "nbformat_minor": 5
}
